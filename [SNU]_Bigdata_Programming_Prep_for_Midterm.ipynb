{
 "cells": [
  {
   "cell_type": "code",
   "execution_count": 5,
   "metadata": {
    "collapsed": true
   },
   "outputs": [],
   "source": [
    "## Function Practice\n",
    "# 1 \n",
    "# return the number of odd element in a given list\n",
    "# 리스트 안의 홀수 갯수 내놓는 함수\n",
    "def f1(lst):\n",
    "    count = 0\n",
    "    for i in lst:\n",
    "        if i%2 == 1:\n",
    "            count +=1\n",
    "    return count"
   ]
  },
  {
   "cell_type": "code",
   "execution_count": 6,
   "metadata": {},
   "outputs": [
    {
     "data": {
      "text/plain": [
       "2"
      ]
     },
     "execution_count": 6,
     "metadata": {},
     "output_type": "execute_result"
    }
   ],
   "source": [
    "f1([1,2,3,4])"
   ]
  },
  {
   "cell_type": "code",
   "execution_count": 7,
   "metadata": {
    "collapsed": true
   },
   "outputs": [],
   "source": [
    "# 2\n",
    "# print each odd element in a given list\n",
    "# 리스트 안의 홀수 출력하는 함수\n",
    "def f2(lst):\n",
    "    for i in lst:\n",
    "        if i%2 == 1:\n",
    "            print (i)"
   ]
  },
  {
   "cell_type": "code",
   "execution_count": 8,
   "metadata": {},
   "outputs": [
    {
     "name": "stdout",
     "output_type": "stream",
     "text": [
      "1\n",
      "3\n",
      "5\n"
     ]
    }
   ],
   "source": [
    "f2([1,2,3,4,5])"
   ]
  },
  {
   "cell_type": "code",
   "execution_count": 11,
   "metadata": {
    "collapsed": true
   },
   "outputs": [],
   "source": [
    "# 3 \n",
    "# return the sum of all odd elem. in the list\n",
    "# 리스트 안의 홀수 합을 구하는 함수\n",
    "def f3(lst):\n",
    "    sum = 0\n",
    "    for i in lst:\n",
    "        if i%2 == 1:\n",
    "            sum += i\n",
    "    print (sum) # 마지막 프린트 위치 중요함"
   ]
  },
  {
   "cell_type": "code",
   "execution_count": 12,
   "metadata": {},
   "outputs": [
    {
     "name": "stdout",
     "output_type": "stream",
     "text": [
      "4\n"
     ]
    }
   ],
   "source": [
    "f3([1,2,3,4])"
   ]
  },
  {
   "cell_type": "code",
   "execution_count": 13,
   "metadata": {
    "collapsed": true
   },
   "outputs": [],
   "source": [
    "# 4 \n",
    "# return the sum of all index positions whose corresponding elem. is odd\n",
    "# 리스트 안의 홀수가 가지는 인덱스의 합 리턴\n",
    "def f4(lst):\n",
    "    sum = 0\n",
    "    for i in range(len(lst)):\n",
    "        if lst[i]%2 ==1:\n",
    "            sum += i\n",
    "    return sum"
   ]
  },
  {
   "cell_type": "code",
   "execution_count": 15,
   "metadata": {},
   "outputs": [
    {
     "data": {
      "text/plain": [
       "6"
      ]
     },
     "execution_count": 15,
     "metadata": {},
     "output_type": "execute_result"
    }
   ],
   "source": [
    "f4([1,2,3,4,5])"
   ]
  },
  {
   "cell_type": "code",
   "execution_count": 16,
   "metadata": {
    "collapsed": true
   },
   "outputs": [],
   "source": [
    "# 5\n",
    "# return the same list where each elem. is squared\n",
    "# 각 원소 제곱한 같은 길이의 리스트 리턴\n",
    "def f5(lst):\n",
    "    tmp = []\n",
    "    for i in lst:\n",
    "        tmp.append(i**2)\n",
    "    return tmp"
   ]
  },
  {
   "cell_type": "code",
   "execution_count": 17,
   "metadata": {},
   "outputs": [
    {
     "data": {
      "text/plain": [
       "[1, 4, 9, 16]"
      ]
     },
     "execution_count": 17,
     "metadata": {},
     "output_type": "execute_result"
    }
   ],
   "source": [
    "f5([1,2,3,4])"
   ]
  },
  {
   "cell_type": "code",
   "execution_count": 25,
   "metadata": {
    "collapsed": true
   },
   "outputs": [],
   "source": [
    "# 6\n",
    "# return the largest number in a given list\n",
    "# 리스트 안의 최댓값 리턴\n",
    "def f6(lst):\n",
    "    if lst == []:\n",
    "        return None\n",
    "    max = lst[0]\n",
    "    for i in lst:\n",
    "        if i > max: \n",
    "            max = i\n",
    "    return max"
   ]
  },
  {
   "cell_type": "code",
   "execution_count": 26,
   "metadata": {},
   "outputs": [
    {
     "data": {
      "text/plain": [
       "6"
      ]
     },
     "execution_count": 26,
     "metadata": {},
     "output_type": "execute_result"
    }
   ],
   "source": [
    "f6([1,4,6,5,3])"
   ]
  },
  {
   "cell_type": "code",
   "execution_count": 32,
   "metadata": {
    "collapsed": true
   },
   "outputs": [],
   "source": [
    "# 7 \n",
    "# return the average of all the numbers in the list\n",
    "def f7(lst):\n",
    "    sum = 0\n",
    "    \n",
    "    for i in lst:\n",
    "        sum += i\n",
    "    return sum/len(lst)"
   ]
  },
  {
   "cell_type": "code",
   "execution_count": 33,
   "metadata": {},
   "outputs": [
    {
     "data": {
      "text/plain": [
       "2.5"
      ]
     },
     "execution_count": 33,
     "metadata": {},
     "output_type": "execute_result"
    }
   ],
   "source": [
    "f7([1,2,3,4])"
   ]
  },
  {
   "cell_type": "code",
   "execution_count": 34,
   "metadata": {
    "collapsed": true
   },
   "outputs": [],
   "source": [
    "# 8 \n",
    "# print all the numbers divisible by n within the range a and b inclusive.\n",
    "# n is positive\n",
    "# a와 b를 포함하는 구간의 있는 숫자들 중에, n으로 나누어 떨어지는 숫자들을 프린트\n",
    "def f8(a,b,n):\n",
    "    for i in range(a,b+1):\n",
    "        if i%n == 0:\n",
    "            print (i)"
   ]
  },
  {
   "cell_type": "code",
   "execution_count": 35,
   "metadata": {},
   "outputs": [
    {
     "name": "stdout",
     "output_type": "stream",
     "text": [
      "2\n",
      "4\n",
      "6\n",
      "8\n",
      "10\n"
     ]
    }
   ],
   "source": [
    "f8(1,10,2)"
   ]
  },
  {
   "cell_type": "code",
   "execution_count": 54,
   "metadata": {},
   "outputs": [
    {
     "name": "stdout",
     "output_type": "stream",
     "text": [
      "*****\n",
      "*****\n",
      "*****\n",
      "*****\n",
      "*****\n"
     ]
    }
   ],
   "source": [
    "# 9 \n",
    "# print all ASCII rectangle with the given width and height\n",
    "# 별로 사각형 만들기\n",
    "def f9(width, height):\n",
    "    for i in range(height):\n",
    "        print (\"*\"*width)\n",
    "f9(5,5)"
   ]
  },
  {
   "cell_type": "code",
   "execution_count": 62,
   "metadata": {},
   "outputs": [
    {
     "name": "stdout",
     "output_type": "stream",
     "text": [
      "\n",
      "*\n",
      "**\n",
      "***\n",
      "****\n",
      "*****\n"
     ]
    }
   ],
   "source": [
    "# 10\n",
    "# print a triangle with the given height n \n",
    "# 별로 삼각형 만들기\n",
    "# n, non negative\n",
    "def f10(n):\n",
    "    for i in range(n+1):   # 레인지는 마지막 숫자 안 들어간다는 것을 잊지 말게!\n",
    "        print (\"*\" * i)\n",
    "f10(5)"
   ]
  },
  {
   "cell_type": "code",
   "execution_count": 69,
   "metadata": {},
   "outputs": [
    {
     "data": {
      "text/plain": [
       "False"
      ]
     },
     "execution_count": 69,
     "metadata": {},
     "output_type": "execute_result"
    }
   ],
   "source": [
    "# 11\n",
    "# Return True if the list is sorted in descending order. \n",
    "# False otherwise, and return True for the empty list\n",
    "# 갈수록 숫자가 작아지는 리스트이면 True\n",
    "def f11(lst):\n",
    "    idx = 1\n",
    "    while (idx < len(lst)):\n",
    "        if lst[idx-1] < lst[idx]:\n",
    "            return False\n",
    "        idx += 1\n",
    "    return True\n",
    "f11([4,6,3,2,1]) # 이거 봐야해"
   ]
  },
  {
   "cell_type": "code",
   "execution_count": 3,
   "metadata": {},
   "outputs": [
    {
     "data": {
      "text/plain": [
       "False"
      ]
     },
     "execution_count": 3,
     "metadata": {},
     "output_type": "execute_result"
    }
   ],
   "source": [
    "# 12\n",
    "# return True if the list consists of all negative numbers, otherwise False.\n",
    "# return True for empty list\n",
    "def f12(lst):\n",
    "    for num in lst:\n",
    "        if num >= 0:\n",
    "            return False\n",
    "        else:\n",
    "            return True\n",
    "f12([1,-2,3,4,5])"
   ]
  },
  {
   "cell_type": "code",
   "execution_count": 13,
   "metadata": {},
   "outputs": [
    {
     "data": {
      "text/plain": [
       "5"
      ]
     },
     "execution_count": 13,
     "metadata": {},
     "output_type": "execute_result"
    }
   ],
   "source": [
    "# 13\n",
    "# return the index of the last occurence of target in the list\n",
    "# Assume non-empty list, and the list always contain target\n",
    "# 최댓값을 가지는 원소 중 가장 큰 인덱스 값 리턴\n",
    "def f13(lst, target):\n",
    "    t_idx = 0\n",
    "    for i in range(len(lst)):\n",
    "        if lst[i] == target:\n",
    "            t_idx = i # 여기서 자연스럽게 큰 값의 인덱스로 넘어가는구나\n",
    "    return t_idx\n",
    "f13([1,2,3,1,2,3],3)"
   ]
  },
  {
   "cell_type": "code",
   "execution_count": 17,
   "metadata": {},
   "outputs": [
    {
     "data": {
      "text/plain": [
       "4"
      ]
     },
     "execution_count": 17,
     "metadata": {},
     "output_type": "execute_result"
    }
   ],
   "source": [
    "# 14\n",
    "# return the index of the last negative number in the list\n",
    "# Assume non-empty list, and always contain negative number\n",
    "# 마지막에 나오는 음수의 인덱스 값 구하기\n",
    "def f14(lst):\n",
    "    neg_index = 0\n",
    "    for i in range(len(lst)):\n",
    "        if lst[i] < 0 :\n",
    "            neg_index = i\n",
    "    return neg_index\n",
    "f14([1,-2,3,4,-7])"
   ]
  },
  {
   "cell_type": "code",
   "execution_count": 21,
   "metadata": {},
   "outputs": [
    {
     "data": {
      "text/plain": [
       "-4"
      ]
     },
     "execution_count": 21,
     "metadata": {},
     "output_type": "execute_result"
    }
   ],
   "source": [
    "# 15\n",
    "# reteurn the sum of all the elem. at the even index position\n",
    "# 짝수 인덱스를 가지는 원소의 합\n",
    "def f15(lst):\n",
    "    sum = 0\n",
    "    for i in range(len(lst)):\n",
    "        if i%2 == 0:\n",
    "            sum += lst[i]\n",
    "    return sum\n",
    "f15([1,-2,-3,1,-2,-3])"
   ]
  },
  {
   "cell_type": "code",
   "execution_count": 24,
   "metadata": {},
   "outputs": [
    {
     "name": "stdout",
     "output_type": "stream",
     "text": [
      "***\n",
      "**\n",
      "*\n"
     ]
    }
   ],
   "source": [
    "# 16\n",
    "# print out an upside-down triangle\n",
    "# 거꾸로 나오는 삼각형 만들기\n",
    "def f16(n):\n",
    "    for i in range(1, n+1):\n",
    "        print (\"*\" * (n+1-i))\n",
    "f16(3)"
   ]
  },
  {
   "cell_type": "code",
   "execution_count": 28,
   "metadata": {},
   "outputs": [
    {
     "ename": "SyntaxError",
     "evalue": "unexpected EOF while parsing (<ipython-input-28-cb0141905682>, line 9)",
     "output_type": "error",
     "traceback": [
      "\u001b[0;36m  File \u001b[0;32m\"<ipython-input-28-cb0141905682>\"\u001b[0;36m, line \u001b[0;32m9\u001b[0m\n\u001b[0;31m    \u001b[0m\n\u001b[0m    ^\u001b[0m\n\u001b[0;31mSyntaxError\u001b[0m\u001b[0;31m:\u001b[0m unexpected EOF while parsing\n"
     ]
    }
   ],
   "source": [
    "# 17\n",
    "# print out every other elem. in a list in reversed order\n",
    "# 건너뛰며 출력. reverse order.\n",
    "def f17(lst):\n",
    "    if len(lst) == 1:\n",
    "        print (lst)\n",
    "    else:\n",
    "        for i in range(len(lst)):\n",
    "            "
   ]
  },
  {
   "cell_type": "code",
   "execution_count": 32,
   "metadata": {},
   "outputs": [
    {
     "data": {
      "text/plain": [
       "120"
      ]
     },
     "execution_count": 32,
     "metadata": {},
     "output_type": "execute_result"
    }
   ],
   "source": [
    "# 18\n",
    "# n-factorial\n",
    "def f18(n):\n",
    "    mul = 1\n",
    "    for i in range(1, n+1):\n",
    "        mul *= i\n",
    "    return mul\n",
    "f18(5)"
   ]
  },
  {
   "cell_type": "code",
   "execution_count": 44,
   "metadata": {},
   "outputs": [
    {
     "name": "stdout",
     "output_type": "stream",
     "text": [
      "1\n",
      "2\n",
      "6\n",
      "24\n"
     ]
    }
   ],
   "source": [
    "# 19\n",
    "# print the factorial of each elem.\n",
    "# 각 원소의 팩토리얼 출력하는 함수\n",
    " \n",
    "def f19(lst):\n",
    "    for i in lst:\n",
    "        mul = 1\n",
    "        for j in range(1, i+1):\n",
    "            mul *= j\n",
    "        print(mul)\n",
    "              \n",
    "f19([1,2,3,4])"
   ]
  },
  {
   "cell_type": "code",
   "execution_count": 55,
   "metadata": {},
   "outputs": [
    {
     "name": "stdout",
     "output_type": "stream",
     "text": [
      "1 0\n",
      "3 2 1 0\n",
      "5 4 3 2 1 0\n"
     ]
    }
   ],
   "source": [
    "# 20\n",
    "# print a countdown starting from each elem. to zero for a given list\n",
    "def f20(lst):\n",
    "    for i in lst:\n",
    "        tmp = []\n",
    "        for j in range(i,-1,-1):\n",
    "            tmp.append(j)\n",
    "        print(*tmp)\n",
    "f20([1,3,5])"
   ]
  },
  {
   "cell_type": "code",
   "execution_count": 60,
   "metadata": {},
   "outputs": [
    {
     "data": {
      "text/plain": [
       "['baa', [4, True, [10, 5], [1, 2, ['moo']]], ['chirp']]"
      ]
     },
     "execution_count": 60,
     "metadata": {},
     "output_type": "execute_result"
    }
   ],
   "source": [
    "# 숙제 6 이윤섭\n",
    "# flattening the given multi-nested list to the single dimensional \n",
    "def f6(li):\n",
    "    lst = []\n",
    "    for var in li:\n",
    "        if var == []: continue\n",
    "        elif type(var) != list:\n",
    "            lst.append(var)\n",
    "        else:\n",
    "            lst.append(f6(var))\n",
    "    return lst\n",
    "\n",
    "f6(['baa',[4,True,[10,5],[1,2,['moo']]],[\"chirp\"]])"
   ]
  },
  {
   "cell_type": "code",
   "execution_count": 45,
   "metadata": {},
   "outputs": [
    {
     "data": {
      "text/plain": [
       "3"
      ]
     },
     "execution_count": 45,
     "metadata": {},
     "output_type": "execute_result"
    }
   ],
   "source": [
    "# 숙제 14 이윤섭\n",
    "# returns the fist odd number in the list, and None if there are no odd number.\n",
    "def f14(li):\n",
    "    if li == []: \n",
    "        return None\n",
    "    else:\n",
    "        if li[0]%2 ==1:\n",
    "            return li[0]\n",
    "        else:\n",
    "            return f14(li[1:])\n",
    "f14([2,4,3,5,6,7])"
   ]
  },
  {
   "cell_type": "code",
   "execution_count": 46,
   "metadata": {
    "collapsed": true
   },
   "outputs": [],
   "source": [
    "# 내 맡은 부분 8번 16번, 내가 체크할 부분 6번 14번\n",
    "# 8\n",
    "# returns True if the input is palindrome, otherwise False\n",
    "def f8(s):\n",
    "    if len(s) < 2:\n",
    "        return True\n",
    "    if s[0] != s[-1]:\n",
    "        return False\n",
    "    else:\n",
    "        f8(s[1:-1])"
   ]
  },
  {
   "cell_type": "code",
   "execution_count": 47,
   "metadata": {
    "collapsed": true
   },
   "outputs": [],
   "source": [
    "# 16\n",
    "# returns a list of all odd numbers in the list\n",
    "def f16(lst):\n",
    "    if lst == []:\n",
    "        return None\n",
    "    if (lst[0] % 2 == 0):\n",
    "        return f16(lst[1:])\n",
    "    else:\n",
    "        print(lst[0])\n",
    "        return f16(lst[1:])"
   ]
  },
  {
   "cell_type": "code",
   "execution_count": 51,
   "metadata": {},
   "outputs": [
    {
     "data": {
      "text/plain": [
       "['baa', 4, True, 10, 5, 1, 2, 'moo', 'chirp']"
      ]
     },
     "execution_count": 51,
     "metadata": {},
     "output_type": "execute_result"
    }
   ],
   "source": [
    "# 6 이종석\n",
    "def f6(li):\n",
    "    if li == []:\n",
    "        return []\n",
    "    elif type(li[0]) == list:\n",
    "        return f6(li[0]) + f6(li[1:])\n",
    "    else:\n",
    "        return [li[0]] + f6(li[1:])\n",
    "f6(['baa',[4,True,[10,5],[1,2,['moo']]],[\"chirp\"]])"
   ]
  },
  {
   "cell_type": "code",
   "execution_count": null,
   "metadata": {
    "collapsed": true
   },
   "outputs": [],
   "source": [
    "# 6 "
   ]
  }
 ],
 "metadata": {
  "kernelspec": {
   "display_name": "Python 3",
   "language": "python",
   "name": "python3"
  },
  "language_info": {
   "codemirror_mode": {
    "name": "ipython",
    "version": 3
   },
   "file_extension": ".py",
   "mimetype": "text/x-python",
   "name": "python",
   "nbconvert_exporter": "python",
   "pygments_lexer": "ipython3",
   "version": "3.6.1"
  }
 },
 "nbformat": 4,
 "nbformat_minor": 2
}
