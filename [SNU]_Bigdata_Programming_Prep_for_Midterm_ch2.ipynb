{
 "cells": [
  {
   "cell_type": "code",
   "execution_count": 1,
   "metadata": {
    "collapsed": true
   },
   "outputs": [],
   "source": [
    "data = [[1,2,3,4],[2,2,3,4],[3,4,5,6]]"
   ]
  },
  {
   "cell_type": "code",
   "execution_count": 2,
   "metadata": {
    "collapsed": true
   },
   "outputs": [],
   "source": [
    "def sum_matrix(table):\n",
    "    sum = 0\n",
    "    for row in range(0, len(table)):\n",
    "        for col in range(0,len(table[row])):\n",
    "            sum = sum + table[row][col]\n",
    "    return sum"
   ]
  },
  {
   "cell_type": "code",
   "execution_count": 3,
   "metadata": {
    "collapsed": true
   },
   "outputs": [],
   "source": [
    "rows = 3\n",
    "cols = 2\n",
    "a = [([0]*cols) for row in range(rows)]"
   ]
  },
  {
   "cell_type": "code",
   "execution_count": 4,
   "metadata": {},
   "outputs": [
    {
     "name": "stdout",
     "output_type": "stream",
     "text": [
      "[[0, 0], [0, 0], [0, 0]]\n"
     ]
    }
   ],
   "source": [
    "print(a)"
   ]
  },
  {
   "cell_type": "code",
   "execution_count": 7,
   "metadata": {},
   "outputs": [
    {
     "name": "stdout",
     "output_type": "stream",
     "text": [
      "[[0, 0], [0, 0], [0, 0], [0, 0], [0, 0], [0, 0], [0, 0], [0, 0], [0, 0]]\n"
     ]
    }
   ],
   "source": [
    "for row in range(rows):\n",
    "    a += [[0]*cols]\n",
    "print(a)"
   ]
  },
  {
   "cell_type": "code",
   "execution_count": 10,
   "metadata": {},
   "outputs": [
    {
     "data": {
      "text/plain": [
       "[[0, 0], [0, 0]]"
      ]
     },
     "execution_count": 10,
     "metadata": {},
     "output_type": "execute_result"
    }
   ],
   "source": [
    "def make2dList(rows,cols):\n",
    "    a = []\n",
    "    for row in range(rows): a += [[0]*cols]\n",
    "    return a\n",
    "make2dList(2,2)"
   ]
  },
  {
   "cell_type": "code",
   "execution_count": 11,
   "metadata": {
    "collapsed": true
   },
   "outputs": [],
   "source": [
    "for row in range(rows):\n",
    "    for col in range(cols):\n",
    "        a[row][col]+=1"
   ]
  },
  {
   "cell_type": "code",
   "execution_count": 12,
   "metadata": {
    "collapsed": true
   },
   "outputs": [],
   "source": [
    "def isPrime_dumb(n):\n",
    "    if(n<2):\n",
    "        return False\n",
    "    for factor in range(2, n):\n",
    "        if(n% factor == 0):\n",
    "            return False\n",
    "    return True"
   ]
  },
  {
   "cell_type": "code",
   "execution_count": 14,
   "metadata": {},
   "outputs": [
    {
     "name": "stdout",
     "output_type": "stream",
     "text": [
      "2\n",
      "3\n",
      "5\n",
      "7\n"
     ]
    }
   ],
   "source": [
    "for i in range(1, 10):\n",
    "    if isPrime_dumb(i):\n",
    "        print(i)"
   ]
  },
  {
   "cell_type": "code",
   "execution_count": 15,
   "metadata": {
    "collapsed": true
   },
   "outputs": [],
   "source": [
    "# Sieve of Eratosthenes\n",
    "def sift(lst,k):\n",
    "    # mark multiples of k with None\n",
    "    i = 0\n",
    "    while i < len(lst):\n",
    "        if (lst[i]!=None) and lst[i]%k ==0:\n",
    "            lst[i] = None\n",
    "        i=i+1\n",
    "    return lst"
   ]
  },
  {
   "cell_type": "code",
   "execution_count": 16,
   "metadata": {
    "collapsed": true
   },
   "outputs": [],
   "source": [
    "def sift2(lst, k):\n",
    "    i = 0\n",
    "    while i < len(lst):\n",
    "        if lst[i]%k ==0:\n",
    "            lst.remove(lst[i])\n",
    "        else:\n",
    "            i = i+1\n",
    "    return lst"
   ]
  },
  {
   "cell_type": "code",
   "execution_count": 17,
   "metadata": {
    "collapsed": true
   },
   "outputs": [],
   "source": [
    "def sieve(n): #Using the first sift, which filters numbers by using Nones.\n",
    "    numlist = list(range(2, n+1)) #numlist = [2,3,4,5...,n]\n",
    "    primes = []\n",
    "    for i in range(0, len(numlist)): # for i in range(0,1,2,...,(n-1))\n",
    "        if numlist[i] !=None: \n",
    "            primes.append(numlist[i])\n",
    "            sift(numlist, numlist[i])\n",
    "    return primes"
   ]
  },
  {
   "cell_type": "code",
   "execution_count": 18,
   "metadata": {
    "collapsed": true
   },
   "outputs": [],
   "source": [
    "# A Better Sieve\n",
    "def better_sieve(n):\n",
    "    numlist = list(range(2, n+1))\n",
    "    primes = []\n",
    "    i = 0 # index 0 contains number 2\n",
    "    while (i+2) <= math.sqrt(n):\n",
    "        if numlist[i] != None:\n",
    "            primes.append(numlist[i])\n",
    "            sift(numlist, numlist[i])\n",
    "        i = i+1\n",
    "    tmep_list=[]\n",
    "    for i in range(0, len(numlist)):\n",
    "        if numlist[i] != None:\n",
    "            temp_list.append(numlist[i])\n",
    "    numlist = temp_list\n",
    "    return primes_numlist"
   ]
  },
  {
   "cell_type": "code",
   "execution_count": 19,
   "metadata": {},
   "outputs": [
    {
     "name": "stdout",
     "output_type": "stream",
     "text": [
      "2\n",
      "3\n",
      "5\n",
      "7\n",
      "11\n",
      "13\n",
      "17\n",
      "19\n"
     ]
    }
   ],
   "source": [
    "def IsPrime_better(n):\n",
    "    if(n<2):\n",
    "        return False\n",
    "    if (n ==2):\n",
    "        return True\n",
    "    if (n%2 == 0):\n",
    "        return False\n",
    "    for factor in range(3, n, 2):\n",
    "        if (n%factor == 0):\n",
    "            return False\n",
    "    return True\n",
    "\n",
    "for i in range(1, 20):\n",
    "    if IsPrime_better(i):\n",
    "        print(i)"
   ]
  },
  {
   "cell_type": "code",
   "execution_count": 24,
   "metadata": {},
   "outputs": [
    {
     "name": "stdout",
     "output_type": "stream",
     "text": [
      "2\n",
      "3\n",
      "5\n",
      "7\n",
      "11\n",
      "13\n",
      "17\n",
      "19\n",
      "23\n",
      "29\n",
      "31\n",
      "37\n",
      "41\n",
      "43\n",
      "47\n",
      "53\n",
      "59\n",
      "61\n",
      "67\n",
      "71\n",
      "73\n",
      "79\n",
      "83\n",
      "89\n",
      "97\n",
      "0:00:00.005908\n"
     ]
    }
   ],
   "source": [
    "def IsPrime_best(n):\n",
    "    if(n<2): return False\n",
    "    if (n == 2): return True\n",
    "    if (n % 2 == 0):\n",
    "        return False\n",
    "    maxFactor = round(n**0.5)\n",
    "    for factor in range(3, maxFactor+1,2):\n",
    "        if(n%factor == 0):\n",
    "            return False\n",
    "    return True\n",
    "\n",
    "import datetime\n",
    "start = datetime.datetime.now()\n",
    "for i in range(1, 100):\n",
    "    if IsPrime_best(i):\n",
    "        print(i)\n",
    "end = datetime.datetime.now()\n",
    "print(end-start)"
   ]
  },
  {
   "cell_type": "code",
   "execution_count": 33,
   "metadata": {},
   "outputs": [
    {
     "name": "stdout",
     "output_type": "stream",
     "text": [
      "1 \n",
      "1 2 \n",
      "1 2 3 \n"
     ]
    }
   ],
   "source": [
    "''' Looping and Matrix Practice '''\n",
    "# 1\n",
    "# prints the triangle 1 / 1 2 / 1 2 3\n",
    "def f1(n):\n",
    "    for i in range(1, n+1):\n",
    "        for j in range(1, i+1):\n",
    "            print(j, end = ' ')\n",
    "        print()\n",
    "        \n",
    "f1(3)"
   ]
  },
  {
   "cell_type": "code",
   "execution_count": 36,
   "metadata": {},
   "outputs": [
    {
     "name": "stdout",
     "output_type": "stream",
     "text": [
      "1 \n",
      "2 3 \n",
      "4 5 6 \n",
      "7 8 9 10 \n"
     ]
    }
   ],
   "source": [
    "# 2\n",
    "# print the triangle 1 / 2 3 / 4 5 6\n",
    "def f2(n):\n",
    "    num = 1\n",
    "    for i in range(1, n+1):\n",
    "        for j in range(1, i+1):\n",
    "            print(num, end = ' ')\n",
    "            num += 1\n",
    "        print()\n",
    "f2(4)"
   ]
  },
  {
   "cell_type": "code",
   "execution_count": 38,
   "metadata": {},
   "outputs": [
    {
     "name": "stdout",
     "output_type": "stream",
     "text": [
      "1 \n",
      "2 3 \n",
      "4 5 6 \n",
      "2 3 \n",
      "1 \n"
     ]
    }
   ],
   "source": [
    "# 3\n",
    "# prints symmetrical triangle 1 / 2 3 / 4 5 6 / 2 3 / 1\n",
    "def f3(n):\n",
    "    count = 1\n",
    "    for i in range(1, n+1):\n",
    "        for j in range(1, i +1):\n",
    "            print(count, end = ' ')\n",
    "            count +=1\n",
    "        print()\n",
    "    for i in range(n-1):\n",
    "        count = count - (2*(n-i-1)+1)\n",
    "        for j in range(n-i-1):\n",
    "            print(count, end = ' ')\n",
    "            count += 1\n",
    "        print()\n",
    "f3(3)"
   ]
  },
  {
   "cell_type": "code",
   "execution_count": 41,
   "metadata": {},
   "outputs": [
    {
     "name": "stdout",
     "output_type": "stream",
     "text": [
      "1 \n",
      "2 3 \n",
      "4 5 6 \n",
      "7 8 \n",
      "9 \n"
     ]
    }
   ],
   "source": [
    "# 4\n",
    "# prints the following\n",
    "def f4(n):\n",
    "    idx = 1\n",
    "    for i in range(1, 2*n):\n",
    "        if i<=n:\n",
    "            for k in range(idx, idx + i):\n",
    "                print(k, end= ' ' )\n",
    "                idx += 1\n",
    "            print()\n",
    "        else:\n",
    "            for k in range(idx, idx+2*n-i):\n",
    "                print(k, end = ' ' )\n",
    "                idx += 1\n",
    "            print()\n",
    "f4(3)\n",
    " "
   ]
  },
  {
   "cell_type": "code",
   "execution_count": 43,
   "metadata": {},
   "outputs": [
    {
     "name": "stdout",
     "output_type": "stream",
     "text": [
      "6\n",
      "12\n"
     ]
    }
   ],
   "source": [
    "# 5\n",
    "# print the sum of each row of the matrix\n",
    "def f5(mat):\n",
    "    for row in range(0, len(mat)):\n",
    "        sum = 0\n",
    "        for col in range(0, len(mat[row])):\n",
    "            sum = sum + mat[row][col]\n",
    "        print(sum)\n",
    "        \n",
    "f5([[1,2,3],[3,4,5]])"
   ]
  },
  {
   "cell_type": "code",
   "execution_count": 46,
   "metadata": {},
   "outputs": [
    {
     "name": "stdout",
     "output_type": "stream",
     "text": [
      "1\n",
      "5\n",
      "9\n"
     ]
    }
   ],
   "source": [
    "# 6\n",
    "# print the diagonals of the matrix,\n",
    "# assume the matrix is square\n",
    "def f6(matrix):\n",
    "    for i in range(len(matrix)):\n",
    "        print(matrix[i][i])\n",
    "f6([[1,2,3],[4,5,6],[7,8,9]])"
   ]
  },
  {
   "cell_type": "code",
   "execution_count": 50,
   "metadata": {},
   "outputs": [
    {
     "name": "stdout",
     "output_type": "stream",
     "text": [
      "6\n",
      "15\n"
     ]
    }
   ],
   "source": [
    "# 7\n",
    "# pritns the sum of every row in the matrix\n",
    "def f7(matrix):\n",
    "    for row in range(len(matrix)):\n",
    "        rowsum = 0\n",
    "        for col in range(0, len(matrix[row])):\n",
    "            rowsum = rowsum + matrix[row][col]\n",
    "        print(rowsum)\n",
    "f7([[1,2,3],[4,5,6]])"
   ]
  },
  {
   "cell_type": "code",
   "execution_count": 53,
   "metadata": {},
   "outputs": [
    {
     "data": {
      "text/plain": [
       "11"
      ]
     },
     "execution_count": 53,
     "metadata": {},
     "output_type": "execute_result"
    }
   ],
   "source": [
    "# 8 \n",
    "# return sum of aoll the elem. in the matrix\n",
    "def f8(mat):\n",
    "    sum = 0\n",
    "    for row in range(len(mat)):\n",
    "        for col in range(len(mat[row])):\n",
    "            sum += mat[row][col]\n",
    "    return sum\n",
    "f8([[1,0],[9,1]])"
   ]
  },
  {
   "cell_type": "code",
   "execution_count": 71,
   "metadata": {},
   "outputs": [
    {
     "data": {
      "text/plain": [
       "360"
      ]
     },
     "execution_count": 71,
     "metadata": {},
     "output_type": "execute_result"
    }
   ],
   "source": [
    "# 9\n",
    "# returns the product of all the elem. in the matrix\n",
    "def f9(mat):\n",
    "    mul = 1\n",
    "    for row in range(len(mat)):\n",
    "        for col in range(len(mat[row])):\n",
    "            mul *= mat[row][col]\n",
    "        \n",
    "    return mul\n",
    "f9([[1,2,3],[2,5,6]])"
   ]
  },
  {
   "cell_type": "code",
   "execution_count": 73,
   "metadata": {},
   "outputs": [
    {
     "name": "stdout",
     "output_type": "stream",
     "text": [
      "1 3\n",
      "5\n"
     ]
    }
   ],
   "source": [
    "# 10\n",
    "# print the odd numbers in the mat with each row on one line\n",
    "def f10(mat):\n",
    "    for row in range(len(mat)):\n",
    "        tmp = []\n",
    "        for col in range(len(mat[1])):\n",
    "            if mat[row][col]%2 == 1:\n",
    "                tmp.append(mat[row][col])\n",
    "        print(*tmp)\n",
    "        \n",
    "f10([[1,2,3],[4,5,6]])"
   ]
  },
  {
   "cell_type": "code",
   "execution_count": 78,
   "metadata": {
    "collapsed": true
   },
   "outputs": [],
   "source": [
    "# 11\n",
    "# return the sum of matrix1 and matrix2\n",
    "# both mat have same dimension\n",
    "def f11(mat1, mat2):\n",
    "    for i in range(len(mat1)):\n",
    "        for j in range(len(mat1[0])):\n",
    "            mat1[i][j] += mat2[i][j]\n",
    "    return mat1"
   ]
  },
  {
   "cell_type": "code",
   "execution_count": 79,
   "metadata": {},
   "outputs": [
    {
     "data": {
      "text/plain": [
       "[[0, 1, 2], [3, 4, 5]]"
      ]
     },
     "execution_count": 79,
     "metadata": {},
     "output_type": "execute_result"
    }
   ],
   "source": [
    "f11([[1,2,3],[4,5,6]],[[-1,-1,-1],[-1,-1,-1]])"
   ]
  },
  {
   "cell_type": "code",
   "execution_count": 80,
   "metadata": {
    "collapsed": true
   },
   "outputs": [],
   "source": [
    "# 12\n",
    "# return the product of matrix1 and matrix2\n",
    "# Assume len(matrix1[0] == len(matrix2)\n",
    "\n",
    "# inner product\n",
    "def f12_sub1(lst1, lst2):\n",
    "    sum = 0\n",
    "    for i in range(len(lst1)):\n",
    "        sum += lst[i]*lst2[i]\n",
    "    return sum\n",
    "# transpose\n",
    "def f12_sub2(mat):\n",
    "    row = len(mat)\n",
    "    col = len(mat[0])\n",
    "    return [[mat[i][j] for i in range(row)] for j in range(col)]\n",
    "\n",
    "def f12(mat1, mat2):\n",
    "    mat = []\n",
    "    for lst1 in mat1:\n",
    "        row = []\n",
    "        for lst2 in f12_sub2(mat2):\n",
    "            rwo.append(f12_sub1(lst1, lst2))\n",
    "        maat.append(row)\n",
    "    return mat\n",
    "    "
   ]
  },
  {
   "cell_type": "code",
   "execution_count": 82,
   "metadata": {},
   "outputs": [],
   "source": [
    "# 13\n",
    "# returns True if the matrix is identity matrix, False otherwise\n",
    "def f13(mat):\n",
    "    for i in range(len(mat)):\n",
    "        for j in range(len(mat[i])):\n",
    "            if i == j and mat[i][j] !=1: return False\n",
    "            if i != j and mat[i][j] !=0: return False\n",
    "    return True\n"
   ]
  },
  {
   "cell_type": "code",
   "execution_count": null,
   "metadata": {
    "collapsed": true
   },
   "outputs": [],
   "source": [
    "# 14\n",
    "# returns a two dimensional list where each elem. corresponds to how many adjacent neighbors it has\n",
    "def f14(rows, cols):\n",
    "    mat = [[4]*cols for row in range(rows)]\n",
    "    "
   ]
  }
 ],
 "metadata": {
  "kernelspec": {
   "display_name": "Python 3",
   "language": "python",
   "name": "python3"
  },
  "language_info": {
   "codemirror_mode": {
    "name": "ipython",
    "version": 3
   },
   "file_extension": ".py",
   "mimetype": "text/x-python",
   "name": "python",
   "nbconvert_exporter": "python",
   "pygments_lexer": "ipython3",
   "version": "3.6.1"
  }
 },
 "nbformat": 4,
 "nbformat_minor": 2
}
