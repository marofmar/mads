{
 "cells": [
  {
   "cell_type": "code",
   "execution_count": 24,
   "metadata": {
    "collapsed": true
   },
   "outputs": [],
   "source": [
    "from pymongo import MongoClient\n",
    "import pymongo\n",
    "\n",
    "client = MongoClient()\n"
   ]
  },
  {
   "cell_type": "code",
   "execution_count": 3,
   "metadata": {
    "collapsed": true
   },
   "outputs": [],
   "source": [
    "db=client.lab5"
   ]
  },
  {
   "cell_type": "code",
   "execution_count": 7,
   "metadata": {},
   "outputs": [
    {
     "data": {
      "text/plain": [
       "{'_id': ObjectId('5a0146cc720afdfe156acd47'),\n",
       " 'avg_spawns': 69,\n",
       " 'candy': 'Bulbasaur Candy',\n",
       " 'candy_count': 25,\n",
       " 'egg': '2 km',\n",
       " 'height': '0.71 m',\n",
       " 'id': 1,\n",
       " 'img': 'http://www.serebii.net/pokemongo/pokemon/001.png',\n",
       " 'multipliers': [1.58],\n",
       " 'name': 'Bulbasaur',\n",
       " 'next_evolution': [{'name': 'Ivysaur', 'num': '002'},\n",
       "  {'name': 'Venusaur', 'num': '003'}],\n",
       " 'num': '001',\n",
       " 'spawn_chance': 0.69,\n",
       " 'spawn_time': '20:00',\n",
       " 'type': ['Grass', 'Poison'],\n",
       " 'weaknesses': ['Fire', 'Ice', 'Flying', 'Psychic'],\n",
       " 'weight': '6.9 kg'}"
      ]
     },
     "execution_count": 7,
     "metadata": {},
     "output_type": "execute_result"
    }
   ],
   "source": [
    "db.pokemon.find_one()"
   ]
  },
  {
   "cell_type": "code",
   "execution_count": 9,
   "metadata": {},
   "outputs": [
    {
     "data": {
      "text/plain": [
       "'name_1'"
      ]
     },
     "execution_count": 9,
     "metadata": {},
     "output_type": "execute_result"
    }
   ],
   "source": [
    "db.pokemon.create_index(\"name\")"
   ]
  },
  {
   "cell_type": "code",
   "execution_count": 17,
   "metadata": {},
   "outputs": [
    {
     "name": "stdout",
     "output_type": "stream",
     "text": [
      "{'allPlansExecution': [],\n",
      " 'executionStages': {'advanced': 1,\n",
      "                     'alreadyHasObj': 0,\n",
      "                     'docsExamined': 1,\n",
      "                     'executionTimeMillisEstimate': 0,\n",
      "                     'inputStage': {'advanced': 1,\n",
      "                                    'direction': 'forward',\n",
      "                                    'dupsDropped': 0,\n",
      "                                    'dupsTested': 0,\n",
      "                                    'executionTimeMillisEstimate': 0,\n",
      "                                    'indexBounds': {'name': ['[\"Wartortle\", '\n",
      "                                                             '\"Wartortle\"]']},\n",
      "                                    'indexName': 'name_1',\n",
      "                                    'indexVersion': 2,\n",
      "                                    'invalidates': 0,\n",
      "                                    'isEOF': 1,\n",
      "                                    'isMultiKey': False,\n",
      "                                    'isPartial': False,\n",
      "                                    'isSparse': False,\n",
      "                                    'isUnique': False,\n",
      "                                    'keyPattern': {'name': 1},\n",
      "                                    'keysExamined': 1,\n",
      "                                    'nReturned': 1,\n",
      "                                    'needTime': 0,\n",
      "                                    'needYield': 0,\n",
      "                                    'restoreState': 0,\n",
      "                                    'saveState': 0,\n",
      "                                    'seeks': 1,\n",
      "                                    'seenInvalidated': 0,\n",
      "                                    'stage': 'IXSCAN',\n",
      "                                    'works': 2},\n",
      "                     'invalidates': 0,\n",
      "                     'isEOF': 1,\n",
      "                     'nReturned': 1,\n",
      "                     'needTime': 0,\n",
      "                     'needYield': 0,\n",
      "                     'restoreState': 0,\n",
      "                     'saveState': 0,\n",
      "                     'stage': 'FETCH',\n",
      "                     'works': 2},\n",
      " 'executionSuccess': True,\n",
      " 'executionTimeMillis': 0,\n",
      " 'nReturned': 1,\n",
      " 'totalDocsExamined': 1,\n",
      " 'totalKeysExamined': 1}\n"
     ]
    }
   ],
   "source": [
    "from pprint import pprint\n",
    "pprint(db.pokemon.find({\"name\":\"Wartortle\"}).explain()[\"executionStats\"])"
   ]
  },
  {
   "cell_type": "code",
   "execution_count": 45,
   "metadata": {},
   "outputs": [
    {
     "data": {
      "text/plain": [
       "'id_-1_name_1'"
      ]
     },
     "execution_count": 45,
     "metadata": {},
     "output_type": "execute_result"
    }
   ],
   "source": [
    "db.pokemon.create_index([\n",
    "    (\"id\",pymongo.DESCENDING),\n",
    "    (\"name\",pymongo.ASCENDING)], unique = True)"
   ]
  },
  {
   "cell_type": "code",
   "execution_count": 56,
   "metadata": {},
   "outputs": [
    {
     "data": {
      "text/plain": [
       "{'_id_': {'key': [('_id', 1)], 'ns': 'lab5.pokemon', 'v': 2},\n",
       " 'id_1': {'key': [('id', 1)], 'ns': 'lab5.pokemon', 'v': 2},\n",
       " 'name_1': {'key': [('name', 1)], 'ns': 'lab5.pokemon', 'v': 2}}"
      ]
     },
     "execution_count": 56,
     "metadata": {},
     "output_type": "execute_result"
    }
   ],
   "source": [
    "db.pokemon.index_information()"
   ]
  },
  {
   "cell_type": "code",
   "execution_count": 51,
   "metadata": {
    "collapsed": true
   },
   "outputs": [],
   "source": [
    "db.pokemon.drop_indexes()"
   ]
  },
  {
   "cell_type": "code",
   "execution_count": 48,
   "metadata": {},
   "outputs": [
    {
     "data": {
      "text/plain": [
       "{'_id_': {'key': [('_id', 1)], 'ns': 'lab5.pokemon', 'v': 2}}"
      ]
     },
     "execution_count": 48,
     "metadata": {},
     "output_type": "execute_result"
    }
   ],
   "source": [
    "db.pokemon.index_information()"
   ]
  },
  {
   "cell_type": "code",
   "execution_count": 55,
   "metadata": {},
   "outputs": [
    {
     "data": {
      "text/plain": [
       "'id_1'"
      ]
     },
     "execution_count": 55,
     "metadata": {},
     "output_type": "execute_result"
    }
   ],
   "source": [
    "db.pokemon.create_index(\"name\")\n",
    "db.pokemon.create_index(\"id\")"
   ]
  },
  {
   "cell_type": "code",
   "execution_count": 70,
   "metadata": {},
   "outputs": [
    {
     "ename": "SyntaxError",
     "evalue": "invalid syntax (<ipython-input-70-74fb8365f800>, line 1)",
     "output_type": "error",
     "traceback": [
      "\u001b[0;36m  File \u001b[0;32m\"<ipython-input-70-74fb8365f800>\"\u001b[0;36m, line \u001b[0;32m1\u001b[0m\n\u001b[0;31m    db.pokemon.find({$all:[\u001b[0m\n\u001b[0m                     ^\u001b[0m\n\u001b[0;31mSyntaxError\u001b[0m\u001b[0;31m:\u001b[0m invalid syntax\n"
     ]
    }
   ],
   "source": [
    "'''\n",
    "{'_id': ObjectId('5a0146cc720afdfe156acd47'),\n",
    " 'avg_spawns': 69,\n",
    " 'candy': 'Bulbasaur Candy',\n",
    " 'candy_count': 25,\n",
    " 'egg': '2 km',\n",
    " 'height': '0.71 m',\n",
    " 'id': 1,\n",
    " 'img': 'http://www.serebii.net/pokemongo/pokemon/001.png',\n",
    " 'multipliers': [1.58],\n",
    " 'name': 'Bulbasaur',\n",
    " 'next_evolution': [{'name': 'Ivysaur', 'num': '002'},\n",
    "  {'name': 'Venusaur', 'num': '003'}],\n",
    " 'num': '001',\n",
    " 'spawn_chance': 0.69,\n",
    " 'spawn_time': '20:00',\n",
    " 'type': ['Grass', 'Poison'],\n",
    " 'weaknesses': ['Fire', 'Ice', 'Flying', 'Psychic'],\n",
    " 'weight': '6.9 kg'}\n",
    "'''"
   ]
  },
  {
   "cell_type": "code",
   "execution_count": 73,
   "metadata": {},
   "outputs": [],
   "source": []
  },
  {
   "cell_type": "code",
   "execution_count": null,
   "metadata": {
    "collapsed": true
   },
   "outputs": [],
   "source": [
    "import sys\n",
    "obaram = [Scyther, Vileplume, Butterfree]\n",
    "def findWeakness(X):\n",
    "    weakeness = []\n",
    "    for i in X:\n",
    "        db.find_one({\"name\":\"i\"})\n",
    "        \n",
    "    for i in range(1, len(sys.argv)):\n",
    "        wind_pokemon.append(sys.argv[i])\n",
    "    for w in wind_pokemon:\n",
    "        wind_weak.append(pokemon.find_one({\"name\":w})['weakness'])\n",
    "        \n",
    "    for weak_type = set(wind_weak[0])\n",
    "    for w in wind_weak[1:]:\n",
    "        weak_type = weak_type & set(w)\n",
    "        \n",
    "    weak_type = list(weak_type)\n",
    "    \n",
    "    for candidate in pokemon.find(\n",
    "    {\"type\": {\"$in\": weak_type}},\n",
    "    {\"_id\":})\n",
    "        "
   ]
  },
  {
   "cell_type": "code",
   "execution_count": null,
   "metadata": {
    "collapsed": true
   },
   "outputs": [],
   "source": []
  },
  {
   "cell_type": "code",
   "execution_count": null,
   "metadata": {
    "collapsed": true
   },
   "outputs": [],
   "source": [
    "for cand in pokemon.find({\"spqwn_time\":{\"$in\":\n",
    "                                       {}}})"
   ]
  }
 ],
 "metadata": {
  "kernelspec": {
   "display_name": "Python 3",
   "language": "python",
   "name": "python3"
  },
  "language_info": {
   "codemirror_mode": {
    "name": "ipython",
    "version": 3
   },
   "file_extension": ".py",
   "mimetype": "text/x-python",
   "name": "python",
   "nbconvert_exporter": "python",
   "pygments_lexer": "ipython3",
   "version": "3.6.1"
  }
 },
 "nbformat": 4,
 "nbformat_minor": 2
}
