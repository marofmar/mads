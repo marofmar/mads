{
 "cells": [
  {
   "cell_type": "code",
   "execution_count": 1,
   "metadata": {
    "collapsed": true
   },
   "outputs": [],
   "source": [
    "# 8 Graphic, s Helper FUnctions\n",
    "\n",
    "def drawBelgianFlag(canvas, x0, y0,x1, y1):\n",
    "    # in the area bounded by (x0, y0)\n",
    "    # top-left and (x1, y1) inn the bottom right\n",
    "    width = (x1-x0)\n",
    "    canvas.create_rectangle(x0, y0, x0+width/3, y1 = \"black\", width = 0)\n",
    "    canvas.create_rectangle(x0+width*2/3, y0, x1, y1, fill = \"red\", width = 0)\n",
    "    \n",
    "def draw(canvas, width, height):\n",
    "    # Draw a large Belgian flag\n",
    "    drawBelgianFlag(canvas, 25,25,175,150)\n",
    "    \n",
    "    # And draw a smaller one below it\n",
    "    drawBelgianFlag(canvas, 75, 160, 125, 200)\n",
    "    \n",
    "    # Now let's have some fun and draw a whold grid of Belgian flags\n",
    "    flagWidth = 30\n",
    "    flagHeight = 25\n",
    "    margin =5\n",
    "    for row in range(4):\n",
    "        for col in range(6):\n",
    "            left = 200 + col * flagWidth + margin\n",
    "            top = 50 + row * flagHeight + margin\n",
    "            right = left + flagWidth - margin\n",
    "            bottom = top + flagHeight - margin\n",
    "            drawBelgianFlag(canvas, left, top, right, bottom)"
   ]
  },
  {
   "cell_type": "code",
   "execution_count": null,
   "metadata": {
    "collapsed": true
   },
   "outputs": [],
   "source": []
  }
 ],
 "metadata": {
  "kernelspec": {
   "display_name": "Python 3",
   "language": "python",
   "name": "python3"
  },
  "language_info": {
   "codemirror_mode": {
    "name": "ipython",
    "version": 3
   },
   "file_extension": ".py",
   "mimetype": "text/x-python",
   "name": "python",
   "nbconvert_exporter": "python",
   "pygments_lexer": "ipython3",
   "version": "3.6.1"
  }
 },
 "nbformat": 4,
 "nbformat_minor": 2
}
