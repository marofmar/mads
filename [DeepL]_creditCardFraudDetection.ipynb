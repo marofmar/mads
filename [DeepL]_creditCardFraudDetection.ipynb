{
 "cells": [
  {
   "cell_type": "code",
   "execution_count": 1,
   "metadata": {
    "collapsed": true
   },
   "outputs": [],
   "source": [
    "import numpy as np\n",
    "import pandas as pd\n",
    "import pandas as pd\n",
    "import matplotlib as mpl\n",
    "import matplotlib.pyplot as plt\n",
    "import seaborn as sns\n",
    "from sklearn.preprocessing import StandardScaler"
   ]
  },
  {
   "cell_type": "code",
   "execution_count": 2,
   "metadata": {
    "collapsed": true
   },
   "outputs": [],
   "source": [
    "result = pd.read_csv(\"/home/snu/Desktop/hw1-DeepLearning/result.csv\")"
   ]
  },
  {
   "cell_type": "code",
   "execution_count": 3,
   "metadata": {
    "collapsed": true
   },
   "outputs": [],
   "source": [
    "train = pd.read_csv(\"/home/snu/Desktop/hw1-DeepLearning/train.csv\")"
   ]
  },
  {
   "cell_type": "code",
   "execution_count": 4,
   "metadata": {
    "collapsed": true
   },
   "outputs": [],
   "source": [
    "valid = pd.read_csv(\"/home/snu/Desktop/hw1-DeepLearning/valid.csv\")"
   ]
  },
  {
   "cell_type": "code",
   "execution_count": 5,
   "metadata": {
    "collapsed": true
   },
   "outputs": [],
   "source": [
    "test = pd.read_csv(\"/home/snu/Desktop/hw1-DeepLearning/test.csv\")"
   ]
  },
  {
   "cell_type": "code",
   "execution_count": 6,
   "metadata": {},
   "outputs": [
    {
     "data": {
      "text/html": [
       "<div>\n",
       "<style>\n",
       "    .dataframe thead tr:only-child th {\n",
       "        text-align: right;\n",
       "    }\n",
       "\n",
       "    .dataframe thead th {\n",
       "        text-align: left;\n",
       "    }\n",
       "\n",
       "    .dataframe tbody tr th {\n",
       "        vertical-align: top;\n",
       "    }\n",
       "</style>\n",
       "<table border=\"1\" class=\"dataframe\">\n",
       "  <thead>\n",
       "    <tr style=\"text-align: right;\">\n",
       "      <th></th>\n",
       "      <th>Time</th>\n",
       "      <th>V1</th>\n",
       "      <th>V2</th>\n",
       "      <th>V3</th>\n",
       "      <th>V4</th>\n",
       "      <th>V5</th>\n",
       "      <th>V6</th>\n",
       "      <th>V7</th>\n",
       "      <th>V8</th>\n",
       "      <th>V9</th>\n",
       "      <th>...</th>\n",
       "      <th>V20</th>\n",
       "      <th>V21</th>\n",
       "      <th>V22</th>\n",
       "      <th>V23</th>\n",
       "      <th>V24</th>\n",
       "      <th>V25</th>\n",
       "      <th>V26</th>\n",
       "      <th>V27</th>\n",
       "      <th>V28</th>\n",
       "      <th>Amount</th>\n",
       "    </tr>\n",
       "  </thead>\n",
       "  <tbody>\n",
       "    <tr>\n",
       "      <th>0</th>\n",
       "      <td>12.0</td>\n",
       "      <td>-0.752417</td>\n",
       "      <td>0.345485</td>\n",
       "      <td>2.057323</td>\n",
       "      <td>-1.468643</td>\n",
       "      <td>-1.158394</td>\n",
       "      <td>-0.077850</td>\n",
       "      <td>-0.608581</td>\n",
       "      <td>0.003603</td>\n",
       "      <td>-0.436167</td>\n",
       "      <td>...</td>\n",
       "      <td>0.263451</td>\n",
       "      <td>0.499625</td>\n",
       "      <td>1.353650</td>\n",
       "      <td>-0.256573</td>\n",
       "      <td>-0.065084</td>\n",
       "      <td>-0.039124</td>\n",
       "      <td>-0.087086</td>\n",
       "      <td>-0.180998</td>\n",
       "      <td>0.129394</td>\n",
       "      <td>15.99</td>\n",
       "    </tr>\n",
       "    <tr>\n",
       "      <th>1</th>\n",
       "      <td>46.0</td>\n",
       "      <td>-0.378245</td>\n",
       "      <td>0.732925</td>\n",
       "      <td>-0.120154</td>\n",
       "      <td>0.185755</td>\n",
       "      <td>2.594269</td>\n",
       "      <td>3.797183</td>\n",
       "      <td>0.059088</td>\n",
       "      <td>0.976768</td>\n",
       "      <td>-0.412661</td>\n",
       "      <td>...</td>\n",
       "      <td>0.315572</td>\n",
       "      <td>-0.107582</td>\n",
       "      <td>-0.157140</td>\n",
       "      <td>-0.194659</td>\n",
       "      <td>1.013897</td>\n",
       "      <td>0.145503</td>\n",
       "      <td>-0.237620</td>\n",
       "      <td>0.411372</td>\n",
       "      <td>0.202788</td>\n",
       "      <td>11.45</td>\n",
       "    </tr>\n",
       "    <tr>\n",
       "      <th>2</th>\n",
       "      <td>49.0</td>\n",
       "      <td>-0.549626</td>\n",
       "      <td>0.418949</td>\n",
       "      <td>1.729833</td>\n",
       "      <td>0.203065</td>\n",
       "      <td>-0.187012</td>\n",
       "      <td>0.253878</td>\n",
       "      <td>0.500894</td>\n",
       "      <td>0.251256</td>\n",
       "      <td>-0.227985</td>\n",
       "      <td>...</td>\n",
       "      <td>0.016970</td>\n",
       "      <td>0.115062</td>\n",
       "      <td>0.418529</td>\n",
       "      <td>-0.065133</td>\n",
       "      <td>0.264981</td>\n",
       "      <td>0.003958</td>\n",
       "      <td>0.395969</td>\n",
       "      <td>0.027182</td>\n",
       "      <td>0.043506</td>\n",
       "      <td>59.99</td>\n",
       "    </tr>\n",
       "    <tr>\n",
       "      <th>3</th>\n",
       "      <td>56.0</td>\n",
       "      <td>-0.847998</td>\n",
       "      <td>1.043459</td>\n",
       "      <td>1.267369</td>\n",
       "      <td>1.135529</td>\n",
       "      <td>0.021362</td>\n",
       "      <td>0.336914</td>\n",
       "      <td>0.398480</td>\n",
       "      <td>0.317399</td>\n",
       "      <td>-0.028658</td>\n",
       "      <td>...</td>\n",
       "      <td>0.128622</td>\n",
       "      <td>-0.024046</td>\n",
       "      <td>0.215006</td>\n",
       "      <td>-0.131982</td>\n",
       "      <td>-0.007416</td>\n",
       "      <td>-0.136578</td>\n",
       "      <td>-0.242961</td>\n",
       "      <td>0.382931</td>\n",
       "      <td>0.276417</td>\n",
       "      <td>20.22</td>\n",
       "    </tr>\n",
       "    <tr>\n",
       "      <th>4</th>\n",
       "      <td>95.0</td>\n",
       "      <td>1.057021</td>\n",
       "      <td>-0.646956</td>\n",
       "      <td>0.729167</td>\n",
       "      <td>-0.569262</td>\n",
       "      <td>-1.174307</td>\n",
       "      <td>-0.527625</td>\n",
       "      <td>-0.471677</td>\n",
       "      <td>0.051744</td>\n",
       "      <td>1.904018</td>\n",
       "      <td>...</td>\n",
       "      <td>-0.070137</td>\n",
       "      <td>0.186184</td>\n",
       "      <td>0.743093</td>\n",
       "      <td>-0.163619</td>\n",
       "      <td>0.453570</td>\n",
       "      <td>0.615479</td>\n",
       "      <td>-0.508562</td>\n",
       "      <td>0.089553</td>\n",
       "      <td>0.037617</td>\n",
       "      <td>69.00</td>\n",
       "    </tr>\n",
       "  </tbody>\n",
       "</table>\n",
       "<p>5 rows × 30 columns</p>\n",
       "</div>"
      ],
      "text/plain": [
       "   Time        V1        V2        V3        V4        V5        V6        V7  \\\n",
       "0  12.0 -0.752417  0.345485  2.057323 -1.468643 -1.158394 -0.077850 -0.608581   \n",
       "1  46.0 -0.378245  0.732925 -0.120154  0.185755  2.594269  3.797183  0.059088   \n",
       "2  49.0 -0.549626  0.418949  1.729833  0.203065 -0.187012  0.253878  0.500894   \n",
       "3  56.0 -0.847998  1.043459  1.267369  1.135529  0.021362  0.336914  0.398480   \n",
       "4  95.0  1.057021 -0.646956  0.729167 -0.569262 -1.174307 -0.527625 -0.471677   \n",
       "\n",
       "         V8        V9   ...         V20       V21       V22       V23  \\\n",
       "0  0.003603 -0.436167   ...    0.263451  0.499625  1.353650 -0.256573   \n",
       "1  0.976768 -0.412661   ...    0.315572 -0.107582 -0.157140 -0.194659   \n",
       "2  0.251256 -0.227985   ...    0.016970  0.115062  0.418529 -0.065133   \n",
       "3  0.317399 -0.028658   ...    0.128622 -0.024046  0.215006 -0.131982   \n",
       "4  0.051744  1.904018   ...   -0.070137  0.186184  0.743093 -0.163619   \n",
       "\n",
       "        V24       V25       V26       V27       V28  Amount  \n",
       "0 -0.065084 -0.039124 -0.087086 -0.180998  0.129394   15.99  \n",
       "1  1.013897  0.145503 -0.237620  0.411372  0.202788   11.45  \n",
       "2  0.264981  0.003958  0.395969  0.027182  0.043506   59.99  \n",
       "3 -0.007416 -0.136578 -0.242961  0.382931  0.276417   20.22  \n",
       "4  0.453570  0.615479 -0.508562  0.089553  0.037617   69.00  \n",
       "\n",
       "[5 rows x 30 columns]"
      ]
     },
     "execution_count": 6,
     "metadata": {},
     "output_type": "execute_result"
    }
   ],
   "source": [
    "test.head()"
   ]
  },
  {
   "cell_type": "code",
   "execution_count": 7,
   "metadata": {},
   "outputs": [
    {
     "data": {
      "text/html": [
       "<div>\n",
       "<style>\n",
       "    .dataframe thead tr:only-child th {\n",
       "        text-align: right;\n",
       "    }\n",
       "\n",
       "    .dataframe thead th {\n",
       "        text-align: left;\n",
       "    }\n",
       "\n",
       "    .dataframe tbody tr th {\n",
       "        vertical-align: top;\n",
       "    }\n",
       "</style>\n",
       "<table border=\"1\" class=\"dataframe\">\n",
       "  <thead>\n",
       "    <tr style=\"text-align: right;\">\n",
       "      <th></th>\n",
       "      <th>Time</th>\n",
       "      <th>V1</th>\n",
       "      <th>V2</th>\n",
       "      <th>V3</th>\n",
       "      <th>V4</th>\n",
       "      <th>V5</th>\n",
       "      <th>V6</th>\n",
       "      <th>V7</th>\n",
       "      <th>V8</th>\n",
       "      <th>V9</th>\n",
       "      <th>...</th>\n",
       "      <th>V21</th>\n",
       "      <th>V22</th>\n",
       "      <th>V23</th>\n",
       "      <th>V24</th>\n",
       "      <th>V25</th>\n",
       "      <th>V26</th>\n",
       "      <th>V27</th>\n",
       "      <th>V28</th>\n",
       "      <th>Amount</th>\n",
       "      <th>Class</th>\n",
       "    </tr>\n",
       "  </thead>\n",
       "  <tbody>\n",
       "    <tr>\n",
       "      <th>0</th>\n",
       "      <td>1.0</td>\n",
       "      <td>-0.966272</td>\n",
       "      <td>-0.185226</td>\n",
       "      <td>1.792993</td>\n",
       "      <td>-0.863291</td>\n",
       "      <td>-0.010309</td>\n",
       "      <td>1.247203</td>\n",
       "      <td>0.237609</td>\n",
       "      <td>0.377436</td>\n",
       "      <td>-1.387024</td>\n",
       "      <td>...</td>\n",
       "      <td>-0.108300</td>\n",
       "      <td>0.005274</td>\n",
       "      <td>-0.190321</td>\n",
       "      <td>-1.175575</td>\n",
       "      <td>0.647376</td>\n",
       "      <td>-0.221929</td>\n",
       "      <td>0.062723</td>\n",
       "      <td>0.061458</td>\n",
       "      <td>123.50</td>\n",
       "      <td>0</td>\n",
       "    </tr>\n",
       "    <tr>\n",
       "      <th>1</th>\n",
       "      <td>2.0</td>\n",
       "      <td>-1.158233</td>\n",
       "      <td>0.877737</td>\n",
       "      <td>1.548718</td>\n",
       "      <td>0.403034</td>\n",
       "      <td>-0.407193</td>\n",
       "      <td>0.095921</td>\n",
       "      <td>0.592941</td>\n",
       "      <td>-0.270533</td>\n",
       "      <td>0.817739</td>\n",
       "      <td>...</td>\n",
       "      <td>-0.009431</td>\n",
       "      <td>0.798278</td>\n",
       "      <td>-0.137458</td>\n",
       "      <td>0.141267</td>\n",
       "      <td>-0.206010</td>\n",
       "      <td>0.502292</td>\n",
       "      <td>0.219422</td>\n",
       "      <td>0.215153</td>\n",
       "      <td>69.99</td>\n",
       "      <td>0</td>\n",
       "    </tr>\n",
       "    <tr>\n",
       "      <th>2</th>\n",
       "      <td>11.0</td>\n",
       "      <td>1.069374</td>\n",
       "      <td>0.287722</td>\n",
       "      <td>0.828613</td>\n",
       "      <td>2.712520</td>\n",
       "      <td>-0.178398</td>\n",
       "      <td>0.337544</td>\n",
       "      <td>-0.096717</td>\n",
       "      <td>0.115982</td>\n",
       "      <td>-0.221083</td>\n",
       "      <td>...</td>\n",
       "      <td>-0.036876</td>\n",
       "      <td>0.074412</td>\n",
       "      <td>-0.071407</td>\n",
       "      <td>0.104744</td>\n",
       "      <td>0.548265</td>\n",
       "      <td>0.104094</td>\n",
       "      <td>0.021491</td>\n",
       "      <td>0.021293</td>\n",
       "      <td>27.50</td>\n",
       "      <td>0</td>\n",
       "    </tr>\n",
       "    <tr>\n",
       "      <th>3</th>\n",
       "      <td>17.0</td>\n",
       "      <td>0.962496</td>\n",
       "      <td>0.328461</td>\n",
       "      <td>-0.171479</td>\n",
       "      <td>2.109204</td>\n",
       "      <td>1.129566</td>\n",
       "      <td>1.696038</td>\n",
       "      <td>0.107712</td>\n",
       "      <td>0.521502</td>\n",
       "      <td>-1.191311</td>\n",
       "      <td>...</td>\n",
       "      <td>0.143997</td>\n",
       "      <td>0.402492</td>\n",
       "      <td>-0.048508</td>\n",
       "      <td>-1.371866</td>\n",
       "      <td>0.390814</td>\n",
       "      <td>0.199964</td>\n",
       "      <td>0.016371</td>\n",
       "      <td>-0.014605</td>\n",
       "      <td>34.09</td>\n",
       "      <td>0</td>\n",
       "    </tr>\n",
       "    <tr>\n",
       "      <th>4</th>\n",
       "      <td>24.0</td>\n",
       "      <td>1.237429</td>\n",
       "      <td>0.061043</td>\n",
       "      <td>0.380526</td>\n",
       "      <td>0.761564</td>\n",
       "      <td>-0.359771</td>\n",
       "      <td>-0.494084</td>\n",
       "      <td>0.006494</td>\n",
       "      <td>-0.133862</td>\n",
       "      <td>0.438810</td>\n",
       "      <td>...</td>\n",
       "      <td>-0.245682</td>\n",
       "      <td>-0.530900</td>\n",
       "      <td>-0.044265</td>\n",
       "      <td>0.079168</td>\n",
       "      <td>0.509136</td>\n",
       "      <td>0.288858</td>\n",
       "      <td>-0.022705</td>\n",
       "      <td>0.011836</td>\n",
       "      <td>17.28</td>\n",
       "      <td>0</td>\n",
       "    </tr>\n",
       "  </tbody>\n",
       "</table>\n",
       "<p>5 rows × 31 columns</p>\n",
       "</div>"
      ],
      "text/plain": [
       "   Time        V1        V2        V3        V4        V5        V6        V7  \\\n",
       "0   1.0 -0.966272 -0.185226  1.792993 -0.863291 -0.010309  1.247203  0.237609   \n",
       "1   2.0 -1.158233  0.877737  1.548718  0.403034 -0.407193  0.095921  0.592941   \n",
       "2  11.0  1.069374  0.287722  0.828613  2.712520 -0.178398  0.337544 -0.096717   \n",
       "3  17.0  0.962496  0.328461 -0.171479  2.109204  1.129566  1.696038  0.107712   \n",
       "4  24.0  1.237429  0.061043  0.380526  0.761564 -0.359771 -0.494084  0.006494   \n",
       "\n",
       "         V8        V9  ...         V21       V22       V23       V24  \\\n",
       "0  0.377436 -1.387024  ...   -0.108300  0.005274 -0.190321 -1.175575   \n",
       "1 -0.270533  0.817739  ...   -0.009431  0.798278 -0.137458  0.141267   \n",
       "2  0.115982 -0.221083  ...   -0.036876  0.074412 -0.071407  0.104744   \n",
       "3  0.521502 -1.191311  ...    0.143997  0.402492 -0.048508 -1.371866   \n",
       "4 -0.133862  0.438810  ...   -0.245682 -0.530900 -0.044265  0.079168   \n",
       "\n",
       "        V25       V26       V27       V28  Amount  Class  \n",
       "0  0.647376 -0.221929  0.062723  0.061458  123.50      0  \n",
       "1 -0.206010  0.502292  0.219422  0.215153   69.99      0  \n",
       "2  0.548265  0.104094  0.021491  0.021293   27.50      0  \n",
       "3  0.390814  0.199964  0.016371 -0.014605   34.09      0  \n",
       "4  0.509136  0.288858 -0.022705  0.011836   17.28      0  \n",
       "\n",
       "[5 rows x 31 columns]"
      ]
     },
     "execution_count": 7,
     "metadata": {},
     "output_type": "execute_result"
    }
   ],
   "source": [
    "train.head()"
   ]
  },
  {
   "cell_type": "code",
   "execution_count": 8,
   "metadata": {},
   "outputs": [
    {
     "data": {
      "text/plain": [
       "29200"
      ]
     },
     "execution_count": 8,
     "metadata": {},
     "output_type": "execute_result"
    }
   ],
   "source": [
    "len(train)"
   ]
  },
  {
   "cell_type": "code",
   "execution_count": 9,
   "metadata": {},
   "outputs": [
    {
     "data": {
      "text/plain": [
       "10000"
      ]
     },
     "execution_count": 9,
     "metadata": {},
     "output_type": "execute_result"
    }
   ],
   "source": [
    "len(test)"
   ]
  },
  {
   "cell_type": "code",
   "execution_count": 10,
   "metadata": {},
   "outputs": [
    {
     "data": {
      "text/plain": [
       "10000"
      ]
     },
     "execution_count": 10,
     "metadata": {},
     "output_type": "execute_result"
    }
   ],
   "source": [
    "len(valid) "
   ]
  },
  {
   "cell_type": "code",
   "execution_count": 11,
   "metadata": {
    "collapsed": true
   },
   "outputs": [],
   "source": [
    "# Let's merge valid into train, CV is more convenient for me!\n",
    "train = pd.concat([train, valid])"
   ]
  },
  {
   "cell_type": "code",
   "execution_count": 12,
   "metadata": {},
   "outputs": [
    {
     "data": {
      "text/plain": [
       "39200"
      ]
     },
     "execution_count": 12,
     "metadata": {},
     "output_type": "execute_result"
    }
   ],
   "source": [
    "len(train)"
   ]
  },
  {
   "cell_type": "code",
   "execution_count": 13,
   "metadata": {
    "scrolled": false
   },
   "outputs": [],
   "source": [
    "#train[class] split by 0(normal) 1(fraud) to see how skew the data is\n",
    "#count_classes = pd.value_counts(data['Class'], sort = True).sort_index()\n",
    "#dist_class = pd.DataFrame(train['Class'])\n",
    "#print(dist_class)"
   ]
  },
  {
   "cell_type": "code",
   "execution_count": 14,
   "metadata": {},
   "outputs": [
    {
     "data": {
      "text/plain": [
       "0    38808\n",
       "1      392\n",
       "Name: Class, dtype: int64"
      ]
     },
     "execution_count": 14,
     "metadata": {},
     "output_type": "execute_result"
    }
   ],
   "source": [
    "train.Class.value_counts() # SUPER Imbalanced"
   ]
  },
  {
   "cell_type": "code",
   "execution_count": 15,
   "metadata": {
    "scrolled": true
   },
   "outputs": [],
   "source": [
    "#gf = sns.countplot(x=\"Class\", palette=\"Greens_d\",data=train);\n",
    "#plt.show(gf) "
   ]
  },
  {
   "cell_type": "code",
   "execution_count": 16,
   "metadata": {
    "collapsed": true
   },
   "outputs": [],
   "source": [
    "def adjustTrainData(dataF):\n",
    "    Col = pd.DataFrame(dataF['Amount'])\n",
    "    scaler = StandardScaler()\n",
    "    normAmount = scaler.fit_transform(Col)\n",
    "    dataF['normAmount'] = normAmount\n",
    "    dataF = dataF.drop(['Time','Amount','Class'], axis = 1)\n",
    "    return dataF"
   ]
  },
  {
   "cell_type": "code",
   "execution_count": 17,
   "metadata": {
    "collapsed": true
   },
   "outputs": [],
   "source": [
    "def adjustTestData(dataF):\n",
    "    #dataF = pd.DataFrame(dataF)\n",
    "    Col = pd.DataFrame(dataF['Amount'])\n",
    "    scaler = StandardScaler()\n",
    "    normAmount = scaler.fit_transform(Col)\n",
    "    dataF['normAmount'] = normAmount\n",
    "    dataF = dataF.drop(['Time','Amount'], axis = 1)\n",
    "\n",
    "    return dataF"
   ]
  },
  {
   "cell_type": "code",
   "execution_count": 18,
   "metadata": {},
   "outputs": [],
   "source": [
    "#col = pd.DataFrame(test['Amount']) #TypeError: string indices must be integers\n",
    "#print(col)"
   ]
  },
  {
   "cell_type": "code",
   "execution_count": 19,
   "metadata": {
    "collapsed": true
   },
   "outputs": [],
   "source": [
    "def adjustClass(data):\n",
    "    y_train = pd.DataFrame(data['Class'])\n",
    "    return y_train"
   ]
  },
  {
   "cell_type": "code",
   "execution_count": 20,
   "metadata": {
    "collapsed": true
   },
   "outputs": [],
   "source": [
    "def adjustTestClass(data):\n",
    "    y_true = pd.DataFrame(data['Class'])\n",
    "    return y_true\n"
   ]
  },
  {
   "cell_type": "code",
   "execution_count": 21,
   "metadata": {
    "collapsed": true
   },
   "outputs": [],
   "source": [
    "# Resampling\n",
    "# Oversampling techniques for classification problems\n",
    "# SMOTE, ADASYN\n",
    "# Reference: The Right Way to Oversample in Predictive Modeling (https://beckernick.github.io/oversampling-modeling/)\n"
   ]
  },
  {
   "cell_type": "markdown",
   "metadata": {},
   "source": [
    "### Imbalanced-learn 0.3.0"
   ]
  },
  {
   "cell_type": "code",
   "execution_count": 22,
   "metadata": {
    "collapsed": true
   },
   "outputs": [],
   "source": [
    "targetClass = np.array(pd.DataFrame(train['Class'])).ravel()\n",
    "featureData = train.drop('Class', 1)"
   ]
  },
  {
   "cell_type": "code",
   "execution_count": 23,
   "metadata": {},
   "outputs": [
    {
     "data": {
      "text/html": [
       "<div>\n",
       "<style>\n",
       "    .dataframe thead tr:only-child th {\n",
       "        text-align: right;\n",
       "    }\n",
       "\n",
       "    .dataframe thead th {\n",
       "        text-align: left;\n",
       "    }\n",
       "\n",
       "    .dataframe tbody tr th {\n",
       "        vertical-align: top;\n",
       "    }\n",
       "</style>\n",
       "<table border=\"1\" class=\"dataframe\">\n",
       "  <thead>\n",
       "    <tr style=\"text-align: right;\">\n",
       "      <th></th>\n",
       "      <th>Time</th>\n",
       "      <th>V1</th>\n",
       "      <th>V2</th>\n",
       "      <th>V3</th>\n",
       "      <th>V4</th>\n",
       "      <th>V5</th>\n",
       "      <th>V6</th>\n",
       "      <th>V7</th>\n",
       "      <th>V8</th>\n",
       "      <th>V9</th>\n",
       "      <th>...</th>\n",
       "      <th>V20</th>\n",
       "      <th>V21</th>\n",
       "      <th>V22</th>\n",
       "      <th>V23</th>\n",
       "      <th>V24</th>\n",
       "      <th>V25</th>\n",
       "      <th>V26</th>\n",
       "      <th>V27</th>\n",
       "      <th>V28</th>\n",
       "      <th>Amount</th>\n",
       "    </tr>\n",
       "  </thead>\n",
       "  <tbody>\n",
       "    <tr>\n",
       "      <th>0</th>\n",
       "      <td>1.0</td>\n",
       "      <td>-0.966272</td>\n",
       "      <td>-0.185226</td>\n",
       "      <td>1.792993</td>\n",
       "      <td>-0.863291</td>\n",
       "      <td>-0.010309</td>\n",
       "      <td>1.247203</td>\n",
       "      <td>0.237609</td>\n",
       "      <td>0.377436</td>\n",
       "      <td>-1.387024</td>\n",
       "      <td>...</td>\n",
       "      <td>-0.208038</td>\n",
       "      <td>-0.108300</td>\n",
       "      <td>0.005274</td>\n",
       "      <td>-0.190321</td>\n",
       "      <td>-1.175575</td>\n",
       "      <td>0.647376</td>\n",
       "      <td>-0.221929</td>\n",
       "      <td>0.062723</td>\n",
       "      <td>0.061458</td>\n",
       "      <td>123.50</td>\n",
       "    </tr>\n",
       "    <tr>\n",
       "      <th>1</th>\n",
       "      <td>2.0</td>\n",
       "      <td>-1.158233</td>\n",
       "      <td>0.877737</td>\n",
       "      <td>1.548718</td>\n",
       "      <td>0.403034</td>\n",
       "      <td>-0.407193</td>\n",
       "      <td>0.095921</td>\n",
       "      <td>0.592941</td>\n",
       "      <td>-0.270533</td>\n",
       "      <td>0.817739</td>\n",
       "      <td>...</td>\n",
       "      <td>0.408542</td>\n",
       "      <td>-0.009431</td>\n",
       "      <td>0.798278</td>\n",
       "      <td>-0.137458</td>\n",
       "      <td>0.141267</td>\n",
       "      <td>-0.206010</td>\n",
       "      <td>0.502292</td>\n",
       "      <td>0.219422</td>\n",
       "      <td>0.215153</td>\n",
       "      <td>69.99</td>\n",
       "    </tr>\n",
       "    <tr>\n",
       "      <th>2</th>\n",
       "      <td>11.0</td>\n",
       "      <td>1.069374</td>\n",
       "      <td>0.287722</td>\n",
       "      <td>0.828613</td>\n",
       "      <td>2.712520</td>\n",
       "      <td>-0.178398</td>\n",
       "      <td>0.337544</td>\n",
       "      <td>-0.096717</td>\n",
       "      <td>0.115982</td>\n",
       "      <td>-0.221083</td>\n",
       "      <td>...</td>\n",
       "      <td>-0.153197</td>\n",
       "      <td>-0.036876</td>\n",
       "      <td>0.074412</td>\n",
       "      <td>-0.071407</td>\n",
       "      <td>0.104744</td>\n",
       "      <td>0.548265</td>\n",
       "      <td>0.104094</td>\n",
       "      <td>0.021491</td>\n",
       "      <td>0.021293</td>\n",
       "      <td>27.50</td>\n",
       "    </tr>\n",
       "    <tr>\n",
       "      <th>3</th>\n",
       "      <td>17.0</td>\n",
       "      <td>0.962496</td>\n",
       "      <td>0.328461</td>\n",
       "      <td>-0.171479</td>\n",
       "      <td>2.109204</td>\n",
       "      <td>1.129566</td>\n",
       "      <td>1.696038</td>\n",
       "      <td>0.107712</td>\n",
       "      <td>0.521502</td>\n",
       "      <td>-1.191311</td>\n",
       "      <td>...</td>\n",
       "      <td>-0.269321</td>\n",
       "      <td>0.143997</td>\n",
       "      <td>0.402492</td>\n",
       "      <td>-0.048508</td>\n",
       "      <td>-1.371866</td>\n",
       "      <td>0.390814</td>\n",
       "      <td>0.199964</td>\n",
       "      <td>0.016371</td>\n",
       "      <td>-0.014605</td>\n",
       "      <td>34.09</td>\n",
       "    </tr>\n",
       "    <tr>\n",
       "      <th>4</th>\n",
       "      <td>24.0</td>\n",
       "      <td>1.237429</td>\n",
       "      <td>0.061043</td>\n",
       "      <td>0.380526</td>\n",
       "      <td>0.761564</td>\n",
       "      <td>-0.359771</td>\n",
       "      <td>-0.494084</td>\n",
       "      <td>0.006494</td>\n",
       "      <td>-0.133862</td>\n",
       "      <td>0.438810</td>\n",
       "      <td>...</td>\n",
       "      <td>-0.066351</td>\n",
       "      <td>-0.245682</td>\n",
       "      <td>-0.530900</td>\n",
       "      <td>-0.044265</td>\n",
       "      <td>0.079168</td>\n",
       "      <td>0.509136</td>\n",
       "      <td>0.288858</td>\n",
       "      <td>-0.022705</td>\n",
       "      <td>0.011836</td>\n",
       "      <td>17.28</td>\n",
       "    </tr>\n",
       "  </tbody>\n",
       "</table>\n",
       "<p>5 rows × 30 columns</p>\n",
       "</div>"
      ],
      "text/plain": [
       "   Time        V1        V2        V3        V4        V5        V6        V7  \\\n",
       "0   1.0 -0.966272 -0.185226  1.792993 -0.863291 -0.010309  1.247203  0.237609   \n",
       "1   2.0 -1.158233  0.877737  1.548718  0.403034 -0.407193  0.095921  0.592941   \n",
       "2  11.0  1.069374  0.287722  0.828613  2.712520 -0.178398  0.337544 -0.096717   \n",
       "3  17.0  0.962496  0.328461 -0.171479  2.109204  1.129566  1.696038  0.107712   \n",
       "4  24.0  1.237429  0.061043  0.380526  0.761564 -0.359771 -0.494084  0.006494   \n",
       "\n",
       "         V8        V9   ...         V20       V21       V22       V23  \\\n",
       "0  0.377436 -1.387024   ...   -0.208038 -0.108300  0.005274 -0.190321   \n",
       "1 -0.270533  0.817739   ...    0.408542 -0.009431  0.798278 -0.137458   \n",
       "2  0.115982 -0.221083   ...   -0.153197 -0.036876  0.074412 -0.071407   \n",
       "3  0.521502 -1.191311   ...   -0.269321  0.143997  0.402492 -0.048508   \n",
       "4 -0.133862  0.438810   ...   -0.066351 -0.245682 -0.530900 -0.044265   \n",
       "\n",
       "        V24       V25       V26       V27       V28  Amount  \n",
       "0 -1.175575  0.647376 -0.221929  0.062723  0.061458  123.50  \n",
       "1  0.141267 -0.206010  0.502292  0.219422  0.215153   69.99  \n",
       "2  0.104744  0.548265  0.104094  0.021491  0.021293   27.50  \n",
       "3 -1.371866  0.390814  0.199964  0.016371 -0.014605   34.09  \n",
       "4  0.079168  0.509136  0.288858 -0.022705  0.011836   17.28  \n",
       "\n",
       "[5 rows x 30 columns]"
      ]
     },
     "execution_count": 23,
     "metadata": {},
     "output_type": "execute_result"
    }
   ],
   "source": [
    "featureData.head()"
   ]
  },
  {
   "cell_type": "code",
   "execution_count": 24,
   "metadata": {
    "collapsed": true
   },
   "outputs": [],
   "source": [
    "from imblearn.over_sampling import RandomOverSampler\n",
    "from collections import Counter\n",
    "def randomOverSampling(X, y):\n",
    "    ros = RandomOverSampler()\n",
    "    #X = adjustTrainData(X)\n",
    "    #y = adjustClass(y)\n",
    "    X_resampled, y_resampled = ros.fit_sample(X,y)\n",
    "    #print(sorted(Counter(y_resampled).items()))\n",
    "    return X_resampled, y_resampled"
   ]
  },
  {
   "cell_type": "code",
   "execution_count": null,
   "metadata": {},
   "outputs": [],
   "source": []
  },
  {
   "cell_type": "code",
   "execution_count": 25,
   "metadata": {},
   "outputs": [],
   "source": [
    "# X_resampled, y_resampled = randomOverSampling(X_train, y_train)"
   ]
  },
  {
   "cell_type": "code",
   "execution_count": 26,
   "metadata": {
    "collapsed": true
   },
   "outputs": [],
   "source": [
    "from sklearn.linear_model import LogisticRegression\n",
    "from sklearn.model_selection import cross_val_score, cross_validate, train_test_split, KFold\n",
    "from sklearn.metrics import confusion_matrix,f1_score "
   ]
  },
  {
   "cell_type": "markdown",
   "metadata": {},
   "source": [
    "### Make use of the validation set\n",
    "#### > L1 or L2\n",
    "#### > C value"
   ]
  },
  {
   "cell_type": "code",
   "execution_count": 27,
   "metadata": {},
   "outputs": [
    {
     "data": {
      "text/plain": [
       "'\\nX = X_resampled\\ny = y_resampled\\nkf = KFold(n_splits=5)\\nkf.get_n_splits(X)\\nprint(kf.split(X)\\n'"
      ]
     },
     "execution_count": 27,
     "metadata": {},
     "output_type": "execute_result"
    }
   ],
   "source": [
    "from sklearn.model_selection import KFold\n",
    "'''\n",
    "X = X_resampled\n",
    "y = y_resampled\n",
    "kf = KFold(n_splits=5)\n",
    "kf.get_n_splits(X)\n",
    "print(kf.split(X)\n",
    "'''\n",
    "\n"
   ]
  },
  {
   "cell_type": "code",
   "execution_count": 28,
   "metadata": {},
   "outputs": [
    {
     "data": {
      "text/plain": [
       "'\\nKFold(n_splits=5, random_state=None, shuffle=False)\\nfor train_index, test_index in kf.split(X):\\n    print(X_train[train_index])\\n    p#rint(\"TRAIN:\", train_index, \"TEST:\", test_index)\\n    X_train, X_test = X[train_index], X[test_index]\\n    y_train, y_test = y[train_index], y[test_index]\\n'"
      ]
     },
     "execution_count": 28,
     "metadata": {},
     "output_type": "execute_result"
    }
   ],
   "source": [
    "'''\n",
    "KFold(n_splits=5, random_state=None, shuffle=False)\n",
    "for train_index, test_index in kf.split(X):\n",
    "    print(X_train[train_index])\n",
    "    p#rint(\"TRAIN:\", train_index, \"TEST:\", test_index)\n",
    "    X_train, X_test = X[train_index], X[test_index]\n",
    "    y_train, y_test = y[train_index], y[test_index]\n",
    "'''\n",
    "\n"
   ]
  },
  {
   "cell_type": "code",
   "execution_count": 29,
   "metadata": {},
   "outputs": [
    {
     "data": {
      "text/plain": [
       "'  \\ndef run_kfold(clf,X_all,y_all,folds):\\n    kf = KFold(X_all.count()[0], n_folds=folds)\\n    outcomes = []\\n    fold = 0\\n\\n    X_all = X_all.copy()\\n\\n    median_age = X_all[\\'Age\\'].dropna().median()\\n    if len(X_all.Age[X_all.Age.isnull()]) > 0:\\n        X_all.loc[(X_all.Age.isnull()), \\'Age\\'] = median_age\\n\\n    for train_index, test_index in kf:\\n        fold += 1\\n        X_train, X_test = X_all.values[train_index], X_all.values[test_index]\\n        y_train, y_test = y_all.values[train_index], y_all.values[test_index]\\n        clf.fit(X_train, y_train)\\n        predictions = clf.predict(X_test)\\n        accuracy = accuracy_score(y_test, predictions)\\n        outcomes.append(accuracy)\\n        print(\"Fold {0} accuracy: {1}\".format(fold, accuracy))\\n    mean_outcome = np.mean(outcomes)\\n    print(\"Mean Accuracy: {0}\".format(mean_outcome))\\n'"
      ]
     },
     "execution_count": 29,
     "metadata": {},
     "output_type": "execute_result"
    }
   ],
   "source": [
    "'''  \n",
    "def run_kfold(clf,X_all,y_all,folds):\n",
    "    kf = KFold(X_all.count()[0], n_folds=folds)\n",
    "    outcomes = []\n",
    "    fold = 0\n",
    "\n",
    "    X_all = X_all.copy()\n",
    "\n",
    "    median_age = X_all['Age'].dropna().median()\n",
    "    if len(X_all.Age[X_all.Age.isnull()]) > 0:\n",
    "        X_all.loc[(X_all.Age.isnull()), 'Age'] = median_age\n",
    "\n",
    "    for train_index, test_index in kf:\n",
    "        fold += 1\n",
    "        X_train, X_test = X_all.values[train_index], X_all.values[test_index]\n",
    "        y_train, y_test = y_all.values[train_index], y_all.values[test_index]\n",
    "        clf.fit(X_train, y_train)\n",
    "        predictions = clf.predict(X_test)\n",
    "        accuracy = accuracy_score(y_test, predictions)\n",
    "        outcomes.append(accuracy)\n",
    "        print(\"Fold {0} accuracy: {1}\".format(fold, accuracy))\n",
    "    mean_outcome = np.mean(outcomes)\n",
    "    print(\"Mean Accuracy: {0}\".format(mean_outcome))\n",
    "'''\n"
   ]
  },
  {
   "cell_type": "code",
   "execution_count": 30,
   "metadata": {},
   "outputs": [],
   "source": [
    "def findCandPenalty(X, y):\n",
    "    C_list = [0.1, 1, 10]\n",
    "    L_list = ['l1','l2']\n",
    "    X_train, X_test, y_train, y_test = train_test_split(X, y)\n",
    "    \n",
    "    # d= {\"L1\": values, 'L2': [1,2,3]} by row\n",
    "    \n",
    "    combine = []\n",
    "    for c_param in C_list:\n",
    "        \n",
    "        print(\"=============================================\")\n",
    "        print(\"Parameter C: \", c_param)\n",
    "        print(\"=============================================\")\n",
    "        diff_penalty = [] # first L1, second L2\n",
    "        for L_num in L_list:\n",
    "            estimator = LogisticRegression(C = c_param, penalty = L_num)\n",
    "            estimator.fit(X_train, y_train)\n",
    "            y_pred = estimator.predict(X_test)\n",
    "            score = f1_score(y_true = y_test,y_pred = y_pred)\n",
    "            diff_penalty.append(score)\n",
    "            #score = cross_val_score(estimator = estimator,X, y, scoring = f1_score(y_test, y_pred))\n",
    "            print(\"Penalty value: \", L_num)\n",
    "            print(\"F1 score with \",L_num,\"is\", score)\n",
    "            # print(diff_penalty)\n",
    "        combine.append(diff_penalty)\n",
    "    idx = np.array(C_list)\n",
    "    result_table = pd.DataFrame(data = combine, index = idx, columns = [\"l1\", \"l2\"])\n",
    "    result_table.index.name = 'Parameter C'\n",
    "    result_table.set_index([C_list])\n",
    "    print(result_table)\n",
    "    best = result_table.max().max()\n",
    "    print(\"The highest score is: \",best)\n",
    "    the_C = np.argmax(np.max(result_table, axis=1))\n",
    "    the_P = np.argmax(np.max(result_table, axis=0))\n",
    "    print(\"The best Parameter C for the score is :\", the_C)\n",
    "    print(\"The best Penalty value for the score is: \", the_P)\n",
    "    \n",
    "    return the_C, the_P\n",
    "    "
   ]
  },
  {
   "cell_type": "code",
   "execution_count": 31,
   "metadata": {
    "scrolled": true
   },
   "outputs": [],
   "source": [
    "#findCandPenalty(X_resampled, y_resampled)"
   ]
  },
  {
   "cell_type": "markdown",
   "metadata": {},
   "source": [
    "### Fit the data, and test"
   ]
  },
  {
   "cell_type": "code",
   "execution_count": 32,
   "metadata": {},
   "outputs": [
    {
     "name": "stderr",
     "output_type": "stream",
     "text": [
      "/home/snu/anaconda3/lib/python3.6/site-packages/sklearn/utils/validation.py:578: DataConversionWarning: A column-vector y was passed when a 1d array was expected. Please change the shape of y to (n_samples, ), for example using ravel().\n",
      "  y = column_or_1d(y, warn=True)\n"
     ]
    },
    {
     "name": "stdout",
     "output_type": "stream",
     "text": [
      "=============================================\n",
      "Parameter C:  0.1\n",
      "=============================================\n",
      "Penalty value:  l1\n",
      "F1 score with  l1 is 0.944181344117\n",
      "Penalty value:  l2\n",
      "F1 score with  l2 is 0.946547056638\n",
      "=============================================\n",
      "Parameter C:  1\n",
      "=============================================\n",
      "Penalty value:  l1\n",
      "F1 score with  l1 is 0.948015473478\n",
      "Penalty value:  l2\n",
      "F1 score with  l2 is 0.947915010862\n",
      "=============================================\n",
      "Parameter C:  10\n",
      "=============================================\n",
      "Penalty value:  l1\n",
      "F1 score with  l1 is 0.948015473478\n",
      "Penalty value:  l2\n",
      "F1 score with  l2 is 0.947864787538\n",
      "                   l1        l2\n",
      "Parameter C                    \n",
      "0.1          0.944181  0.946547\n",
      "1.0          0.948015  0.947915\n",
      "10.0         0.948015  0.947865\n",
      "The highest score is:  0.948015473478\n",
      "The best Parameter C for the score is : 1.0\n",
      "The best Penalty value for the score is:  l1\n"
     ]
    }
   ],
   "source": [
    "# input: test, True Y = result\n",
    "X_train = adjustTrainData(train)\n",
    "y_train = adjustClass(train)\n",
    "X_resampled, y_resampled = randomOverSampling(X_train, y_train)\n",
    "the = findCandPenalty(X_resampled, y_resampled)\n",
    "def predict_and_score(File, y_true):\n",
    "    File = pd.read_csv(File)\n",
    "    y_true = pd.read_csv(y_true)\n",
    "    X_test = adjustTestData(File)\n",
    "    y_true_result = adjustTestClass(y_true)\n",
    "    #X_train, X_test, y_train, y_test = train_test_split(X, y)\n",
    "    #X_resampled, y_resampled = randomOverSampling(File_,y_true_)\n",
    "\n",
    "    lr = LogisticRegression(C = the[0], penalty = the[1]) # C 값 변경 가능, L1, L2 가능\n",
    "    lr.fit(X_resampled, y_resampled)\n",
    "    y_pred = lr.predict(X_test)\n",
    "    F1_score = f1_score(y_true = y_true_result, y_pred = y_pred)\n",
    "    score = lr.score(X_test, y_true_result)\n",
    "    print(\"Accuracy: {}\".format(score))\n",
    "    print(\"The F1_score of the test is: \", F1_score)\n",
    "    #print(len(y_pred))\n",
    "    #print(type(y_pred))\n",
    "    lst = y_pred.tolist()\n",
    "    return lst\n",
    "    "
   ]
  },
  {
   "cell_type": "code",
   "execution_count": 33,
   "metadata": {
    "scrolled": true
   },
   "outputs": [],
   "source": [
    "#predict(test, result)"
   ]
  },
  {
   "cell_type": "code",
   "execution_count": 34,
   "metadata": {},
   "outputs": [
    {
     "name": "stdout",
     "output_type": "stream",
     "text": [
      "Accuracy: 0.998\n",
      "The F1_score of the test is:  0.967948717949\n"
     ]
    }
   ],
   "source": [
    "def write_result(classes):\n",
    "    # You don't need to modify this function.\n",
    "    with open('result_yj.csv', 'w') as f:\n",
    "        f.write('Index,Class\\n')\n",
    "        for idx, l in enumerate(classes):\n",
    "            f.write('{0},{1}\\n'.format(idx, l))\n",
    "\n",
    "\n",
    "def main():\n",
    "    # You don't need to modify this function.\n",
    "    classes = predict_and_score('test.csv', 'result.csv')\n",
    "    write_result(classes)\n",
    "\n",
    "\n",
    "if __name__ == '__main__':\n",
    "    # You don't need to modify this part.\n",
    "    main()"
   ]
  },
  {
   "cell_type": "code",
   "execution_count": 35,
   "metadata": {},
   "outputs": [
    {
     "data": {
      "text/plain": [
       "numpy.ndarray"
      ]
     },
     "execution_count": 35,
     "metadata": {},
     "output_type": "execute_result"
    }
   ],
   "source": [
    "type(result.as_matrix())\n"
   ]
  },
  {
   "cell_type": "code",
   "execution_count": 36,
   "metadata": {
    "scrolled": true
   },
   "outputs": [
    {
     "ename": "NameError",
     "evalue": "name 'adjustData' is not defined",
     "output_type": "error",
     "traceback": [
      "\u001b[0;31m---------------------------------------------------------------------------\u001b[0m",
      "\u001b[0;31mNameError\u001b[0m                                 Traceback (most recent call last)",
      "\u001b[0;32m<ipython-input-36-18d3b845a60b>\u001b[0m in \u001b[0;36m<module>\u001b[0;34m()\u001b[0m\n\u001b[0;32m----> 1\u001b[0;31m \u001b[0mtest\u001b[0m \u001b[0;34m=\u001b[0m \u001b[0madjustData\u001b[0m\u001b[0;34m(\u001b[0m\u001b[0mtest\u001b[0m\u001b[0;34m)\u001b[0m\u001b[0;34m\u001b[0m\u001b[0m\n\u001b[0m",
      "\u001b[0;31mNameError\u001b[0m: name 'adjustData' is not defined"
     ]
    }
   ],
   "source": [
    "test = adjustData(test)"
   ]
  },
  {
   "cell_type": "code",
   "execution_count": null,
   "metadata": {},
   "outputs": [],
   "source": [
    "test.head()"
   ]
  },
  {
   "cell_type": "code",
   "execution_count": null,
   "metadata": {
    "collapsed": true
   },
   "outputs": [],
   "source": [
    "y_pred_resampled = lr.predict(X_test_undersample.values)"
   ]
  },
  {
   "cell_type": "code",
   "execution_count": null,
   "metadata": {
    "collapsed": true
   },
   "outputs": [],
   "source": [
    "# 스코어를 매길 때에도 고려할 점이 있다.\n",
    "# 1) Fraud를 normal로 보는 실수, 2) Normal을 Fraud 로 보는 실수\n",
    "# 위의 두 가지 중에 어느 것을 더 피하고 싶은지 살펴보면, 내 개인적 기준으로는 1) 이다.\n",
    "# 과제에서는 score를 매기는 방식을 지정해 줬는데, 나만의 score 만들어 보아도 재밌겠다. "
   ]
  },
  {
   "cell_type": "code",
   "execution_count": null,
   "metadata": {
    "collapsed": true
   },
   "outputs": [],
   "source": []
  }
 ],
 "metadata": {
  "kernelspec": {
   "display_name": "Python 3",
   "language": "python",
   "name": "python3"
  },
  "language_info": {
   "codemirror_mode": {
    "name": "ipython",
    "version": 3
   },
   "file_extension": ".py",
   "mimetype": "text/x-python",
   "name": "python",
   "nbconvert_exporter": "python",
   "pygments_lexer": "ipython3",
   "version": "3.6.1"
  }
 },
 "nbformat": 4,
 "nbformat_minor": 2
}
