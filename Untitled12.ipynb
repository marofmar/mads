{
 "cells": [
  {
   "cell_type": "code",
   "execution_count": 3,
   "metadata": {},
   "outputs": [
    {
     "ename": "IndentationError",
     "evalue": "expected an indented block (<ipython-input-3-bfa3b9c95b6c>, line 31)",
     "output_type": "error",
     "traceback": [
      "\u001b[0;36m  File \u001b[0;32m\"<ipython-input-3-bfa3b9c95b6c>\"\u001b[0;36m, line \u001b[0;32m31\u001b[0m\n\u001b[0;31m    def random_shuffle(self):\u001b[0m\n\u001b[0m    ^\u001b[0m\n\u001b[0;31mIndentationError\u001b[0m\u001b[0;31m:\u001b[0m expected an indented block\n"
     ]
    }
   ],
   "source": [
    "from imagebtn import *\n",
    "from tkinter import *\n",
    "from random import *\n",
    "import time\n",
    "\n",
    "class Maintable(Frame):\n",
    "    n=0\n",
    "    selected_image=0\n",
    "    \n",
    "    def __init__(self, master, picture, alphabet, width):\n",
    "        super(Maintable, self).__init__()\n",
    "        self.image_number_list = []  # 셔플된 이미지의 번호를 저장하기 위한 리스트. 16개\n",
    "        self.master = master # maintabl\\ frame의 parent 설정\n",
    "        self.width = width # maintable의 넓이. = 4\n",
    "        self.n = width * width # maintable에 추가될 이미지 수. = 16\n",
    "        self.picture = picture # # app에서 생성한 이미지 받아와서 저장\n",
    "\n",
    "        # 숨겨진 이미지 셔플링\n",
    "        self.random_shuffle()\n",
    "\n",
    "        # TODO\n",
    "        # ImageButton widget 생성하고 각 widget에 숨겨진 이미지 추가\n",
    "        # 이미지 클릭시 이벤트 bind\n",
    "        for i in range(0,self.width):\n",
    "            for j in range(0,self.width):\n",
    "\n",
    "\n",
    "\n",
    "    # TODO\n",
    "    # hidden 이미지 셔플링\n",
    "    def random_shuffle(self):\n",
    "\n",
    "    # 선택된 알파벳 ImageButton의 숨겨진 이미지 출력\n",
    "    def show_hidden(self, event):\n",
    "        event.widget.config(image=event.widget.get_hidden())\n",
    "\n",
    "    # TODO\n",
    "    # 숨겨진 이미지 숨기고 알파벳 이미지로 변환\n",
    "    # 선택된 이미지와 컨베이어의 현재 이미지와 비교하고, 비교 결과에 따른 명령어 실행 부분\n",
    "    def hide_picture(self, event):\n",
    "        #time.sleep(10)\n",
    "        #time.sleep(1.5)\n",
    "        selected_image = self.picture.index(event.widget.hidden)\n",
    "\n",
    "        \n",
    "        \n"
   ]
  },
  {
   "cell_type": "code",
   "execution_count": 1,
   "metadata": {},
   "outputs": [
    {
     "ename": "ModuleNotFoundError",
     "evalue": "No module named 'maintable'",
     "output_type": "error",
     "traceback": [
      "\u001b[0;31m---------------------------------------------------------------------------\u001b[0m",
      "\u001b[0;31mModuleNotFoundError\u001b[0m                       Traceback (most recent call last)",
      "\u001b[0;32m<ipython-input-1-673462e7a4e1>\u001b[0m in \u001b[0;36m<module>\u001b[0;34m()\u001b[0m\n\u001b[0;32m----> 1\u001b[0;31m \u001b[0;32mfrom\u001b[0m \u001b[0mmaintable\u001b[0m \u001b[0;32mimport\u001b[0m \u001b[0;34m*\u001b[0m\u001b[0;34m\u001b[0m\u001b[0m\n\u001b[0m\u001b[1;32m      2\u001b[0m \u001b[0;32mfrom\u001b[0m \u001b[0mconveyor\u001b[0m \u001b[0;32mimport\u001b[0m \u001b[0;34m*\u001b[0m\u001b[0;34m\u001b[0m\u001b[0m\n\u001b[1;32m      3\u001b[0m \u001b[0;32mfrom\u001b[0m \u001b[0mPIL\u001b[0m \u001b[0;32mimport\u001b[0m \u001b[0mImage\u001b[0m\u001b[0;34m,\u001b[0m \u001b[0mImageTk\u001b[0m\u001b[0;34m\u001b[0m\u001b[0m\n\u001b[1;32m      4\u001b[0m \u001b[0;32mfrom\u001b[0m \u001b[0mtkinter\u001b[0m \u001b[0;32mimport\u001b[0m \u001b[0mmessagebox\u001b[0m\u001b[0;34m\u001b[0m\u001b[0m\n\u001b[1;32m      5\u001b[0m \u001b[0;32mimport\u001b[0m \u001b[0msys\u001b[0m\u001b[0;34m\u001b[0m\u001b[0m\n",
      "\u001b[0;31mModuleNotFoundError\u001b[0m: No module named 'maintable'"
     ]
    }
   ],
   "source": [
    "from maintable import *\n",
    "from conveyor import *\n",
    "from PIL import Image, ImageTk\n",
    "from tkinter import messagebox\n",
    "import sys\n",
    "import os\n",
    "\n",
    "class App(Frame):    \n",
    "    picture_image = [] # 메인 테이블용 도형 이미지\n",
    "    alphabet_image = [] # 메인 테이블용 알파벳 이미지\n",
    "    resized_picture = [] # 컨베이어용 도형 이미지\n",
    "    continue_game = 1\n",
    "    \n",
    "    def __init__(self, master, n):\n",
    "        super(App, self).__init__()\n",
    "        self.master = master # root를 parent로\n",
    "        self.n = n\n",
    "        self.create_images() # 이미지 읽어와서 저장\n",
    "\n",
    "        # Maintable frame widget 생성\n",
    "        self.table = Maintable(self, self.picture_image, self.alphabet_image, self.n)\n",
    "        self.table.grid(row=0, column=0, pady=(10,20))\n",
    "\n",
    "        # Conveyor frame widget 생성\n",
    "        self.conveyor = Conveyor(self, self.resized_picture, self.n)\n",
    "        self.conveyor.grid(row=1, column=0)\n",
    "\n",
    "    # 이미지 파일을 읽어와서 이미지 객체를 생성하고 리스트에 저장하는 부분\n",
    "    # 생성된 이미지 객체 리스트에는 추가적인 변경이 없고, index를 통해 randomize\n",
    "    def create_images(self):\n",
    "        self.picture_image = list(Image.open(\"picture\\\\%d.JPG\" % (i+1)) for i in range(self.n*self.n))\n",
    "        self.alphabet_image = list(PhotoImage(file=\"alphabet\\\\%d.GIF\" % (i+1)) for i in range(self.n*self.n))\n",
    "        self.resized_picture = list(self.picture_image[i].resize((50,50), Image.ANTIALIAS) for i in range(self.n*self.n))\n",
    "        self.resized_picture = list(ImageTk.PhotoImage(self.resized_picture[i]) for i in range(self.n*self.n))\n",
    "        self.picture_image = list(ImageTk.PhotoImage(self.picture_image[i]) for i in range(self.n*self.n))\n",
    "\n",
    "    # 게임 종료시 처리 부분\n",
    "    def quit_game(self, win):\n",
    "        if win == True:\n",
    "            messagebox.showinfo(\"게임 종료\", \"성공하였습니다\")\n",
    "        else:\n",
    "            messagebox.showinfo(\"게임 종료\", \"실패하였습니다\")\n",
    "\n",
    "        result = messagebox.askquestion(\"다시 시작\", \"다시 시작하시겠습니까?\", icon='warning')\n",
    "        if result == 'no':\n",
    "        \tApp.continue_game = 0\n",
    "        \t\n",
    "        self.conveyor.quit()\n",
    "        self.table.quit()\n",
    "        self.quit()\n",
    "\n",
    "\n",
    "        \n"
   ]
  },
  {
   "cell_type": "code",
   "execution_count": null,
   "metadata": {
    "collapsed": true
   },
   "outputs": [],
   "source": []
  }
 ],
 "metadata": {
  "kernelspec": {
   "display_name": "Python 3",
   "language": "python",
   "name": "python3"
  },
  "language_info": {
   "codemirror_mode": {
    "name": "ipython",
    "version": 3
   },
   "file_extension": ".py",
   "mimetype": "text/x-python",
   "name": "python",
   "nbconvert_exporter": "python",
   "pygments_lexer": "ipython3",
   "version": "3.6.1"
  }
 },
 "nbformat": 4,
 "nbformat_minor": 2
}
