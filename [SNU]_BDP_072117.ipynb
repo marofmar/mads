{
 "cells": [
  {
   "cell_type": "code",
   "execution_count": 82,
   "metadata": {},
   "outputs": [],
   "source": [
    "# 1. Searching\n",
    "# return the first square number in the list\n",
    "import math\n",
    "def first_perfect_square(li): # do not use 'type', it's almost not the right answer\n",
    "    for i in range(len(li)):\n",
    "        if li[i] > 0:\n",
    "            if li[i]**0.5 - int(li[i]**0.5) ==0:\n",
    "                return li[i]"
   ]
  },
  {
   "cell_type": "code",
   "execution_count": 83,
   "metadata": {},
   "outputs": [
    {
     "data": {
      "text/plain": [
       "4"
      ]
     },
     "execution_count": 83,
     "metadata": {},
     "output_type": "execute_result"
    }
   ],
   "source": [
    "first_perfect_square([2,4,6,8])"
   ]
  },
  {
   "cell_type": "code",
   "execution_count": 48,
   "metadata": {},
   "outputs": [
    {
     "name": "stdout",
     "output_type": "stream",
     "text": [
      "3.0\n"
     ]
    }
   ],
   "source": [
    "if isinstance(print(9**(0.5)), int) == True:\n",
    "    print(\"k\")"
   ]
  },
  {
   "cell_type": "code",
   "execution_count": 88,
   "metadata": {
    "collapsed": true
   },
   "outputs": [],
   "source": [
    "# 2\n",
    "# Counting, return the number of elem. that are perfect squares\n",
    "def num_perfect_squares(li):\n",
    "    count = 0\n",
    "    for i in range(len(li)):\n",
    "        if li[i] > 0:\n",
    "            if li[i]**0.5 - int(li[i]**0.5) ==0:\n",
    "                count += 1\n",
    "    return count      "
   ]
  },
  {
   "cell_type": "code",
   "execution_count": 89,
   "metadata": {},
   "outputs": [
    {
     "data": {
      "text/plain": [
       "2"
      ]
     },
     "execution_count": 89,
     "metadata": {},
     "output_type": "execute_result"
    }
   ],
   "source": [
    "num_perfect_squares([2,4,6,8,9])"
   ]
  },
  {
   "cell_type": "code",
   "execution_count": 93,
   "metadata": {},
   "outputs": [],
   "source": [
    "# 3\n",
    "# Second Largest Number [1,2,3,3] -> 3, [a,b,c]->b\n",
    "def second_largest(li):\n",
    "    if (li[0]<li[1]):\n",
    "        fst = li[1]\n",
    "        snd = li[0]\n",
    "    else:\n",
    "        fst = li[0]\n",
    "        snd = li[1]\n",
    "    for i in range(2, len(li)):\n",
    "        if snd >= lst[i]:\n",
    "            continue\n",
    "        elif fst >= lst[i] > snd:\n",
    "            snd = lst[i]\n",
    "        else:\n",
    "            snd = fst\n",
    "            fst = lst[i]\n",
    "    return snd"
   ]
  },
  {
   "cell_type": "code",
   "execution_count": 95,
   "metadata": {},
   "outputs": [
    {
     "data": {
      "text/plain": [
       "'c'"
      ]
     },
     "execution_count": 95,
     "metadata": {},
     "output_type": "execute_result"
    }
   ],
   "source": [
    "lst = [\"a\",\"b\",\"c\",\"d\"]\n",
    "second_largest(lst)"
   ]
  },
  {
   "cell_type": "code",
   "execution_count": null,
   "metadata": {
    "collapsed": true
   },
   "outputs": [],
   "source": [
    "# 4\n",
    "# French Number\n"
   ]
  }
 ],
 "metadata": {
  "kernelspec": {
   "display_name": "Python 3",
   "language": "python",
   "name": "python3"
  },
  "language_info": {
   "codemirror_mode": {
    "name": "ipython",
    "version": 3
   },
   "file_extension": ".py",
   "mimetype": "text/x-python",
   "name": "python",
   "nbconvert_exporter": "python",
   "pygments_lexer": "ipython3",
   "version": "3.6.1"
  }
 },
 "nbformat": 4,
 "nbformat_minor": 2
}
