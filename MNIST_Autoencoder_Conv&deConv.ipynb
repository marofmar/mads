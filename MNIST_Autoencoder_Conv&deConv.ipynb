{
 "cells": [
  {
   "cell_type": "code",
   "execution_count": 1,
   "metadata": {},
   "outputs": [],
   "source": [
    "import tensorflow as tf\n",
    "import numpy as np\n",
    "import matplotlib.pyplot as plt"
   ]
  },
  {
   "cell_type": "code",
   "execution_count": 2,
   "metadata": {},
   "outputs": [
    {
     "name": "stdout",
     "output_type": "stream",
     "text": [
      "Extracting ./mnist/data/train-images-idx3-ubyte.gz\n",
      "Extracting ./mnist/data/train-labels-idx1-ubyte.gz\n",
      "Extracting ./mnist/data/t10k-images-idx3-ubyte.gz\n",
      "Extracting ./mnist/data/t10k-labels-idx1-ubyte.gz\n"
     ]
    }
   ],
   "source": [
    "from tensorflow.examples.tutorials.mnist import input_data\n",
    "mnist = input_data.read_data_sets(\"./mnist/data/\", one_hot = True)"
   ]
  },
  {
   "cell_type": "code",
   "execution_count": 3,
   "metadata": {},
   "outputs": [],
   "source": [
    "learning_rate = 0.01\n",
    "training_epoch = 20\n",
    "batch_size = 20\n",
    "n_hidden = 256 # num of neurons in hidden layer\n",
    "n_input = 28*28 # input size 784"
   ]
  },
  {
   "cell_type": "code",
   "execution_count": 4,
   "metadata": {},
   "outputs": [],
   "source": [
    "X = tf.placeholder(tf.float32, [None, 28,28,1]) # not using labels"
   ]
  },
  {
   "cell_type": "code",
   "execution_count": 7,
   "metadata": {},
   "outputs": [],
   "source": [
    "W1 = tf.Variable(tf.random_normal([5,5,1,32], stddev = 0.01))\n",
    "# padding = Same, keeps output size equal to input\n",
    "L1 = tf.nn.conv2d(X, W1, strides = [1,2,2,1], padding = 'SAME') # 보폭이 반이돼서 14*14가 됨\n",
    "# print(L1.shape)\n",
    "L1 = tf.nn.relu(L1)\n",
    "L2 = tf.reshape(L1, [-1, 14*14*32]) #직육면체를 펼치겠다!!!!!! (-1)은 뒤에 맞춰서 너가 알아서 사이즈 조절을 하란 뜻. \n",
    "W_encode = tf.Variable(tf.random_normal([14*14*32, 256], stddev = 0.01))\n",
    "h = tf.matmul(L2, W_encode)"
   ]
  },
  {
   "cell_type": "code",
   "execution_count": 8,
   "metadata": {},
   "outputs": [],
   "source": [
    "# typically the output size of encoder is smaller than input size of encode\n",
    "# the output size of decoder must be the sasme as the input image size\n",
    "output_batch = tf.shape(X)[0]\n",
    "deconv_shape = tf.stack([output_batch, 28,28,1])\n",
    "W_decode = tf.Variable(tf.random_normal([256,14*14*32]))\n",
    "L3 = tf.matmul(h, W_decode)\n",
    "W3 = tf.Variable(tf.random_normal([5,5,1,32]))\n",
    "L3 = tf.reshape(L3, [-1,14,14,32])\n",
    "\n",
    "decoder = tf.nn.conv2d_transpose(L3, W3,\n",
    "                                output_shape = deconv_shape, strides = [1,2,2,1], padding = 'SAME')\n",
    "decoder = tf.nn.sigmoid(decoder)"
   ]
  },
  {
   "cell_type": "code",
   "execution_count": 10,
   "metadata": {},
   "outputs": [],
   "source": [
    "cost = tf.reduce_mean(tf.pow(X-decoder, 2))\n",
    "optimizer = tf.train.AdamOptimizer(learning_rate).minimize(cost)"
   ]
  },
  {
   "cell_type": "code",
   "execution_count": 12,
   "metadata": {},
   "outputs": [],
   "source": [
    "sess = tf.Session()\n",
    "init = tf.global_variables_initializer()\n",
    "sess.run(init)"
   ]
  },
  {
   "cell_type": "code",
   "execution_count": 13,
   "metadata": {},
   "outputs": [
    {
     "name": "stdout",
     "output_type": "stream",
     "text": [
      "Epoch 0001 Avg.cost =  0.0144\n",
      "Epoch 0002 Avg.cost =  0.0051\n",
      "Epoch 0003 Avg.cost =  0.0047\n",
      "Epoch 0004 Avg.cost =  0.0041\n",
      "Epoch 0005 Avg.cost =  0.0044\n",
      "Epoch 0006 Avg.cost =  0.0042\n",
      "Epoch 0007 Avg.cost =  0.0040\n",
      "Epoch 0008 Avg.cost =  0.0039\n",
      "Epoch 0009 Avg.cost =  0.0038\n",
      "Epoch 0010 Avg.cost =  0.0038\n",
      "Epoch 0011 Avg.cost =  0.0037\n",
      "Epoch 0012 Avg.cost =  0.0037\n",
      "Epoch 0013 Avg.cost =  0.0036\n",
      "Epoch 0014 Avg.cost =  0.0036\n",
      "Epoch 0015 Avg.cost =  0.0035\n",
      "Epoch 0016 Avg.cost =  0.0035\n",
      "Epoch 0017 Avg.cost =  0.0035\n",
      "Epoch 0018 Avg.cost =  0.0035\n",
      "Epoch 0019 Avg.cost =  0.0034\n",
      "Epoch 0020 Avg.cost =  0.0034\n"
     ]
    }
   ],
   "source": [
    "total_batch = int(mnist.train.num_examples/batch_size)\n",
    "for epoch in range(training_epoch):\n",
    "    total_cost = 0\n",
    "    for i in range(total_batch):\n",
    "        batch_xs, batch_ys = mnist.train.next_batch(batch_size)\n",
    "        _, cost_val = sess.run([optimizer, cost], feed_dict = {X:batch_xs.reshape(-1,28,28,1)})\n",
    "        \n",
    "        total_cost += cost_val\n",
    "        \n",
    "    print('Epoch', '%04d' % (epoch +1), \n",
    "          'Avg.cost = ', '{:.4f}'.format(total_cost/total_batch))"
   ]
  },
  {
   "cell_type": "code",
   "execution_count": 19,
   "metadata": {},
   "outputs": [],
   "source": [
    "n = 4\n",
    "canvas_orig = np.empty((28*n, 28*n))\n",
    "canvas_recon = np.empty((28*n, 28*n))\n",
    "for i in range(n):\n",
    "    #Mnist test set\n",
    "    batch_x, _ = mnist.test.next_batch(n) # 4*784\n",
    "    #batch_x, batch_y = mnist.test.next_batch(n) # 4*784\n",
    "    #batch_y = np.argmax(batch_y, axis = 1)\n",
    "    #print(batch_y)\n",
    "    #Encode and decode the digit image\n",
    "    g = sess.run(decoder, feed_dict = {X: batch_x.reshape(-1,28,28,1)})\n",
    "    \n",
    "    \n",
    "    #Display original imgages\n",
    "    for j in range(n):\n",
    "        #Draw the generated digits\n",
    "        canvas_orig[i * 28:(i+1) * 28, j * 28:(j+1) * 28] = batch_x[j].reshape([28,28])\n",
    "    #Display reconstructed images\n",
    "    for j in range(n):\n",
    "        #Draw the generated digits\n",
    "        canvas_recon[i * 28:(i+1) * 28, j * 28:(j+1) * 28] = g[j].reshape([28,28])"
   ]
  },
  {
   "cell_type": "code",
   "execution_count": 20,
   "metadata": {},
   "outputs": [
    {
     "name": "stdout",
     "output_type": "stream",
     "text": [
      "Origianl Images\n"
     ]
    },
    {
     "data": {
      "image/png": "[encoded data removed]",
      "text/plain": [
       "<matplotlib.figure.Figure at 0x7f77e6c98278>"
      ]
     },
     "metadata": {},
     "output_type": "display_data"
    },
    {
     "name": "stdout",
     "output_type": "stream",
     "text": [
      "Reconstructed Images\n"
     ]
    },
    {
     "data": {
      "image/png": "[encoded data removed]",
      "text/plain": [
       "<matplotlib.figure.Figure at 0x7f77e6c4cf60>"
      ]
     },
     "metadata": {},
     "output_type": "display_data"
    }
   ],
   "source": [
    "print(\"Origianl Images\")\n",
    "#plt.imshow(canvas_orig, origin=\"upper\", cmap = \"gray\")\n",
    "plt.imshow(canvas_orig, origin=\"upper\", cmap = \"gray\")\n",
    "plt.show()\n",
    "\n",
    "print(\"Reconstructed Images\")\n",
    "plt.imshow(canvas_recon, origin = \"upper\", cmap = \"gray\")\n",
    "plt.show()"
   ]
  },
  {
   "cell_type": "code",
   "execution_count": null,
   "metadata": {},
   "outputs": [],
   "source": []
  }
 ],
 "metadata": {
  "kernelspec": {
   "display_name": "Python 3",
   "language": "python",
   "name": "python3"
  },
  "language_info": {
   "codemirror_mode": {
    "name": "ipython",
    "version": 3
   },
   "file_extension": ".py",
   "mimetype": "text/x-python",
   "name": "python",
   "nbconvert_exporter": "python",
   "pygments_lexer": "ipython3",
   "version": "3.5.4"
  }
 },
 "nbformat": 4,
 "nbformat_minor": 2
}
