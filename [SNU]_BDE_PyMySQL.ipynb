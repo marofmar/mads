{
 "cells": [
  {
   "cell_type": "code",
   "execution_count": 1,
   "metadata": {
    "collapsed": true
   },
   "outputs": [],
   "source": [
    "import pymysql.cursors"
   ]
  },
  {
   "cell_type": "code",
   "execution_count": 3,
   "metadata": {
    "collapsed": true
   },
   "outputs": [],
   "source": [
    "connection = pymysql.connect(\n",
    "host = '147.46.15.66',\n",
    "    user = 'yujinmarchung',\n",
    "    password = 'bde1234',\n",
    "    db = 'yujinmarchung',\n",
    "    charset = 'utf8',\n",
    "    cursorclass = pymysql.cursors.DictCursor\n",
    "    )"
   ]
  },
  {
   "cell_type": "code",
   "execution_count": 4,
   "metadata": {},
   "outputs": [
    {
     "name": "stdout",
     "output_type": "stream",
     "text": [
      "[{'stu_id': '1292001', 'resident_id': '900424-1825409', 'name': '김광식', 'year': 3, 'address': '서울', 'dept_id': '920'}, {'stu_id': '1292002', 'resident_id': '900305-1730021', 'name': '김정현', 'year': 3, 'address': '서울', 'dept_id': '920'}, {'stu_id': '1292003', 'resident_id': '891021-2308302', 'name': '김현정', 'year': 4, 'address': '대전', 'dept_id': '920'}, {'stu_id': '1292301', 'resident_id': '890902-2704012', 'name': '김현정', 'year': 2, 'address': '대구', 'dept_id': '923'}, {'stu_id': '1292303', 'resident_id': '910715-1524390', 'name': '박광식', 'year': 3, 'address': '광주', 'dept_id': '923'}, {'stu_id': '1292305', 'resident_id': '921011-1809003', 'name': '김우주', 'year': 4, 'address': '부산', 'dept_id': '923'}, {'stu_id': '1292501', 'resident_id': '900825-1506390', 'name': '박철수', 'year': 3, 'address': '대전', 'dept_id': '925'}, {'stu_id': '1292502', 'resident_id': '911011-1809003', 'name': '백태성', 'year': 3, 'address': '서울', 'dept_id': '925'}, {'stu_id': '1292503', 'resident_id': '901024-2409325', 'name': '최성희', 'year': 4, 'address': '전주', 'dept_id': '925'}]\n"
     ]
    }
   ],
   "source": [
    "try:\n",
    "    with connection.cursor() as cursor:\n",
    "        sql = \"SELECT*FROM student\"\n",
    "        cursor.execute(sql)\n",
    "        result = cursor.fetchall()\n",
    "        print(result)\n",
    "finally:\n",
    "    connection.close()"
   ]
  },
  {
   "cell_type": "code",
   "execution_count": null,
   "metadata": {
    "collapsed": true
   },
   "outputs": [],
   "source": []
  }
 ],
 "metadata": {
  "kernelspec": {
   "display_name": "Python 3",
   "language": "python",
   "name": "python3"
  },
  "language_info": {
   "codemirror_mode": {
    "name": "ipython",
    "version": 3
   },
   "file_extension": ".py",
   "mimetype": "text/x-python",
   "name": "python",
   "nbconvert_exporter": "python",
   "pygments_lexer": "ipython3",
   "version": "3.6.1"
  }
 },
 "nbformat": 4,
 "nbformat_minor": 2
}
