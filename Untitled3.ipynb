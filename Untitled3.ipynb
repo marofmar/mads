{
 "cells": [
  {
   "cell_type": "code",
   "execution_count": 1,
   "metadata": {
    "collapsed": true
   },
   "outputs": [],
   "source": [
    "import numpy as np\n",
    "from sklearn.linear_model import LogisticRegression\n",
    "from sklearn.naive_bayes import GaussianNB\n",
    "from sklearn.model_selection import KFold\n",
    "from sklearn import datasets"
   ]
  },
  {
   "cell_type": "code",
   "execution_count": null,
   "metadata": {},
   "outputs": [],
   "source": [
    "import numpy as np\n",
    "from sklearn.linear_model import LogisticRegression\n",
    "from sklearn.naive_bayes import GaussianNB\n",
    "from sklearn.model_selection import KFold\n",
    "from sklearn import datasets\n",
    "\n",
    "def Ensemble_clf(clfs, X, w):\n",
    "    # Compute probabilities for targets from each classifier\n",
    "    probs = [clf.predict_proba(X) for clf in clfs]\n",
    "    \n",
    "    return\n",
    "\n",
    "def main():\n",
    "    '''\n",
    "    Iris dataset에 대해 Classifier 1, 2, 3 및 Ensemble classifer의 5 cross-validation test score를 측정합니다.\n",
    "    '''\n",
    "    # Set random seed\n",
    "    np.random.seed(123)\n",
    "    \n",
    "    # Prepare data\n",
    "    iris = datasets.load_iris()\n",
    "    X, y = iris.data[:, 1:3], iris.target\n",
    "    \n",
    "    # Randomly permute data\n",
    "    random_idx = np.random.permutation(np.arange(len(y)))\n",
    "    X = X[random_idx]\n",
    "    y = y[random_idx]\n",
    "    \n",
    "    # Define clfs\n",
    "    clf1 = LogisticRegression(C = 1)\n",
    "    clf2 = LogisticRegression(C = 0.5)\n",
    "    clf3 = GaussianNB()\n",
    "    clfs = [clf1, clf2, clf3]\n",
    "    \n",
    "    # Define weights\n",
    "    w = [1., 1., 1.]\n",
    "    \n",
    "    # 5 cross-validation\n",
    "    kf = KFold(n_splits=5)\n",
    "    \n",
    "    # Define variable to save test scores\n",
    "    result = []\n",
    "    \n",
    "    for train, test in kf.split(X):\n",
    "        score = []\n",
    "        \n",
    "        for clf in clfs:\n",
    "            clf.fit(X[train], y[train])\n",
    "            clf_score = clf.score(X[test], y[test])\n",
    "            score.append(clf_score)\n",
    "            \n",
    "        ensemble_clf_score = np.average(y[test] == Ensemble_clf(clfs, X[test], w))\n",
    "        score.append(ensemble_clf_score)\n",
    "        \n",
    "        result.append(score)\n",
    "        \n",
    "    # Print test score\n",
    "    print('clf1 score : %.2f\\nclf2 score : %.2f\\nclf3 score : %.2f\\nensemble clf score : %.2f' \\\n",
    "          % tuple(np.average(np.asarray(result), axis = 0).tolist()))\n",
    "\n",
    "if __name__ == \"__main__\":\n",
    "    main()"
   ]
  },
  {
   "cell_type": "code",
   "execution_count": null,
   "metadata": {
    "collapsed": true
   },
   "outputs": [],
   "source": []
  }
 ],
 "metadata": {
  "kernelspec": {
   "display_name": "Python 3",
   "language": "python",
   "name": "python3"
  },
  "language_info": {
   "codemirror_mode": {
    "name": "ipython",
    "version": 3
   },
   "file_extension": ".py",
   "mimetype": "text/x-python",
   "name": "python",
   "nbconvert_exporter": "python",
   "pygments_lexer": "ipython3",
   "version": "3.6.1"
  }
 },
 "nbformat": 4,
 "nbformat_minor": 2
}
