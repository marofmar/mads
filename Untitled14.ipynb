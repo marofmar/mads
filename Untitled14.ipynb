{
 "cells": [
  {
   "cell_type": "code",
   "execution_count": 4,
   "metadata": {
    "collapsed": true
   },
   "outputs": [],
   "source": [
    "import os"
   ]
  },
  {
   "cell_type": "code",
   "execution_count": 5,
   "metadata": {},
   "outputs": [
    {
     "ename": "NameError",
     "evalue": "name 'get' is not defined",
     "output_type": "error",
     "traceback": [
      "\u001b[0;31m---------------------------------------------------------------------------\u001b[0m",
      "\u001b[0;31mNameError\u001b[0m                                 Traceback (most recent call last)",
      "\u001b[0;32m<ipython-input-5-f96f2d3b0e1e>\u001b[0m in \u001b[0;36m<module>\u001b[0;34m()\u001b[0m\n\u001b[0;32m----> 1\u001b[0;31m \u001b[0mget\u001b[0m\u001b[0;34m.\u001b[0m\u001b[0mcwd\u001b[0m\u001b[0;34m(\u001b[0m\u001b[0;34m)\u001b[0m\u001b[0;34m\u001b[0m\u001b[0m\n\u001b[0m",
      "\u001b[0;31mNameError\u001b[0m: name 'get' is not defined"
     ]
    }
   ],
   "source": [
    "get.cwd()"
   ]
  },
  {
   "cell_type": "code",
   "execution_count": 6,
   "metadata": {},
   "outputs": [
    {
     "ename": "FileNotFoundError",
     "evalue": "[Errno 2] No such file or directory: ','",
     "output_type": "error",
     "traceback": [
      "\u001b[0;31m---------------------------------------------------------------------------\u001b[0m",
      "\u001b[0;31mFileNotFoundError\u001b[0m                         Traceback (most recent call last)",
      "\u001b[0;32m<ipython-input-6-ceb020fc05da>\u001b[0m in \u001b[0;36m<module>\u001b[0;34m()\u001b[0m\n\u001b[0;32m----> 1\u001b[0;31m \u001b[0mos\u001b[0m\u001b[0;34m.\u001b[0m\u001b[0mlistdir\u001b[0m\u001b[0;34m(\u001b[0m\u001b[0;34m','\u001b[0m\u001b[0;34m)\u001b[0m\u001b[0;34m\u001b[0m\u001b[0m\n\u001b[0m",
      "\u001b[0;31mFileNotFoundError\u001b[0m: [Errno 2] No such file or directory: ','"
     ]
    }
   ],
   "source": [
    "os.listdir(',')"
   ]
  },
  {
   "cell_type": "code",
   "execution_count": 7,
   "metadata": {},
   "outputs": [
    {
     "ename": "AttributeError",
     "evalue": "module 'os' has no attribute 'ls'",
     "output_type": "error",
     "traceback": [
      "\u001b[0;31m---------------------------------------------------------------------------\u001b[0m",
      "\u001b[0;31mAttributeError\u001b[0m                            Traceback (most recent call last)",
      "\u001b[0;32m<ipython-input-7-a1f0dcd441f7>\u001b[0m in \u001b[0;36m<module>\u001b[0;34m()\u001b[0m\n\u001b[0;32m----> 1\u001b[0;31m \u001b[0mos\u001b[0m\u001b[0;34m.\u001b[0m\u001b[0mls\u001b[0m\u001b[0;34m(\u001b[0m\u001b[0;34m)\u001b[0m\u001b[0;34m\u001b[0m\u001b[0m\n\u001b[0m",
      "\u001b[0;31mAttributeError\u001b[0m: module 'os' has no attribute 'ls'"
     ]
    }
   ],
   "source": [
    "os.ls()"
   ]
  },
  {
   "cell_type": "code",
   "execution_count": 8,
   "metadata": {
    "scrolled": true
   },
   "outputs": [
    {
     "data": {
      "text/plain": [
       "['[SNU]_Bigdata_Programming_Prep_for_Midterm_ch2.ipynb',\n",
       " 'Untitled7.ipynb',\n",
       " 'call_tkinter.py',\n",
       " '[Mar]_CNN_demo.ipynb',\n",
       " '[BDE]_08302017.ipynb',\n",
       " '8.11 실습자료#1 (Student)',\n",
       " '[SNU]_BDE_inclass.ipynb',\n",
       " 'Untitled6.ipynb',\n",
       " '[SNU]_BDP_Lambda and zip .ipynb',\n",
       " '8.18 실습자료 #3 (Student)',\n",
       " '8.31 실습자료\\xad #5 (Student)',\n",
       " '[SNU]_BDP_class_072417_14-B.ipynb',\n",
       " 'Untitled4.ipynb',\n",
       " '.git',\n",
       " '[SNU]_BDE_PyMySQL.ipynb',\n",
       " '[SNU]_BDP_071217_inclass.ipynb',\n",
       " 'hw ing.ipynb',\n",
       " 'canvas_5.ipynb',\n",
       " 'pi_digits.txt',\n",
       " '[el_hw]_070317.ipynb',\n",
       " 'Untitled12.ipynb',\n",
       " '[SNU]_Bigdata_Programming_class_070517.ipynb',\n",
       " 'gviz',\n",
       " 'Untitled3.ipynb',\n",
       " 'Untitled11.ipynb',\n",
       " 'Untitled5.ipynb',\n",
       " '[SNU]_BDP_072117.ipynb',\n",
       " '[SNU]_BDMining_081117.ipynb',\n",
       " '[SNU]_BDP_072817_OPP.ipynb',\n",
       " 'home',\n",
       " 'team_4',\n",
       " '[SNU]Bigdata_programming_061417.ipynb',\n",
       " '[BDP]_170904.ipynb',\n",
       " 'Untitled1.ipynb',\n",
       " '.ipynb_checkpoints',\n",
       " 'Untitled.ipynb',\n",
       " '[BDE]_0802317.ipynb',\n",
       " '[SNU]_BDP_073117_Aliasing  Shallow Copy  Deep Copy.ipynb',\n",
       " '[SNU]_BDP_081617.ipynb',\n",
       " 'README',\n",
       " '[SNU]_BDE_080117.ipynb',\n",
       " '[SNU]_BDProg_071017.ipynb',\n",
       " '[SNU]_BDP_homework_071717.ipynb',\n",
       " 'Untitled8.ipynb',\n",
       " '[SNU]_Bigdata_Programming_exerecise_recursion_all.ipynb',\n",
       " 'sy.png',\n",
       " 'Untitled2.ipynb',\n",
       " 'sleepy.txt',\n",
       " '[SNU]_Built_in_Sophistication_Homework_071417.ipynb',\n",
       " 'data',\n",
       " 'canvas_7.ipynb',\n",
       " 'untitled.txt',\n",
       " '[SNU]_BDP_071717inclass_Recursion_Tree_Exer.ipynb',\n",
       " 'canvas_2.ipynb',\n",
       " '[SNU]_BDP_exercises_072017.ipynb',\n",
       " 'canvas_6.ipynb',\n",
       " '[SNU]_BDP_072617.ipynb',\n",
       " '[SNU]_BDE_buildingDatabaseTest.ipynb',\n",
       " '[SNU]_Bigdata_Programming_Prep_for_Midterm_ch1.ipynb',\n",
       " 'Untitled9.ipynb',\n",
       " '8.22 실습자료  #4 (Student)',\n",
       " '__MACOSX',\n",
       " '[SNU]_BDE_080717_sql_theater_database.ipynb',\n",
       " 'Untitled10.ipynb',\n",
       " 'Untitled14.ipynb',\n",
       " 'Untitled13.ipynb',\n",
       " 'canvas_1.ipynb',\n",
       " '[SNU]_BDP_check_for_homework.ipynb',\n",
       " 'canvas_3.ipynb',\n",
       " '[SNU]_Bigdata_Programming_class_070317.ipynb',\n",
       " '8.14 실습자료 #2',\n",
       " '[SNU]_Bigdata_programming_exercises_on_class_070317.ipynb',\n",
       " '[SNU]Bigdata_programming_062117.ipynb',\n",
       " '[SNU]BIgdata_programming_061917.ipynb',\n",
       " 'canvas_8.ipynb',\n",
       " 'canvas_4.ipynb',\n",
       " '[SNU]_Bigdata_Programming_Prep_for_Midterm_ch3_recursion.ipynb']"
      ]
     },
     "execution_count": 8,
     "metadata": {},
     "output_type": "execute_result"
    }
   ],
   "source": [
    "os.listdir()"
   ]
  },
  {
   "cell_type": "code",
   "execution_count": null,
   "metadata": {
    "collapsed": true
   },
   "outputs": [],
   "source": []
  }
 ],
 "metadata": {
  "kernelspec": {
   "display_name": "Python 3",
   "language": "python",
   "name": "python3"
  },
  "language_info": {
   "codemirror_mode": {
    "name": "ipython",
    "version": 3
   },
   "file_extension": ".py",
   "mimetype": "text/x-python",
   "name": "python",
   "nbconvert_exporter": "python",
   "pygments_lexer": "ipython3",
   "version": "3.6.1"
  }
 },
 "nbformat": 4,
 "nbformat_minor": 2
}
