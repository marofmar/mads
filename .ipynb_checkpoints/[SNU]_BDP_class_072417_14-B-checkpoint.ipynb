{
 "cells": [
  {
   "cell_type": "markdown",
   "metadata": {},
   "source": [
    "'''Object Oriented Programming'''\n",
    "x = 3+4\n",
    "actually 3.add(4)\n",
    "subclass 는 superclass의 variable과 function들을 상속받아서 사용할 수 있다.\n",
    "variable도 없고 method도 없는 inheriting class, just for explanation\n",
    "'function을 쓸 수 있다' 는 말은, function을 call 해야 하는데, \n",
    "function은 function인데, 반드시 클래스 안에서 클래스에 소속된 놈이다, 라는 식으로.. self를 써야 하는 이유.\n",
    "그 클래스 안에 있는 놈들만 사용할 수 있다는 뜻에서 self를 쓴다\n",
    "variable을 가질 수는 있는데 무조건 self 다음에 써 주어야 한다.\n"
   ]
  },
  {
   "cell_type": "markdown",
   "metadata": {},
   "source": [
    "### 어떤 오브젝트, 점 찍고, 펑션 네임 쓰기"
   ]
  },
  {
   "cell_type": "markdown",
   "metadata": {},
   "source": [
    "### '클래스'는 데이터 타입. 여기 속하는 object가 생성되고, "
   ]
  },
  {
   "cell_type": "code",
   "execution_count": 1,
   "metadata": {
    "collapsed": true
   },
   "outputs": [],
   "source": [
    "class BaseClass(object):\n",
    "    def printHam(self):\n",
    "        print('ham')"
   ]
  },
  {
   "cell_type": "code",
   "execution_count": 5,
   "metadata": {
    "collapsed": true
   },
   "outputs": [],
   "source": [
    "class InheritingClass(BaseClass): # 자기의 수퍼클래스를 정확히 멘션한다.\n",
    "    pass # 권고사항: 클래스 이름 첫 글자는 대문자로 해 주는 것이 대부분이다."
   ]
  },
  {
   "cell_type": "code",
   "execution_count": 6,
   "metadata": {},
   "outputs": [
    {
     "name": "stdout",
     "output_type": "stream",
     "text": [
      "ham\n"
     ]
    }
   ],
   "source": [
    "x = InheritingClass()\n",
    "x.printHam()"
   ]
  },
  {
   "cell_type": "markdown",
   "metadata": {},
   "source": [
    "##### Method Function Operation Representation "
   ]
  },
  {
   "cell_type": "code",
   "execution_count": 7,
   "metadata": {
    "collapsed": true
   },
   "outputs": [],
   "source": [
    "class Test:\n",
    "    pass"
   ]
  },
  {
   "cell_type": "code",
   "execution_count": 8,
   "metadata": {
    "collapsed": true
   },
   "outputs": [],
   "source": [
    "s = Test() # 그냥 빈 클래스도 있을 수 있다구"
   ]
  },
  {
   "cell_type": "markdown",
   "metadata": {},
   "source": [
    "##### 클래스 안에 들어가는 펑션은 무조건 셀프를 써야한다. 안그러면 에러난다."
   ]
  },
  {
   "cell_type": "markdown",
   "metadata": {},
   "source": [
    "##### 클래스 안에서 만드는 펑션은 클래스 안에 속해 있다는 뜻으로 구별해 주기 위해 self를 쓴다 "
   ]
  },
  {
   "cell_type": "markdown",
   "metadata": {},
   "source": [
    "##### 클래스 안에는 variable과 function이 있다. variable은 반드시 def 하고 언더바 2개, init, self"
   ]
  },
  {
   "cell_type": "code",
   "execution_count": 10,
   "metadata": {},
   "outputs": [
    {
     "data": {
      "text/plain": [
       "'self는 펑션 만들 때, variable만들 때 모두 쓰이는 것이지.'"
      ]
     },
     "execution_count": 10,
     "metadata": {},
     "output_type": "execute_result"
    }
   ],
   "source": [
    "class Ph:\n",
    "    def __init__(self): ## Special Function, Special Variable \n",
    "        self.y = 5\n",
    "        z = 5\n",
    "    def printHam(self):\n",
    "        print(\"ham\")\n",
    "''' Ph는 펑션을 2개 가지고 있고, variable을 두 개 가지고 싶으면, init 아래에. 그런데 self를 앞에 써 줘야 해.\n",
    "즉 y는 잘 쓴 예에 해당하고, z는 실수인 것이지'''\n",
    "\n",
    "'''self는 펑션 만들 때, variable만들 때 모두 쓰이는 것이지.'''"
   ]
  },
  {
   "cell_type": "markdown",
   "metadata": {},
   "source": [
    "그래서 언더바 언더바 이닛 이게 모에욥\n",
    "Ph class에서 variable만드는 것을: Instantiation 이라고 부른다. Object는 instance와 같은 말이라서.\n"
   ]
  },
  {
   "cell_type": "code",
   "execution_count": 20,
   "metadata": {},
   "outputs": [],
   "source": [
    "class Hero:\n",
    "    def __init__(self, name):\n",
    "        self.name = name\n",
    "        self.health = 100\n",
    "    def eat(self, food):\n",
    "        if(food == 'apple'):\n",
    "            self.health =-100 # 100이 줄어들고\n",
    "        elif (food == 'ham'):\n",
    "            self.health +=20 # 20이 늘어난다"
   ]
  },
  {
   "cell_type": "code",
   "execution_count": 21,
   "metadata": {},
   "outputs": [
    {
     "name": "stdout",
     "output_type": "stream",
     "text": [
      "Bob\n",
      "100\n"
     ]
    }
   ],
   "source": [
    "Bob = Hero('Bob')\n",
    "print(Bob.name)\n",
    "print(Bob.health)"
   ]
  },
  {
   "cell_type": "code",
   "execution_count": 22,
   "metadata": {},
   "outputs": [
    {
     "name": "stdout",
     "output_type": "stream",
     "text": [
      "120\n"
     ]
    }
   ],
   "source": [
    "Bob.eat('ham')\n",
    "print(Bob.health)"
   ]
  },
  {
   "cell_type": "markdown",
   "metadata": {},
   "source": [
    "## ''' 지금은 클래스 안의 메쏘드, 베리어블이 인스탄스에 속하지만, 클래스에 속한 method, variable도 존재한다. '''\n",
    "''' class variable, class fucntion. Since mostly we uses instance method, and variable,,,'''"
   ]
  },
  {
   "cell_type": "markdown",
   "metadata": {},
   "source": [
    "##### 데이터 타입은 만들어놓으면 호빵 틀 처럼 계속 막 쓸 수 있어. \n",
    "데이터 타입을 만드는 이유는 여러 개 에서 활용하고자. 한 번 쓰고 버리는거 아니다!\n"
   ]
  },
  {
   "cell_type": "code",
   "execution_count": 23,
   "metadata": {},
   "outputs": [
    {
     "data": {
      "text/plain": [
       "' OOP, 객체 중심으로 코들르 짜고 생각한다는 것 '"
      ]
     },
     "execution_count": 23,
     "metadata": {},
     "output_type": "execute_result"
    }
   ],
   "source": [
    "class Service:\n",
    "    secre = \"영구는 배꼽이 두 개다\" # 이거는 class variable 이다\n",
    "''' OOP, 객체 중심으로 코들르 짜고 생각한다는 것 '''"
   ]
  },
  {
   "cell_type": "markdown",
   "metadata": {},
   "source": [
    "# 상위 클래스와 하위 클래스 사이에는 'is a' 관계가 있다고 여러번 이야기 했잖아요! "
   ]
  },
  {
   "cell_type": "code",
   "execution_count": 25,
   "metadata": {},
   "outputs": [],
   "source": [
    "class Calculator:\n",
    "    def __init__(self):\n",
    "        self.result = 0\n",
    "    def adder(self, num):\n",
    "        self.result += num\n",
    "        return self.result\n",
    "\n",
    "cal1 = Calculator()\n",
    "cal2 = Calculator()"
   ]
  },
  {
   "cell_type": "code",
   "execution_count": 26,
   "metadata": {},
   "outputs": [
    {
     "name": "stdout",
     "output_type": "stream",
     "text": [
      "3\n",
      "7\n",
      "3\n",
      "10\n"
     ]
    }
   ],
   "source": [
    "print(cal1.adder(3))\n",
    "print(cal1.adder(4))\n",
    "print(cal2.adder(3))\n",
    "print(cal2.adder(7))"
   ]
  },
  {
   "cell_type": "code",
   "execution_count": 27,
   "metadata": {
    "collapsed": true
   },
   "outputs": [],
   "source": [
    "class FourCal:\n",
    "    def __init__(self):\n",
    "        self.setdata"
   ]
  },
  {
   "cell_type": "markdown",
   "metadata": {},
   "source": [
    "##### super, 나의 수퍼클래스에 있는 놈에서"
   ]
  },
  {
   "cell_type": "markdown",
   "metadata": {},
   "source": [
    "##### 위에서 상속되는 놈하고 같은 이름이 있으면, 상속된 것 보다 내 속에 있는 것이 우선권을 가진다. "
   ]
  },
  {
   "cell_type": "markdown",
   "metadata": {},
   "source": [
    "##### 수행 우선순위가 높다. 위에서 상속을 받는데, 상속을 안 받는 방법이, 같은 이름으로 내 몸체 안에서 만들어두는 것."
   ]
  },
  {
   "cell_type": "markdown",
   "metadata": {},
   "source": [
    "##### 이를 상속되는 function을 overiding 한다고 일컫는다! "
   ]
  },
  {
   "cell_type": "code",
   "execution_count": 29,
   "metadata": {},
   "outputs": [
    {
     "data": {
      "text/plain": [
       "'Overriding'"
      ]
     },
     "execution_count": 29,
     "metadata": {},
     "output_type": "execute_result"
    }
   ],
   "source": [
    "'''Overriding'''"
   ]
  },
  {
   "cell_type": "code",
   "execution_count": 33,
   "metadata": {},
   "outputs": [
    {
     "name": "stdout",
     "output_type": "stream",
     "text": [
      "hammer\n"
     ]
    },
    {
     "ename": "AttributeError",
     "evalue": "type object 'BaseClass' has no attribute '__subclass__'",
     "output_type": "error",
     "traceback": [
      "\u001b[0;31m---------------------------------------------------------------------------\u001b[0m",
      "\u001b[0;31mAttributeError\u001b[0m                            Traceback (most recent call last)",
      "\u001b[0;32m<ipython-input-33-3d9498cf182c>\u001b[0m in \u001b[0;36m<module>\u001b[0;34m()\u001b[0m\n\u001b[1;32m      8\u001b[0m \u001b[0mA\u001b[0m \u001b[0;34m=\u001b[0m \u001b[0mInClass\u001b[0m\u001b[0;34m(\u001b[0m\u001b[0;34m)\u001b[0m\u001b[0;34m\u001b[0m\u001b[0m\n\u001b[1;32m      9\u001b[0m \u001b[0mA\u001b[0m\u001b[0;34m.\u001b[0m\u001b[0mtest\u001b[0m\u001b[0;34m(\u001b[0m\u001b[0;34m)\u001b[0m\u001b[0;34m\u001b[0m\u001b[0m\n\u001b[0;32m---> 10\u001b[0;31m \u001b[0mBaseClass\u001b[0m\u001b[0;34m.\u001b[0m\u001b[0m__subclass__\u001b[0m\u001b[0;34m(\u001b[0m\u001b[0;34m)\u001b[0m\u001b[0;34m\u001b[0m\u001b[0m\n\u001b[0m\u001b[1;32m     11\u001b[0m \u001b[0;34m'''How to return Subclass?'''\u001b[0m\u001b[0;34m\u001b[0m\u001b[0m\n",
      "\u001b[0;31mAttributeError\u001b[0m: type object 'BaseClass' has no attribute '__subclass__'"
     ]
    }
   ],
   "source": [
    "class BaseClass(object):\n",
    "    def test(self):\n",
    "        print('ham')\n",
    "class InClass(BaseClass):\n",
    "    def test(self):\n",
    "        print(\"hammer\")\n",
    "\n",
    "A = InClass()\n",
    "A.test()\n",
    "BaseClass.__subclass__()\n",
    "'''How to return Subclass?'''"
   ]
  },
  {
   "cell_type": "markdown",
   "metadata": {},
   "source": [
    "# ''' 같이 타이핑 하면서 5개 문제를 진행해 보쟈 '''"
   ]
  },
  {
   "cell_type": "code",
   "execution_count": 60,
   "metadata": {
    "collapsed": true
   },
   "outputs": [],
   "source": [
    "class HousePark:\n",
    "    lastname = \"박\" # 이는 클래스 variable이다. 앞으로 생성된느 모든 클래스의 오브젝트들이, 인스탄스 var는 각 그 \n",
    "    # 값이 다른데, 모든 ins 들이 같은 값을 가져야 하는 상황이 있다. 지금 보게 되면, 모든 ins가 공유할 하나의 값이니,\n",
    "    # 클래스 var로 떼어서 정해 두는 것. \n",
    "    def __init__(self, name):\n",
    "        self.fullname = self.lastname + name\n",
    "    def travel(self, where):\n",
    "        print(\"%s, %s 여행을 가다.\" %(self.fullname, where))\n",
    "    def travel(self,where,day):\n",
    "        print(\"%s, %s여행 %d일 가네.\" %(self.fullname, where,day)) # Over-riding"
   ]
  },
  {
   "cell_type": "code",
   "execution_count": 61,
   "metadata": {},
   "outputs": [
    {
     "data": {
      "text/plain": [
       "' Ob. var는 매 번 다른 값, class var는 항상 값이 같아. init안에 들어가는 애들이 ins var.'"
      ]
     },
     "execution_count": 61,
     "metadata": {},
     "output_type": "execute_result"
    }
   ],
   "source": [
    "''' Ob. var는 매 번 다른 값, class var는 항상 값이 같아. init안에 들어가는 애들이 ins var.'''"
   ]
  },
  {
   "cell_type": "code",
   "execution_count": 62,
   "metadata": {},
   "outputs": [
    {
     "ename": "TypeError",
     "evalue": "__init__() missing 1 required positional argument: 'name'",
     "output_type": "error",
     "traceback": [
      "\u001b[0;31m---------------------------------------------------------------------------\u001b[0m",
      "\u001b[0;31mTypeError\u001b[0m                                 Traceback (most recent call last)",
      "\u001b[0;32m<ipython-input-62-22c18c13dd20>\u001b[0m in \u001b[0;36m<module>\u001b[0;34m()\u001b[0m\n\u001b[0;32m----> 1\u001b[0;31m \u001b[0mpey\u001b[0m \u001b[0;34m=\u001b[0m \u001b[0mHousePark\u001b[0m\u001b[0;34m(\u001b[0m\u001b[0;34m)\u001b[0m\u001b[0;34m\u001b[0m\u001b[0m\n\u001b[0m",
      "\u001b[0;31mTypeError\u001b[0m: __init__() missing 1 required positional argument: 'name'"
     ]
    }
   ],
   "source": [
    "pey = HousePark()"
   ]
  },
  {
   "cell_type": "code",
   "execution_count": 63,
   "metadata": {},
   "outputs": [
    {
     "ename": "TypeError",
     "evalue": "travel() missing 1 required positional argument: 'day'",
     "output_type": "error",
     "traceback": [
      "\u001b[0;31m---------------------------------------------------------------------------\u001b[0m",
      "\u001b[0;31mTypeError\u001b[0m                                 Traceback (most recent call last)",
      "\u001b[0;32m<ipython-input-63-f488a478668f>\u001b[0m in \u001b[0;36m<module>\u001b[0;34m()\u001b[0m\n\u001b[1;32m      1\u001b[0m \u001b[0mpey\u001b[0m \u001b[0;34m=\u001b[0m \u001b[0mHousePark\u001b[0m\u001b[0;34m(\u001b[0m\u001b[0;34m\"응용\"\u001b[0m\u001b[0;34m)\u001b[0m\u001b[0;34m\u001b[0m\u001b[0m\n\u001b[0;32m----> 2\u001b[0;31m \u001b[0mpey\u001b[0m\u001b[0;34m.\u001b[0m\u001b[0mtravel\u001b[0m\u001b[0;34m(\u001b[0m\u001b[0;34m\"태국\"\u001b[0m\u001b[0;34m)\u001b[0m\u001b[0;34m\u001b[0m\u001b[0m\n\u001b[0m",
      "\u001b[0;31mTypeError\u001b[0m: travel() missing 1 required positional argument: 'day'"
     ]
    }
   ],
   "source": [
    "pey = HousePark(\"응용\")\n",
    "pey.travel(\"태국\")"
   ]
  },
  {
   "cell_type": "code",
   "execution_count": 64,
   "metadata": {
    "collapsed": true
   },
   "outputs": [],
   "source": [
    "class HouseKim(HousePark):\n",
    "    lastname = \"김\" #상속 했지만 우선 순위는 김으로 들어간다! 알지?!\n",
    "    '''근데 이거 나쁜 예야. 서브 클래스가 되려면 'is a ' 가 되어야 하는데 안되잖아. 이거 성립 안되는데 해버린것.\n",
    "    그래도 파이썬은 그냥 돌아가. '''"
   ]
  },
  {
   "cell_type": "code",
   "execution_count": 66,
   "metadata": {
    "collapsed": true
   },
   "outputs": [],
   "source": [
    "class HousePark:\n",
    "    lastname = \"박\" # 이는 클래스 variable이다. 앞으로 생성된느 모든 클래스의 오브젝트들이, 인스탄스 var는 각 그 \n",
    "    # 값이 다른데, 모든 ins 들이 같은 값을 가져야 하는 상황이 있다. 지금 보게 되면, 모든 ins가 공유할 하나의 값이니,\n",
    "    # 클래스 var로 떼어서 정해 두는 것. \n",
    "    def __init__(self, name):\n",
    "        self.fullname = self.lastname + name\n",
    "    def travel(self, where):\n",
    "        print(\"%s, %s 여행을 가다.\" %(self.fullname, where))\n",
    "    def travel(self,where,day):\n",
    "        print(\"%s, %s여행 %d일 가네.\" %(self.fullname, where,day)) # Over-riding"
   ]
  },
  {
   "cell_type": "code",
   "execution_count": 67,
   "metadata": {},
   "outputs": [
    {
     "name": "stdout",
     "output_type": "stream",
     "text": [
      "김줄리엣, 독도여행 3일 가네.\n"
     ]
    }
   ],
   "source": [
    "juliet = HouseKim(\"줄리엣\")\n",
    "juliet.travel(\"독도\",3)"
   ]
  },
  {
   "cell_type": "code",
   "execution_count": 68,
   "metadata": {},
   "outputs": [
    {
     "name": "stdout",
     "output_type": "stream",
     "text": [
      "쳥유진, 바르셀로나여행 7일 가네.\n"
     ]
    }
   ],
   "source": [
    "class HouseChung(HousePark):\n",
    "    lastname = \"쳥\"\n",
    "Yujin = HouseChung(\"유진\")\n",
    "Yujin.travel(\"바르셀로나\",7)"
   ]
  },
  {
   "cell_type": "code",
   "execution_count": 56,
   "metadata": {},
   "outputs": [
    {
     "data": {
      "text/plain": [
       "'김'"
      ]
     },
     "execution_count": 56,
     "metadata": {},
     "output_type": "execute_result"
    }
   ],
   "source": [
    "juliet.lastname"
   ]
  },
  {
   "cell_type": "code",
   "execution_count": 57,
   "metadata": {},
   "outputs": [
    {
     "data": {
      "text/plain": [
       "'쳥'"
      ]
     },
     "execution_count": 57,
     "metadata": {},
     "output_type": "execute_result"
    }
   ],
   "source": [
    "Yujin.lastname"
   ]
  },
  {
   "cell_type": "code",
   "execution_count": 69,
   "metadata": {},
   "outputs": [
    {
     "data": {
      "text/plain": [
       "' __init__ 이놈을 Constructor 라고 부른다\\n오브젝트가 생성될 때 수행이 되니까! \\n'"
      ]
     },
     "execution_count": 69,
     "metadata": {},
     "output_type": "execute_result"
    }
   ],
   "source": [
    "''' __init__ 이놈을 Constructor 라고 부른다\n",
    "오브젝트가 생성될 때 수행이 되니까! \n",
    "'''"
   ]
  },
  {
   "cell_type": "code",
   "execution_count": 70,
   "metadata": {
    "collapsed": true
   },
   "outputs": [],
   "source": [
    "class HousePark:\n",
    "    lastname = \"박\" \n",
    "    def __init__(self, name):\n",
    "        self.fullname = self.lastname + name\n",
    "    def travel(self, where):\n",
    "        print(\"%s, %s 여행을 가다.\" %(self.fullname, where))\n",
    "    def love(self, other):\n",
    "        print(\"%s, %s 사랑에 빠졌네\" %(self.fullname, other.fullname))\n",
    "    def __add__(self, other):\n",
    "        print(\"%s, %s 결혼했네\" %(self.fullname, other.fullname))"
   ]
  },
  {
   "cell_type": "code",
   "execution_count": 71,
   "metadata": {},
   "outputs": [
    {
     "name": "stdout",
     "output_type": "stream",
     "text": [
      "박응용, 김줄리엣 결혼했네\n"
     ]
    }
   ],
   "source": [
    "pey = HousePark(\"응용\")\n",
    "juliet = HouseKim(\"줄리엣\")\n",
    "pey+juliet"
   ]
  },
  {
   "cell_type": "code",
   "execution_count": 73,
   "metadata": {},
   "outputs": [],
   "source": [
    "class HousePark:\n",
    "    lastname = \"박\" \n",
    "    def __init__(self, name):\n",
    "        self.fullname = self.lastname + name\n",
    "    def travel(self, where):\n",
    "        print(\"%s, %s 여행을 가다.\" %(self.fullname, where))\n",
    "    def love(self, other):\n",
    "        print(\"%s, %s 사랑에 빠졌네\" %(self.fullname, other.fullname))\n",
    "    def fight(self, other):\n",
    "        print(\"%s, %s 싸우네\" %(self.fullname, other.fullname))\n",
    "    def __add__(self, other):\n",
    "        print(\"%s, %s 결혼했네\" %(self.fullname, other.fullname))\n",
    "    def __sub__(self, other):\n",
    "        print(\"%s %s 이혼했네\" %(self.fullname, other.fullname))\n",
    "        "
   ]
  },
  {
   "cell_type": "code",
   "execution_count": 75,
   "metadata": {},
   "outputs": [
    {
     "name": "stdout",
     "output_type": "stream",
     "text": [
      "박응용 김줄리엣 이혼했네\n"
     ]
    }
   ],
   "source": [
    "pey = HousePark(\"응용\")\n",
    "juliet = HouseKim(\"줄리엣\")\n",
    "pey-juliet"
   ]
  },
  {
   "cell_type": "code",
   "execution_count": 76,
   "metadata": {},
   "outputs": [
    {
     "name": "stdout",
     "output_type": "stream",
     "text": [
      "박응용, 김줄리엣 싸우네\n"
     ]
    }
   ],
   "source": [
    "pey.fight(juliet)"
   ]
  },
  {
   "cell_type": "markdown",
   "metadata": {},
   "source": [
    "# 이제 아주 드러운 예제야!"
   ]
  },
  {
   "cell_type": "code",
   "execution_count": 77,
   "metadata": {},
   "outputs": [
    {
     "ename": "SyntaxError",
     "evalue": "invalid syntax (<ipython-input-77-41f73a029b4e>, line 4)",
     "output_type": "error",
     "traceback": [
      "\u001b[0;36m  File \u001b[0;32m\"<ipython-input-77-41f73a029b4e>\"\u001b[0;36m, line \u001b[0;32m4\u001b[0m\n\u001b[0;31m    def g(se)\u001b[0m\n\u001b[0m             ^\u001b[0m\n\u001b[0;31mSyntaxError\u001b[0m\u001b[0;31m:\u001b[0m invalid syntax\n"
     ]
    }
   ],
   "source": [
    "class A:\n",
    "    def f(self):\n",
    "        return self.g()\n",
    "    def g(se)"
   ]
  },
  {
   "cell_type": "markdown",
   "metadata": {},
   "source": [
    "# 자 이제 또 문제 풀이의 시간이 왔어 14-B"
   ]
  },
  {
   "cell_type": "code",
   "execution_count": 78,
   "metadata": {
    "collapsed": true
   },
   "outputs": [],
   "source": [
    "# 전지전능한 object는 그 안에 뭐가 들었을까"
   ]
  },
  {
   "cell_type": "code",
   "execution_count": null,
   "metadata": {
    "collapsed": true
   },
   "outputs": [],
   "source": [
    "# 1 Use Recursion!\n",
    "# counts the number of elem. in the list that qre equal to the value.\n",
    "def count_matches(some_list, value):\n",
    "    # Base case\n",
    "    if some_list == []:\n",
    "        return 0\n",
    "    if len(some_list)==1:\n",
    "        if some_list[0] == value: return 1\n",
    "        else: 0\n",
    "    if \n",
    "    # Recursion Case"
   ]
  },
  {
   "cell_type": "code",
   "execution_count": 80,
   "metadata": {},
   "outputs": [],
   "source": [
    "# 1번 답\n",
    "def count_matches(some_list, value):\n",
    "    if len(some_list) <2:\n",
    "        if len(some_list) ==0:\n",
    "            return 0\n",
    "        elif some_list[0] == value:\n",
    "            return 1\n",
    "        else:\n",
    "            return 0\n",
    "        return count_matches([some_list[0]], value) + count_matches([some_list][1:], value)"
   ]
  },
  {
   "cell_type": "code",
   "execution_count": null,
   "metadata": {
    "collapsed": true
   },
   "outputs": [],
   "source": [
    "# 2\n",
    "def double_each(some_list):\n",
    "    if some_list == []:\n",
    "        return []\n",
    "    if len(some_list) == 1:\n",
    "        return [ some_list[0], some_list[0]]\n",
    "    else:\n",
    "        double_each("
   ]
  },
  {
   "cell_type": "code",
   "execution_count": 82,
   "metadata": {},
   "outputs": [],
   "source": [
    "#2 답\n",
    "def double_each(some_list):\n",
    "    if len(some_list)==0:\n",
    "        return []\n",
    "    else:\n",
    "        return [some_list[0]]*2 + doulbe_each(some_list[1:])"
   ]
  },
  {
   "cell_type": "code",
   "execution_count": null,
   "metadata": {
    "collapsed": true
   },
   "outputs": [],
   "source": [
    "# 3\n",
    "def sums_to(nums, k):\n",
    "    if nums == [] and k ==0:\n",
    "        return True\n",
    "    else:\n",
    "        return []"
   ]
  },
  {
   "cell_type": "code",
   "execution_count": 83,
   "metadata": {
    "collapsed": true
   },
   "outputs": [],
   "source": [
    "# 3번 답\n",
    "def sums_to(nums, k):\n",
    "    if len(nums) == 0:\n",
    "        if k == 0:\n",
    "            return True\n",
    "        else:\n",
    "            return False\n",
    "    return sums_to(nums[1:], k-nums[0])"
   ]
  },
  {
   "cell_type": "code",
   "execution_count": null,
   "metadata": {
    "collapsed": true
   },
   "outputs": [],
   "source": [
    "# 4 # len function 씁시당!\n",
    "def is_reverse(string1, string2):\n",
    "    if len(string1) != len(string2):\n",
    "        return False \n",
    "    if string1 == \"\" and string2 == \"\":\n",
    "        return True\n",
    "    else:\n",
    "        return "
   ]
  },
  {
   "cell_type": "code",
   "execution_count": 85,
   "metadata": {
    "collapsed": true
   },
   "outputs": [],
   "source": [
    "# 4번 답\n",
    "def is_reverse(string1, string2):\n",
    "    if len(string1) != len(string2):\n",
    "        return False\n",
    "    if len(string1) == 0 and len(string2) ==0:\n",
    "        return True\n",
    "    if string1[0] == string2[-1]:\n",
    "        return is_reverse(string1[1:], string2[:-1])\n",
    "    else:\n",
    "        return False"
   ]
  },
  {
   "cell_type": "code",
   "execution_count": null,
   "metadata": {
    "collapsed": true
   },
   "outputs": [],
   "source": [
    "# 5\n",
    "def sort_repeated(L):\n",
    "    tmp = list(enumerate(L))\n",
    "    \n",
    "    "
   ]
  },
  {
   "cell_type": "code",
   "execution_count": 88,
   "metadata": {},
   "outputs": [
    {
     "data": {
      "text/plain": [
       "[(0, 2), (1, 4), (2, 6), (3, 8)]"
      ]
     },
     "execution_count": 88,
     "metadata": {},
     "output_type": "execute_result"
    }
   ],
   "source": [
    "lst = [2,4,6,8]\n",
    "list(enumerate(lst))"
   ]
  },
  {
   "cell_type": "code",
   "execution_count": 89,
   "metadata": {
    "collapsed": true
   },
   "outputs": [],
   "source": [
    "# 5번 답\n",
    "def repeats(L):\n",
    "    seen = set()\n",
    "    seenAgain = set()\n",
    "    for element in L:\n",
    "        if(element in seen):\n",
    "            seenAgain.add(element)\n",
    "        see.add(element)\n",
    "    return sorted(seenAgain)"
   ]
  },
  {
   "cell_type": "code",
   "execution_count": 90,
   "metadata": {
    "collapsed": true
   },
   "outputs": [],
   "source": [
    "# 6\n",
    "def make_Dict_number(lst):\n",
    "    counts = dict()\n",
    "    for item in lst:\n",
    "        counts[item] = counts[item]+1 if(item in counts) else 1\n",
    "    return counts"
   ]
  },
  {
   "cell_type": "code",
   "execution_count": 92,
   "metadata": {},
   "outputs": [],
   "source": [
    "def make_dict_number2(lst):\n",
    "    counts = dict()\n",
    "    for item in lst:\n",
    "        counts[item]=counts.get(item, 0) +1\n",
    "    return counts"
   ]
  },
  {
   "cell_type": "code",
   "execution_count": 94,
   "metadata": {},
   "outputs": [],
   "source": [
    "def most_Frequent(lst):\n",
    "    counts = dict()\n",
    "    for item in lst:\n",
    "        counts[item] = counts[item]+1 if (item in count) else 1\n",
    "    return max(counts)"
   ]
  },
  {
   "cell_type": "code",
   "execution_count": 95,
   "metadata": {
    "collapsed": true
   },
   "outputs": [],
   "source": [
    "# 답\n",
    "def mostFrequent(a):\n",
    "    maxValue = None\n",
    "    maxCount = 0\n",
    "    counts = dict()\n",
    "    for element in a:\n",
    "        count = counts[element] if (element in counts) else 0\n",
    "        count += 1\n",
    "        counts[element] = count\n",
    "        \n",
    "        if(count>maxCount):\n",
    "            maxCount = count\n",
    "            maxValue = element\n",
    "    return maxValue"
   ]
  },
  {
   "cell_type": "code",
   "execution_count": 97,
   "metadata": {
    "collapsed": true
   },
   "outputs": [],
   "source": [
    "def mostFrequent_get(a):\n",
    "    maxValue = None\n",
    "    maxCount = 0\n",
    "    counts = dict()\n",
    "    for element in a:\n",
    "        count = 1+ counts.get(element, 0)\n",
    "        counts[element] = count\n",
    "        \n",
    "        if(count>maxCount):\n",
    "            maxCount = count\n",
    "            maxValue = element\n",
    "    return maxValue"
   ]
  },
  {
   "cell_type": "code",
   "execution_count": 98,
   "metadata": {
    "collapsed": true
   },
   "outputs": [],
   "source": [
    "# 7 답\n",
    "def histogram(letters):\n",
    "    ans = {}\n",
    "    valueList = list(letters.values())\n",
    "    for i in ragne(0, len(letters)):\n",
    "        ans[valueList[i]] = valueList.count(valueList[i])\n",
    "    return ans"
   ]
  },
  {
   "cell_type": "code",
   "execution_count": null,
   "metadata": {
    "collapsed": true
   },
   "outputs": [],
   "source": []
  }
 ],
 "metadata": {
  "kernelspec": {
   "display_name": "Python 3",
   "language": "python",
   "name": "python3"
  },
  "language_info": {
   "codemirror_mode": {
    "name": "ipython",
    "version": 3
   },
   "file_extension": ".py",
   "mimetype": "text/x-python",
   "name": "python",
   "nbconvert_exporter": "python",
   "pygments_lexer": "ipython3",
   "version": "3.6.1"
  }
 },
 "nbformat": 4,
 "nbformat_minor": 2
}
