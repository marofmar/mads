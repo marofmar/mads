{
 "cells": [
  {
   "cell_type": "code",
   "execution_count": 1,
   "metadata": {
    "collapsed": true
   },
   "outputs": [],
   "source": [
    "import numpy as np"
   ]
  },
  {
   "cell_type": "code",
   "execution_count": 2,
   "metadata": {
    "collapsed": true
   },
   "outputs": [],
   "source": [
    "def compute_dist(X,i,dist_type):\n",
    "    if dist_type == 'l1':\n",
    "        return np.sum(np.abs(self.Xtr - X[i,:]), axis = 1)\n",
    "    elif dist_type == 'l2':\n",
    "        return np.sqrt(np.sum(np.square(self.Xtr - X[i, :]), axis = 1))"
   ]
  },
  {
   "cell_type": "code",
   "execution_count": 6,
   "metadata": {
    "collapsed": true
   },
   "outputs": [],
   "source": [
    "def pred_point(distances, k):\n",
    "    if k == 1:\n",
    "        min_index = np.argmin(distance)\n",
    "        return self.ytr[min_index],7\n",
    "    elif k>1:\n",
    "        min_indices = np.argpartition(distances, k)[:k]\n",
    "        labels = np.arrapy([self.ytr[i] for i in min_indices], dtype = int)\n",
    "        return np.argmax(np.bincount(labels))\n",
    "\n",
    "def predict(self, X, dist_type, k = 1):\n",
    "    num_test = X.shape[0]\n",
    "    Ypred = np.zeros(num_test, dtype = self.ytr.dtype)\n",
    "    \n",
    "    for i in range(num_test):\n",
    "        distance = self.compute_dist(X, dist_type)\n",
    "        Ypred[i] = self.pred_print(distances,k)\n",
    "        #min_index = np.argmin(distance)\n",
    "        #Ypred[i] = self.ytr[min_index]\n",
    "        \n",
    "    return Ypred"
   ]
  },
  {
   "cell_type": "code",
   "execution_count": null,
   "metadata": {
    "collapsed": true
   },
   "outputs": [],
   "source": []
  }
 ],
 "metadata": {
  "kernelspec": {
   "display_name": "Python 3",
   "language": "python",
   "name": "python3"
  },
  "language_info": {
   "codemirror_mode": {
    "name": "ipython",
    "version": 3
   },
   "file_extension": ".py",
   "mimetype": "text/x-python",
   "name": "python",
   "nbconvert_exporter": "python",
   "pygments_lexer": "ipython3",
   "version": "3.6.1"
  }
 },
 "nbformat": 4,
 "nbformat_minor": 2
}
