{
 "cells": [
  {
   "cell_type": "code",
   "execution_count": 2,
   "metadata": {},
   "outputs": [],
   "source": [
    "def factorial(n):\n",
    "    if n == 0:\n",
    "        return 1\n",
    "    else:\n",
    "        retun (n*factorial(n-1))"
   ]
  },
  {
   "cell_type": "code",
   "execution_count": 3,
   "metadata": {
    "collapsed": true
   },
   "outputs": [],
   "source": [
    "# iterative fac\n",
    "def factorial_iterative(n):\n",
    "    result = 1\n",
    "    for i in range(1, n+1):\n",
    "        result = result * i\n",
    "    return result"
   ]
  },
  {
   "cell_type": "code",
   "execution_count": 6,
   "metadata": {},
   "outputs": [],
   "source": [
    "# Recursion- sum of a list\n",
    "def sumlist(items):\n",
    "    if items == []:\n",
    "        return 0\n",
    "    else:\n",
    "        return itme[0] + sumlist(items[1:])"
   ]
  },
  {
   "cell_type": "code",
   "execution_count": 8,
   "metadata": {},
   "outputs": [],
   "source": [
    "def fib(n):\n",
    "    if n == 0 or n ==1:\n",
    "        return n\n",
    "    else:\n",
    "        return fib(n-1) + fib(n-2)"
   ]
  },
  {
   "cell_type": "code",
   "execution_count": 9,
   "metadata": {
    "collapsed": true
   },
   "outputs": [],
   "source": [
    "# Iterative Fibonacci\n",
    "def fib(n):\n",
    "    x = 0\n",
    "    next_x = 1\n",
    "    for i in range(1, n+1):\n",
    "        x, next_x = next_x, x+next_x\n",
    "    return x"
   ]
  },
  {
   "cell_type": "code",
   "execution_count": 10,
   "metadata": {
    "collapsed": true
   },
   "outputs": [],
   "source": [
    "def reverse(s):\n",
    "    return reverse(s[1:]) + s[0]"
   ]
  },
  {
   "cell_type": "code",
   "execution_count": 11,
   "metadata": {
    "collapsed": true
   },
   "outputs": [],
   "source": [
    "def reverse(s):\n",
    "    if s == \"\":\n",
    "        return s\n",
    "    else:\n",
    "        return reverse(s[1:]) + s[0]"
   ]
  },
  {
   "cell_type": "code",
   "execution_count": 12,
   "metadata": {
    "collapsed": true
   },
   "outputs": [],
   "source": [
    "# Iterative solution to reverse string\n",
    "def it_reverse(s):\n",
    "    reverse = \"\"\n",
    "    for ch in s:\n",
    "        reverse = ch + reverse\n",
    "    return reverse"
   ]
  },
  {
   "cell_type": "code",
   "execution_count": 13,
   "metadata": {
    "collapsed": true
   },
   "outputs": [],
   "source": [
    "# Greatest Common Denominator\n",
    "# Iterative\n",
    "def gcd_it(x, y):\n",
    "    while (y >0):\n",
    "        oldX = x\n",
    "        x = y\n",
    "        y = oldX % y\n",
    "    return x"
   ]
  },
  {
   "cell_type": "code",
   "execution_count": 14,
   "metadata": {
    "collapsed": true
   },
   "outputs": [],
   "source": [
    "# Recursive solution for GCD\n",
    "def rec_gcd(x,y):\n",
    "    if ( y == 0):\n",
    "        return x\n",
    "    else:\n",
    "        return rec_gcd(y, x%y)"
   ]
  },
  {
   "cell_type": "code",
   "execution_count": 15,
   "metadata": {
    "collapsed": true
   },
   "outputs": [],
   "source": [
    "def pi_series_iter(n):\n",
    "    result = 0\n",
    "    for i in range(1, n+1):\n",
    "        result = result + 1/(i**2)\n",
    "    return result"
   ]
  },
  {
   "cell_type": "code",
   "execution_count": 16,
   "metadata": {
    "collapsed": true
   },
   "outputs": [],
   "source": [
    "def recursivePower(a, n):\n",
    "    if n == 0:\n",
    "        return 1\n",
    "    else:\n",
    "        factor = recursivePoser(a, n//2)\n",
    "        if n%2 == 0:\n",
    "            return factor * factor\n",
    "        else:\n",
    "            return factor*factor*a"
   ]
  },
  {
   "cell_type": "code",
   "execution_count": 17,
   "metadata": {
    "collapsed": true
   },
   "outputs": [],
   "source": [
    "def msort(lst):\n",
    "    if len(lst) == 0 or len(lst) == 1:\n",
    "        return lst[:len(lst)]\n",
    "    halfway =len(lst)//2\n",
    "    lst1 = lst[0:halfway]\n",
    "    lst2 = lst[halfway:len(lst)]\n",
    "    newlist1= msort(lst1)\n",
    "    newlist2 = msort(lst2)\n",
    "    newlist = merge(newlist1, newlist2)\n",
    "    return newlist"
   ]
  },
  {
   "cell_type": "code",
   "execution_count": 20,
   "metadata": {},
   "outputs": [],
   "source": [
    "def merge(a,b):\n",
    "    index_a = 0\n",
    "    index_b = 0\n",
    "    c = []\n",
    "    while index_a < len(a) and index_b <len(b):\n",
    "        if a[index_a] <= b[index_b]:\n",
    "            c.append(a[index_a])\n",
    "            index_a = indexx_a+1\n",
    "        else:\n",
    "            c.append(b[index_b])\n",
    "            index_b=index_b+1\n",
    "    c.extend(a[index_a:])\n",
    "    c.extend(b[index_b:])\n",
    "    return c"
   ]
  },
  {
   "cell_type": "code",
   "execution_count": 23,
   "metadata": {},
   "outputs": [
    {
     "data": {
      "text/plain": [
       "6"
      ]
     },
     "execution_count": 23,
     "metadata": {},
     "output_type": "execute_result"
    }
   ],
   "source": [
    "# 1\n",
    "# returns the sum of the elem. in the list\n",
    "def f1(lst):\n",
    "    if lst == []:\n",
    "        return 0\n",
    "    else:\n",
    "        return lst[0] + f1(lst[1:])\n",
    "f1([1,2,3])"
   ]
  },
  {
   "cell_type": "code",
   "execution_count": 24,
   "metadata": {
    "collapsed": true
   },
   "outputs": [],
   "source": [
    "# 2\n",
    "# number of steps to reach 1\n",
    "def f2(n):\n",
    "    if n == 1:\n",
    "        return 1\n",
    "    else:\n",
    "        if n%2 == 0:\n",
    "            n //2 \n",
    "        else:\n",
    "            n = 3*n +1\n",
    "    return f2(n)+1"
   ]
  },
  {
   "cell_type": "code",
   "execution_count": 26,
   "metadata": {
    "collapsed": true
   },
   "outputs": [],
   "source": [
    "# 3\n",
    "# prints out the elem in the reverse order\n",
    "def f3(lst):\n",
    "    if lst == []:\n",
    "        return None\n",
    "    else:\n",
    "        print(lst[-1])\n",
    "        return f3(lst[:-1])"
   ]
  },
  {
   "cell_type": "code",
   "execution_count": 27,
   "metadata": {
    "collapsed": true
   },
   "outputs": [],
   "source": [
    "# 4\n",
    "# multiplies all of the odd elem. in the list by 3 and print each of the tripled onee\n",
    "def f4(lst):\n",
    "    if lst == []:\n",
    "        return None\n",
    "    else:\n",
    "        if lst[0]%2 == 1:\n",
    "            print(lst[0]*3)\n",
    "        return f4(lst[1:])"
   ]
  },
  {
   "cell_type": "code",
   "execution_count": 33,
   "metadata": {},
   "outputs": [
    {
     "name": "stdout",
     "output_type": "stream",
     "text": [
      "4\n",
      "9\n",
      "2\n",
      "3\n"
     ]
    }
   ],
   "source": [
    "# 5\n",
    "# multiplies all of the odd elem. in the list by 3 and print each elem in reverse order\n",
    "def f5(lst):\n",
    "    if lst == []:\n",
    "        return None\n",
    "    else:\n",
    "        if lst[-1]%2 == 1:\n",
    "            lst[-1]=3*lst[-1]\n",
    "            \n",
    "        print(lst[-1])\n",
    "        return f5(lst[:-1])\n",
    "f5([1,2,3,4])"
   ]
  },
  {
   "cell_type": "code",
   "execution_count": 34,
   "metadata": {
    "collapsed": true
   },
   "outputs": [],
   "source": [
    "# 6\n",
    "# flattening list\n",
    "def f6(lst):\n",
    "    if lst == []:\n",
    "        return []\n",
    "    elif type(lst[0]) == list:\n",
    "        return f6(lst[0]) + f6(lst[1:])\n",
    "    else:\n",
    "        return [lst[0]] + f6(lst[1:])"
   ]
  },
  {
   "cell_type": "code",
   "execution_count": 35,
   "metadata": {
    "collapsed": true
   },
   "outputs": [],
   "source": [
    "# 7\n",
    "def f7(n):\n",
    "    if n == 0 :\n",
    "        return 2\n",
    "    if n == 1:\n",
    "        return 1\n",
    "    else:\n",
    "        return f7(n-1) + f7(n-2)"
   ]
  },
  {
   "cell_type": "code",
   "execution_count": 36,
   "metadata": {
    "collapsed": true
   },
   "outputs": [],
   "source": [
    "# 8\n",
    "# palindrome\n",
    "def f8(s):\n",
    "    if len(s) == 0 or len(s) == 1:\n",
    "        return True\n",
    "    else:\n",
    "        if s[0] == s[-1]:\n",
    "            return f8(s[1:-1])\n",
    "        else:\n",
    "            return False"
   ]
  },
  {
   "cell_type": "code",
   "execution_count": 42,
   "metadata": {},
   "outputs": [
    {
     "data": {
      "text/plain": [
       "120"
      ]
     },
     "execution_count": 42,
     "metadata": {},
     "output_type": "execute_result"
    }
   ],
   "source": [
    "# 9\n",
    "# n-factorial\n",
    "def f9(n):\n",
    "    if n == 0 :\n",
    "        return 1\n",
    "    else:\n",
    "        return n*f9(n-1)\n",
    "f9(5)"
   ]
  },
  {
   "cell_type": "code",
   "execution_count": 44,
   "metadata": {},
   "outputs": [],
   "source": [
    "# 10\n",
    "# returns len(lst)\n",
    "def f10(lst):\n",
    "    if lst == []:\n",
    "        return 0\n",
    "    else:\n",
    "        return 1 + f10(lst[1:])"
   ]
  },
  {
   "cell_type": "code",
   "execution_count": 45,
   "metadata": {
    "collapsed": true
   },
   "outputs": [],
   "source": [
    "# 11\n",
    "# returns the last elem.\n",
    "def f11(lst):\n",
    "    if lst == []:\n",
    "        return None\n",
    "    elif len(lst) == 1:\n",
    "        return lst[0]\n",
    "    else:\n",
    "        return f11(lst[1:])"
   ]
  },
  {
   "cell_type": "code",
   "execution_count": 47,
   "metadata": {},
   "outputs": [
    {
     "name": "stdout",
     "output_type": "stream",
     "text": [
      "3\n",
      "2\n",
      "1\n"
     ]
    }
   ],
   "source": [
    "# 12\n",
    "# prints the number n throu 1 in descending order\n",
    "def f12(n):\n",
    "    if n == 0:\n",
    "        return None\n",
    "    else:\n",
    "        print(n)\n",
    "        return f12(n-1)\n",
    "f12(3)"
   ]
  },
  {
   "cell_type": "code",
   "execution_count": 48,
   "metadata": {},
   "outputs": [
    {
     "data": {
      "text/plain": [
       "3"
      ]
     },
     "execution_count": 48,
     "metadata": {},
     "output_type": "execute_result"
    }
   ],
   "source": [
    "# 13\n",
    "# returns the number of digits in n\n",
    "# n is positive integer\n",
    "def f13(n):\n",
    "    if n//10 ==0:\n",
    "        return 1\n",
    "    else:\n",
    "        return 1+ f13(n//10)\n",
    "f13(123)\n",
    "        "
   ]
  },
  {
   "cell_type": "code",
   "execution_count": 49,
   "metadata": {
    "collapsed": true
   },
   "outputs": [],
   "source": [
    "# 14\n",
    "# returns the first odd number in the list\n",
    "# none, if there are no odd number\n",
    "def f14(lst):\n",
    "    if lst == []:\n",
    "        return None\n",
    "    else:\n",
    "        if lst[0] % 2 == 1:\n",
    "            return lst[0]\n",
    "        else:\n",
    "            return f14(lst[1:])"
   ]
  },
  {
   "cell_type": "code",
   "execution_count": 50,
   "metadata": {
    "collapsed": true
   },
   "outputs": [],
   "source": [
    "# 15\n",
    "# returns the sum of all the odd nubers in the list\n",
    "def f15(lst):\n",
    "    if lst == []:\n",
    "        return 0\n",
    "    else:\n",
    "        if lst[0]%2 ==1:\n",
    "            return lst[0] + f15(lst[1:])\n",
    "        else:\n",
    "            return f15(lst[1:])"
   ]
  },
  {
   "cell_type": "code",
   "execution_count": 53,
   "metadata": {
    "collapsed": true
   },
   "outputs": [],
   "source": [
    "# 16\n",
    "# returns a list of all the odd numbers in the list\n",
    "def f16(lst):\n",
    "    if lst == []:\n",
    "        return None\n",
    "    else:\n",
    "        if lst[0]% 2== 1:\n",
    "            return [lst[0]] + f16(lst[1:])\n",
    "        else:\n",
    "            return f16(lst[1:])"
   ]
  },
  {
   "cell_type": "code",
   "execution_count": 57,
   "metadata": {},
   "outputs": [
    {
     "data": {
      "text/plain": [
       "3"
      ]
     },
     "execution_count": 57,
     "metadata": {},
     "output_type": "execute_result"
    }
   ],
   "source": [
    "# 17\n",
    "# returns the second to the last elem. in the list\n",
    "# Assume len(list)>1\n",
    "def f17(lst):\n",
    "    if len(lst) ==2:\n",
    "        return lst[0]\n",
    "    else:\n",
    "        lst = lst[1:]\n",
    "        return f17(lst)\n",
    "    \n",
    "f17([1,2,3,4])"
   ]
  },
  {
   "cell_type": "code",
   "execution_count": 58,
   "metadata": {
    "collapsed": true
   },
   "outputs": [],
   "source": [
    "# 18\n",
    "# returns the greates common divisor of a and b\n",
    "def f18(a,b):\n",
    "    if b == 0:\n",
    "        return a\n",
    "    else:\n",
    "        return f18(b, a%b)"
   ]
  },
  {
   "cell_type": "code",
   "execution_count": 60,
   "metadata": {},
   "outputs": [],
   "source": [
    "# 19\n",
    "# merges list1 and list2 in ascending order\n",
    "# 그냥 합치기\n",
    "# Assume each list already sorted\n",
    "def f19(list1, list2):\n",
    "    if list1 == []:\n",
    "        return list2\n",
    "    if list2 == []:\n",
    "        return list1\n",
    "    if list1[0] <= list2[0]:\n",
    "        return list1[0] + f19(list1[1:],list2)\n",
    "    else:\n",
    "        return list2[0] + f19(list1, list2[1:])"
   ]
  },
  {
   "cell_type": "code",
   "execution_count": 61,
   "metadata": {
    "collapsed": true
   },
   "outputs": [],
   "source": [
    "# 20 \n",
    "# meergesorts the list\n",
    "# use f19 for the merging step\n",
    "# 합치면서 순서 조절도 하기\n",
    "def f20(lst):\n",
    "    if len(lst) == 1 or len(lst) == 0:\n",
    "        return lst\n",
    "    half = len(lst)//2\n",
    "    half1 = lst[:half]\n",
    "    half2 = lst[half:]\n",
    "    newli1 = f20(half1)\n",
    "    newli2 = f20(half2)\n",
    "    return f19(newli1, newli2)"
   ]
  },
  {
   "cell_type": "code",
   "execution_count": null,
   "metadata": {
    "collapsed": true
   },
   "outputs": [],
   "source": []
  }
 ],
 "metadata": {
  "kernelspec": {
   "display_name": "Python 3",
   "language": "python",
   "name": "python3"
  },
  "language_info": {
   "codemirror_mode": {
    "name": "ipython",
    "version": 3
   },
   "file_extension": ".py",
   "mimetype": "text/x-python",
   "name": "python",
   "nbconvert_exporter": "python",
   "pygments_lexer": "ipython3",
   "version": "3.6.1"
  }
 },
 "nbformat": 4,
 "nbformat_minor": 2
}
