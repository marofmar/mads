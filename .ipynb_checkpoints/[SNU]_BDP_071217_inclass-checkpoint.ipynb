{
 "cells": [
  {
   "cell_type": "code",
   "execution_count": 5,
   "metadata": {},
   "outputs": [
    {
     "data": {
      "text/plain": [
       "3"
      ]
     },
     "execution_count": 5,
     "metadata": {},
     "output_type": "execute_result"
    }
   ],
   "source": [
    "\n",
    "\n",
    "# main function \n",
    "def bsearch(items, key):\n",
    "    return bs_helper(items, key, -1, len(items))\n",
    "\n",
    "# recursive helper functions, \n",
    "def bs_helper(items, key, lower, upper):\n",
    "    if lower +1 == upper:\n",
    "        return None\n",
    "    mid = (lower + upper) //2 # Recursive case\n",
    "    if key == items[mid]:\n",
    "        return mid\n",
    "    if key < items[mid]:\n",
    "        return bs_helper(items, key, lower, mid)\n",
    "    else:\n",
    "        return bs_helper(items, key, mid, upper)\n",
    "    \n",
    "bsearch([1,2,3,4,5],4)"
   ]
  },
  {
   "cell_type": "code",
   "execution_count": 6,
   "metadata": {
    "collapsed": true
   },
   "outputs": [],
   "source": [
    "# Python Function Practice with Sophistication\""
   ]
  },
  {
   "cell_type": "code",
   "execution_count": null,
   "metadata": {
    "collapsed": true
   },
   "outputs": [],
   "source": [
    "# Return odd elem. in  a givein list\n",
    "$ "
   ]
  }
 ],
 "metadata": {
  "kernelspec": {
   "display_name": "Python 3",
   "language": "python",
   "name": "python3"
  },
  "language_info": {
   "codemirror_mode": {
    "name": "ipython",
    "version": 3
   },
   "file_extension": ".py",
   "mimetype": "text/x-python",
   "name": "python",
   "nbconvert_exporter": "python",
   "pygments_lexer": "ipython3",
   "version": "3.6.1"
  }
 },
 "nbformat": 4,
 "nbformat_minor": 2
}
