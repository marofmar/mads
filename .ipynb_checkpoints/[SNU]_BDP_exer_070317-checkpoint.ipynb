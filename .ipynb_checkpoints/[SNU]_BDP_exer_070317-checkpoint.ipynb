{
 "cells": [
  {
   "cell_type": "code",
   "execution_count": 2,
   "metadata": {},
   "outputs": [
    {
     "name": "stdout",
     "output_type": "stream",
     "text": [
      "2\n",
      "3\n",
      "5\n",
      "7\n"
     ]
    }
   ],
   "source": [
    "# IsPrime(): Dumb version\n",
    "def IsPrime_dumb(n): \n",
    "    if (n<2):\n",
    "        return False\n",
    "    for factor in range(2, n):\n",
    "        if(n % factor == 0):\n",
    "            return False\n",
    "    return True\n",
    "\n",
    "for i in range(1, 10):\n",
    "    if IsPrime_dumb(i):\n",
    "        print(i)"
   ]
  },
  {
   "cell_type": "code",
   "execution_count": null,
   "metadata": {
    "collapsed": true
   },
   "outputs": [],
   "source": [
    "def sift(lst, k):\n",
    "    # mark multiples of k with None\n",
    "    i = 0\n",
    "    while i < len(lst):\n",
    "        if (lst[i] != None) and lst[i] %k ==0:\n",
    "            lst[i] = None\n",
    "        i = i +1\n",
    "    return"
   ]
  }
 ],
 "metadata": {
  "kernelspec": {
   "display_name": "Python 3",
   "language": "python",
   "name": "python3"
  },
  "language_info": {
   "codemirror_mode": {
    "name": "ipython",
    "version": 3
   },
   "file_extension": ".py",
   "mimetype": "text/x-python",
   "name": "python",
   "nbconvert_exporter": "python",
   "pygments_lexer": "ipython3",
   "version": "3.6.1"
  }
 },
 "nbformat": 4,
 "nbformat_minor": 2
}
