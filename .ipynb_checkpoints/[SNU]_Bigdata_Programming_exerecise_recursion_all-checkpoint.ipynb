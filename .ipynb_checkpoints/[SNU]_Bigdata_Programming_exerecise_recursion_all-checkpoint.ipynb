{
 "cells": [
  {
   "cell_type": "code",
   "execution_count": 135,
   "metadata": {},
   "outputs": [
    {
     "data": {
      "text/plain": [
       "10"
      ]
     },
     "execution_count": 135,
     "metadata": {},
     "output_type": "execute_result"
    }
   ],
   "source": [
    "# 1\n",
    "# returns the sum of the elements of the list\n",
    "def f1(lst):\n",
    "    if lst == []:\n",
    "        return 0\n",
    "    else:\n",
    "        \n",
    "        return lst[0] + f1(lst[1:])\n",
    "f1([1,2,3,4])    "
   ]
  },
  {
   "cell_type": "code",
   "execution_count": 12,
   "metadata": {},
   "outputs": [
    {
     "data": {
      "text/plain": [
       "1"
      ]
     },
     "execution_count": 12,
     "metadata": {},
     "output_type": "execute_result"
    }
   ],
   "source": [
    "'''허걱'''\n",
    "# 2\n",
    "# returns the number of steps of the function until it reaches 1\n",
    "def f2(n):\n",
    "    total = 0\n",
    "    if (n == 1):\n",
    "        return 1\n",
    "    else:\n",
    "        if (n % 2 == 0):\n",
    "            n = n // 2\n",
    "            f2(n)\n",
    "        else:\n",
    "            n = 3 * n + 1\n",
    "            f2(n)\n",
    "        total += 1\n",
    "    return total\n",
    "\n",
    "f2(6)"
   ]
  },
  {
   "cell_type": "code",
   "execution_count": 137,
   "metadata": {},
   "outputs": [
    {
     "name": "stdout",
     "output_type": "stream",
     "text": [
      "3\n",
      "2\n",
      "1\n"
     ]
    }
   ],
   "source": [
    "# 3\n",
    "# prints out the elem. in reverse order\n",
    "def f3(lst):\n",
    "    if lst == []:\n",
    "        return None\n",
    "    else:\n",
    "        print(lst[-1])\n",
    "        return f3(lst[:-1])\n",
    "f3([1,2,3])"
   ]
  },
  {
   "cell_type": "code",
   "execution_count": 25,
   "metadata": {},
   "outputs": [
    {
     "name": "stdout",
     "output_type": "stream",
     "text": [
      "3\n",
      "9\n"
     ]
    }
   ],
   "source": [
    "# 4\n",
    "# multiply the odd value elem. by 3, and print out the tripled ones\n",
    "def f4(lst):\n",
    "    if lst == []:\n",
    "        return None\n",
    "    else:\n",
    "        if lst[0] % 2 !=0:\n",
    "            print(3*lst[0])\n",
    "        return f4(lst[1:])\n",
    "\n",
    "f4([1,2,3,4])"
   ]
  },
  {
   "cell_type": "code",
   "execution_count": 139,
   "metadata": {},
   "outputs": [
    {
     "name": "stdout",
     "output_type": "stream",
     "text": [
      "4\n",
      "9\n",
      "2\n",
      "3\n"
     ]
    }
   ],
   "source": [
    "# 5\n",
    "# multiply all of the odd elem. by 3\n",
    "# print out modified list in reverse order\n",
    "def f5(lst):\n",
    "    if lst == []:\n",
    "        return None\n",
    "    else:\n",
    "        if (lst[-1] % 2 == 1):\n",
    "            print(3*lst[-1])\n",
    "            return f5(lst[:-1])\n",
    "        else:\n",
    "            print(lst[-1])\n",
    "            return f5(lst[:-1])\n",
    "f5([1,2,3,4])"
   ]
  },
  {
   "cell_type": "code",
   "execution_count": 30,
   "metadata": {},
   "outputs": [
    {
     "ename": "SyntaxError",
     "evalue": "'break' outside loop (<ipython-input-30-cfc40b99d764>, line 9)",
     "output_type": "error",
     "traceback": [
      "\u001b[0;36m  File \u001b[0;32m\"<ipython-input-30-cfc40b99d764>\"\u001b[0;36m, line \u001b[0;32m9\u001b[0m\n\u001b[0;31m    break\u001b[0m\n\u001b[0m    ^\u001b[0m\n\u001b[0;31mSyntaxError\u001b[0m\u001b[0;31m:\u001b[0m 'break' outside loop\n"
     ]
    }
   ],
   "source": [
    "# 6\n",
    "# turning multidimensional list into flat list\n",
    "# one base case and two recursive cases\n",
    "def f6(lst):\n",
    "    if lst == []:\n",
    "        return []\n",
    "    else:\n",
    "        if (type(lst[0]) == list):\n",
    "            break\n",
    "            return lst[0] + f6(lst[1:])\n",
    "            \n",
    "f6(['baa',[4,True]])"
   ]
  },
  {
   "cell_type": "code",
   "execution_count": 142,
   "metadata": {},
   "outputs": [
    {
     "data": {
      "text/plain": [
       "843"
      ]
     },
     "execution_count": 142,
     "metadata": {},
     "output_type": "execute_result"
    }
   ],
   "source": [
    "# 7 \n",
    "# Ln when n = 0, 2, n = 1, 1, and Ln(n>1) = L(n-1) + L(n-2)\n",
    "def f7(n):\n",
    "    if n == 0:\n",
    "        return 2\n",
    "    if n == 1:\n",
    "        return 1\n",
    "    else:\n",
    "        return f7(n-1) + f7(n-2)\n",
    "f7(14)"
   ]
  },
  {
   "cell_type": "code",
   "execution_count": 31,
   "metadata": {
    "collapsed": true
   },
   "outputs": [],
   "source": [
    "# 8\n",
    "# returns True if the input is palindrome, otherwise False\n",
    "def f8(s):\n",
    "    if len(s) < 2:\n",
    "        return True\n",
    "    if s[0] != s[-1]:\n",
    "        return False\n",
    "    else:\n",
    "        f8(s[1:-1])"
   ]
  },
  {
   "cell_type": "code",
   "execution_count": 33,
   "metadata": {},
   "outputs": [
    {
     "data": {
      "text/plain": [
       "False"
      ]
     },
     "execution_count": 33,
     "metadata": {},
     "output_type": "execute_result"
    }
   ],
   "source": [
    "f8(\"kay\")"
   ]
  },
  {
   "cell_type": "code",
   "execution_count": 145,
   "metadata": {},
   "outputs": [
    {
     "data": {
      "text/plain": [
       "24"
      ]
     },
     "execution_count": 145,
     "metadata": {},
     "output_type": "execute_result"
    }
   ],
   "source": [
    "# 9 \n",
    "# returns n-factorial\n",
    "def f9(n):\n",
    "    if (n ==0 or n ==1):\n",
    "        return 1\n",
    "    else:\n",
    "        return f9(n-1)*n\n",
    "f9(4)"
   ]
  },
  {
   "cell_type": "code",
   "execution_count": 41,
   "metadata": {
    "collapsed": true
   },
   "outputs": [],
   "source": [
    "# 10\n",
    "# returns len(list)\n",
    "def f10(lst):\n",
    "    length = 0\n",
    "    if lst == []:\n",
    "        return 0\n",
    "    else:\n",
    "        if lst[0] != None:\n",
    "            length += 1\n",
    "            \n",
    "    return length +f10(lst[1:])"
   ]
  },
  {
   "cell_type": "code",
   "execution_count": 44,
   "metadata": {},
   "outputs": [
    {
     "data": {
      "text/plain": [
       "5"
      ]
     },
     "execution_count": 44,
     "metadata": {},
     "output_type": "execute_result"
    }
   ],
   "source": [
    "f10([1,2,3,4,5])"
   ]
  },
  {
   "cell_type": "code",
   "execution_count": 147,
   "metadata": {},
   "outputs": [
    {
     "data": {
      "text/plain": [
       "3"
      ]
     },
     "execution_count": 147,
     "metadata": {},
     "output_type": "execute_result"
    }
   ],
   "source": [
    "# 11\n",
    "# returns the last elem. in the list\n",
    "def f11(lst):\n",
    "    if lst == []:\n",
    "        return None\n",
    "    else:\n",
    "        if len(lst)>2:\n",
    "            del lst[0]\n",
    "            return f11(lst)\n",
    "        else:\n",
    "            return lst[1]\n",
    "f11([1,2,3])"
   ]
  },
  {
   "cell_type": "code",
   "execution_count": 50,
   "metadata": {},
   "outputs": [],
   "source": [
    "# 12\n",
    "# prints the numbers n til 1 in descending order\n",
    "def f12(n):\n",
    "    if n == 0:\n",
    "        return None\n",
    "    else:\n",
    "        if n == 1:\n",
    "            print(1)\n",
    "        else:\n",
    "            print(n)\n",
    "        return f12(n-1)"
   ]
  },
  {
   "cell_type": "code",
   "execution_count": 51,
   "metadata": {},
   "outputs": [
    {
     "name": "stdout",
     "output_type": "stream",
     "text": [
      "7\n",
      "6\n",
      "5\n",
      "4\n",
      "3\n",
      "2\n",
      "1\n"
     ]
    }
   ],
   "source": [
    "f12(7)"
   ]
  },
  {
   "cell_type": "code",
   "execution_count": 159,
   "metadata": {},
   "outputs": [
    {
     "data": {
      "text/plain": [
       "4"
      ]
     },
     "execution_count": 159,
     "metadata": {},
     "output_type": "execute_result"
    }
   ],
   "source": [
    "# 13 \n",
    "# returns the number of digits in n\n",
    "# positive integer n\n",
    "def f13(n):\n",
    "    n = abs(n) # since we learned abs() .... tried to use it...\n",
    "    if n < 10:\n",
    "        return 1\n",
    "    else:\n",
    "        return 1 + f13(n//10)\n",
    "    \n",
    "           \n",
    "f13(9176)"
   ]
  },
  {
   "cell_type": "code",
   "execution_count": 157,
   "metadata": {},
   "outputs": [],
   "source": [
    "# 14 \n",
    "# returns the first odd number in the list\n",
    "# return None if there are no odd numbers\n",
    "def f14(lst):\n",
    "    if lst == []:\n",
    "        return None\n",
    "    else:\n",
    "        if (lst[0] % 2 != 0):\n",
    "            print(3 *lst[0])\n",
    "            return f14(lst[1:])\n",
    "        else:\n",
    "            return f14(lst[1:])"
   ]
  },
  {
   "cell_type": "code",
   "execution_count": 73,
   "metadata": {},
   "outputs": [
    {
     "name": "stdout",
     "output_type": "stream",
     "text": [
      "3\n",
      "9\n"
     ]
    }
   ],
   "source": [
    "f14([1,2,3])"
   ]
  },
  {
   "cell_type": "code",
   "execution_count": 175,
   "metadata": {},
   "outputs": [
    {
     "data": {
      "text/plain": [
       "0"
      ]
     },
     "execution_count": 175,
     "metadata": {},
     "output_type": "execute_result"
    }
   ],
   "source": [
    "# 15\n",
    "# returns the sum of all the odd numbers in the list\n",
    "def f15(lst):\n",
    "    sum = 0\n",
    "    if lst == []:\n",
    "        return sum\n",
    "    if (lst[0] % 2 != 0):\n",
    "        sum += lst[0]\n",
    "        return f15(lst[1:])\n",
    "    else:\n",
    "        sum\n",
    "        return f15(lst[1:])\n",
    "f15([1,2,3])"
   ]
  },
  {
   "cell_type": "code",
   "execution_count": 95,
   "metadata": {},
   "outputs": [],
   "source": [
    "# 16\n",
    "# returns a list of all odd numbers in the list\n",
    "def f16(lst):\n",
    "    if lst == []:\n",
    "        return None\n",
    "    if (lst[0] % 2 == 0):\n",
    "        return f16(lst[1:])\n",
    "    else:\n",
    "        print(lst[0])\n",
    "        return f16(lst[1:])"
   ]
  },
  {
   "cell_type": "code",
   "execution_count": 96,
   "metadata": {},
   "outputs": [
    {
     "name": "stdout",
     "output_type": "stream",
     "text": [
      "1\n",
      "3\n",
      "5\n"
     ]
    }
   ],
   "source": [
    "f16([1,2,3,4,5])"
   ]
  },
  {
   "cell_type": "code",
   "execution_count": 176,
   "metadata": {},
   "outputs": [
    {
     "ename": "SyntaxError",
     "evalue": "unexpected EOF while parsing (<ipython-input-176-f6eb79f65230>, line 5)",
     "output_type": "error",
     "traceback": [
      "\u001b[0;36m  File \u001b[0;32m\"<ipython-input-176-f6eb79f65230>\"\u001b[0;36m, line \u001b[0;32m5\u001b[0m\n\u001b[0;31m    \u001b[0m\n\u001b[0m    ^\u001b[0m\n\u001b[0;31mSyntaxError\u001b[0m\u001b[0;31m:\u001b[0m unexpected EOF while parsing\n"
     ]
    }
   ],
   "source": [
    "# 17\n",
    "# returns the second to the last elem. \n",
    "# Assume len(list) > 1\n",
    "def f17(lst):\n",
    "    "
   ]
  },
  {
   "cell_type": "code",
   "execution_count": 110,
   "metadata": {},
   "outputs": [],
   "source": [
    "# 18 \n",
    "# returns the greates common divisor of a and b\n",
    "def f18(a,b):\n",
    "    if (a ==1 or b ==1):\n",
    "        return 1\n",
    "    if a >= b:\n",
    "        r = a%b\n",
    "        if r != 0:\n",
    "            return f18(r,b)\n",
    "        else:\n",
    "            return b\n",
    "    else:\n",
    "        r = b%a\n",
    "        if r !=0:\n",
    "            return f18(a,r)\n",
    "        else:\n",
    "            return a"
   ]
  },
  {
   "cell_type": "code",
   "execution_count": 111,
   "metadata": {},
   "outputs": [
    {
     "data": {
      "text/plain": [
       "20"
      ]
     },
     "execution_count": 111,
     "metadata": {},
     "output_type": "execute_result"
    }
   ],
   "source": [
    "f18(40,60)"
   ]
  },
  {
   "cell_type": "code",
   "execution_count": 131,
   "metadata": {},
   "outputs": [],
   "source": [
    "# 19\n",
    "# merges two diff. lists in ascending order\n",
    "# Assume two lists are already sorted out\n",
    "def f19(list1, list2):\n",
    "    merged_list=[]\n",
    "    while (list1 and list2):\n",
    "        if (list1[0] <= list2[0]):\n",
    "            item = list1.pop(0)\n",
    "            merged_list.append(item)\n",
    "            return f19(list1[1:], list2[1:])\n",
    "        else:\n",
    "            item = list2.pop(0)\n",
    "            merged_list.append(item)\n",
    "            return f19(list1[1:], list2[1:])\n",
    "        return merged_list\n",
    "    "
   ]
  },
  {
   "cell_type": "code",
   "execution_count": 132,
   "metadata": {},
   "outputs": [],
   "source": [
    "f19([4,5],[1,2,3])"
   ]
  },
  {
   "cell_type": "code",
   "execution_count": null,
   "metadata": {
    "collapsed": true
   },
   "outputs": [],
   "source": [
    "# 20 \n",
    "# mergesorts the list\n",
    "# Consider using two lists for the merging step\n",
    "def f20(lst):\n",
    "    "
   ]
  }
 ],
 "metadata": {
  "kernelspec": {
   "display_name": "Python 3",
   "language": "python",
   "name": "python3"
  },
  "language_info": {
   "codemirror_mode": {
    "name": "ipython",
    "version": 3
   },
   "file_extension": ".py",
   "mimetype": "text/x-python",
   "name": "python",
   "nbconvert_exporter": "python",
   "pygments_lexer": "ipython3",
   "version": "3.6.1"
  }
 },
 "nbformat": 4,
 "nbformat_minor": 2
}
