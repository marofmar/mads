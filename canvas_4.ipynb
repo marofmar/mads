{
 "cells": [
  {
   "cell_type": "code",
   "execution_count": 1,
   "metadata": {
    "collapsed": true
   },
   "outputs": [],
   "source": [
    "# 4.draw centered Rectangles\n",
    "\n",
    "def draw(canvas, width, height):\n",
    "    margin = 10\n",
    "    canvas.create_rectangle(margin, margin, width-margin, height-margin, fill = \"darkGreen\")\n",
    "    \n",
    "    (cx, cy) = (width/2, height/2)\n",
    "    (rectWidth, rectHeight) = (width/4, height/4)\n",
    "    canvas.create_rectangle(cx-rectWidth/2, cy-rectHeight/2, cx+rectWidth/2, cy+rectHeight/2,fill = \"orange\")\n",
    "    "
   ]
  },
  {
   "cell_type": "code",
   "execution_count": null,
   "metadata": {
    "collapsed": true
   },
   "outputs": [],
   "source": []
  }
 ],
 "metadata": {
  "kernelspec": {
   "display_name": "Python 3",
   "language": "python",
   "name": "python3"
  },
  "language_info": {
   "codemirror_mode": {
    "name": "ipython",
    "version": 3
   },
   "file_extension": ".py",
   "mimetype": "text/x-python",
   "name": "python",
   "nbconvert_exporter": "python",
   "pygments_lexer": "ipython3",
   "version": "3.6.1"
  }
 },
 "nbformat": 4,
 "nbformat_minor": 2
}
