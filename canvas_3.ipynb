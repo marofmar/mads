{
 "cells": [
  {
   "cell_type": "code",
   "execution_count": 1,
   "metadata": {
    "collapsed": true
   },
   "outputs": [],
   "source": [
    "# 3. Draw Multiple Rectangles\n",
    "\n",
    "def draw(canvas, width, height):\n",
    "    canvas.create_rectangle(0,0,150,150,fill = \"yello\")\n",
    "    canvas.create_rectangle(100, 50, 250, 100, fill = \"orange\", width = 5)\n",
    "    canvas.create_rectangle(50, 100, 150, 200, fill = \"green\", outline = \"red\", width = 3)\n",
    "    canvas.create_rectangle(125, 25, 175, 190, fill = \"purple\", width = 0)\n"
   ]
  },
  {
   "cell_type": "code",
   "execution_count": null,
   "metadata": {
    "collapsed": true
   },
   "outputs": [],
   "source": []
  }
 ],
 "metadata": {
  "kernelspec": {
   "display_name": "Python 3",
   "language": "python",
   "name": "python3"
  },
  "language_info": {
   "codemirror_mode": {
    "name": "ipython",
    "version": 3
   },
   "file_extension": ".py",
   "mimetype": "text/x-python",
   "name": "python",
   "nbconvert_exporter": "python",
   "pygments_lexer": "ipython3",
   "version": "3.6.1"
  }
 },
 "nbformat": 4,
 "nbformat_minor": 2
}
