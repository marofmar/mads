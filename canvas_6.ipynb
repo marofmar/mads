{
 "cells": [
  {
   "cell_type": "code",
   "execution_count": 1,
   "metadata": {
    "collapsed": true
   },
   "outputs": [],
   "source": [
    "# 6. Draw other shapes and text \n",
    "\n",
    "def draw(canvas, width,height):\n",
    "    canvas.create_oval(100, 50, 300, 150, fill = \"yello\")\n",
    "    canvas.create_polygon(100, 30, 200, 50, 300, 30, 200, 10, fill = \"green\")\n",
    "    canvas.create_line(100, 50, 300, 150, fill = \"red\", width = 5)\n",
    "    canvas.create_text(200,100, text = \"Amazing!\", fill = \"purple\", font = \"Helvetica 26 bold underline\")\n",
    "    canvas.create_text(200, 100, text = \"Carpe Diem!\", anchor = SW, fill = \"darkBlue\", font = \"Times 28 bold italic\")"
   ]
  },
  {
   "cell_type": "code",
   "execution_count": null,
   "metadata": {
    "collapsed": true
   },
   "outputs": [],
   "source": []
  }
 ],
 "metadata": {
  "kernelspec": {
   "display_name": "Python 3",
   "language": "python",
   "name": "python3"
  },
  "language_info": {
   "codemirror_mode": {
    "name": "ipython",
    "version": 3
   },
   "file_extension": ".py",
   "mimetype": "text/x-python",
   "name": "python",
   "nbconvert_exporter": "python",
   "pygments_lexer": "ipython3",
   "version": "3.6.1"
  }
 },
 "nbformat": 4,
 "nbformat_minor": 2
}
