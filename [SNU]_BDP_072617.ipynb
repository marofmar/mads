{
 "cells": [
  {
   "cell_type": "markdown",
   "metadata": {},
   "source": [
    "##### derived된 subclass가 화살표의 출발점이 된다. "
   ]
  },
  {
   "cell_type": "markdown",
   "metadata": {},
   "source": [
    "##### OOP <-> CP Control Programming"
   ]
  },
  {
   "cell_type": "markdown",
   "metadata": {},
   "source": [
    "##### 밑으로 - Specialization, 위로 - Generalization"
   ]
  },
  {
   "cell_type": "markdown",
   "metadata": {},
   "source": [
    "##### init - 그 클래스 안에서 써먹을 variable을 말하는 function"
   ]
  },
  {
   "cell_type": "markdown",
   "metadata": {},
   "source": [
    "##### 상속되는 것 중에 위에서 있는거랑 나랑 같은게 있으면, 위의 것을 block한다 - Over-riding"
   ]
  },
  {
   "cell_type": "code",
   "execution_count": 1,
   "metadata": {
    "collapsed": true
   },
   "outputs": [],
   "source": [
    "class BankAccount:\n",
    "    def __init__(self):\n",
    "        self.balance = 0\n",
    "    def withdraw(self, account):\n",
    "        self.balance -= account\n",
    "        return self.balance\n",
    "    def deposit(self, account):\n",
    "        self.balance += account\n",
    "        return self.balance"
   ]
  },
  {
   "cell_type": "code",
   "execution_count": null,
   "metadata": {
    "collapsed": true
   },
   "outputs": [],
   "source": [
    "class MinimumBalanceAccount(BankAccount):\n",
    "    def __init__(self, minimum_balance):\n",
    "        BankAccount.__init__(self) # 이거 대신, Super().__init__(self) 이렇게 'super'를 쓸 수 있다\n",
    "        self.minimum_balance_minimum_balance\n",
    "    def withdraw(self, account):\n",
    "        if self.balance - account < self.minimum_balance:\n",
    "            print(\"sorry\")\n",
    "        else:\n",
    "            "
   ]
  },
  {
   "cell_type": "code",
   "execution_count": 4,
   "metadata": {},
   "outputs": [
    {
     "data": {
      "text/plain": [
       "'서브클래스에서 상위 클래스의 변수와 같은 이름으로 변수 선언이 되었을 때, \\n위에서 나온 variable을 받아야 하기 때문에\\n다시 한 번 BankAccount.__init__(self)\\n이걸 써 준다. '"
      ]
     },
     "execution_count": 4,
     "metadata": {},
     "output_type": "execute_result"
    }
   ],
   "source": [
    "'''서브클래스에서 상위 클래스의 변수와 같은 이름으로 변수 선언이 되었을 때, \n",
    "위에서 나온 variable을 받아야 하기 때문에\n",
    "다시 한 번 BankAccount.__init__(self)\n",
    "이걸 써 준다. '''\n"
   ]
  },
  {
   "cell_type": "code",
   "execution_count": 5,
   "metadata": {},
   "outputs": [
    {
     "data": {
      "text/plain": [
       "'\\n지금은 수퍼 클래스가 하나이지만, 수퍼클래스가 여러개인 경우가 많다. 이 경우에는 super() 이걸 쓰는 것이 더 편리한가보다. \\n수퍼클래스가 Gard_School , Instructor 이렇게 여러 개 있을 수 있지.\\n편리가 아니고,\\n수퍼클래스가 뭐 하나 이면 바로 super써도 저걸로 알아먹는데,\\n수퍼클래스가 여러개인 경우에는 정확히 찍어줘야함. 어느 수퍼 클래스를 부르는 것인지.\\n'"
      ]
     },
     "execution_count": 5,
     "metadata": {},
     "output_type": "execute_result"
    }
   ],
   "source": [
    "'''\n",
    "지금은 수퍼 클래스가 하나이지만, 수퍼클래스가 여러개인 경우가 많다. 이 경우에는 super() 이걸 쓰는 것이 더 편리한가보다. \n",
    "수퍼클래스가 Gard_School , Instructor 이렇게 여러 개 있을 수 있지.\n",
    "편리가 아니고,\n",
    "수퍼클래스가 뭐 하나 이면 바로 super써도 저걸로 알아먹는데,\n",
    "수퍼클래스가 여러개인 경우에는 정확히 찍어줘야함. 어느 수퍼 클래스를 부르는 것인지.\n",
    "'''"
   ]
  },
  {
   "cell_type": "markdown",
   "metadata": {},
   "source": [
    "##### 이닛 아래 있는 것- instance variable"
   ]
  },
  {
   "cell_type": "markdown",
   "metadata": {},
   "source": [
    "### Object 안에 모두 다 들어있어욥! "
   ]
  },
  {
   "cell_type": "markdown",
   "metadata": {},
   "source": [
    "##### 빌트인 펑션은 오브젝트에 있는 것입니다. "
   ]
  },
  {
   "cell_type": "markdown",
   "metadata": {},
   "source": [
    "##### 오퍼레이터 Over-loading\n",
    "+) add 클래스는 바로 데이터 타입! -) sub"
   ]
  },
  {
   "cell_type": "markdown",
   "metadata": {},
   "source": [
    "### __스페셜 펑션__"
   ]
  },
  {
   "cell_type": "markdown",
   "metadata": {},
   "source": [
    "##### 언더바언더바"
   ]
  },
  {
   "cell_type": "markdown",
   "metadata": {},
   "source": [
    "##### del은 built in function에 없고, reserved word에 있어."
   ]
  },
  {
   "cell_type": "markdown",
   "metadata": {},
   "source": [
    "##### 펑션은 무조건 괄호가 붙어 있고, 그거 없으면 펑션이 아니답! "
   ]
  },
  {
   "cell_type": "code",
   "execution_count": 7,
   "metadata": {},
   "outputs": [],
   "source": [
    "class Person:\n",
    "    def __init__(self, name):\n",
    "        self.name = name\n",
    "    def SayHello(self):\n",
    "        print('hello, my name is', self.name)\n",
    "    def __del__(self):\n",
    "        print('bye', self.name)"
   ]
  },
  {
   "cell_type": "code",
   "execution_count": 14,
   "metadata": {},
   "outputs": [
    {
     "name": "stdout",
     "output_type": "stream",
     "text": [
      "bye Su\n"
     ]
    },
    {
     "ename": "NameError",
     "evalue": "name 'A' is not defined",
     "output_type": "error",
     "traceback": [
      "\u001b[0;31m---------------------------------------------------------------------------\u001b[0m",
      "\u001b[0;31mNameError\u001b[0m                                 Traceback (most recent call last)",
      "\u001b[0;32m<ipython-input-14-68d23b552e68>\u001b[0m in \u001b[0;36m<module>\u001b[0;34m()\u001b[0m\n\u001b[1;32m      1\u001b[0m \u001b[0mA\u001b[0m \u001b[0;34m=\u001b[0m \u001b[0mPerson\u001b[0m\u001b[0;34m(\u001b[0m\u001b[0;34m'Su'\u001b[0m\u001b[0;34m)\u001b[0m\u001b[0;34m\u001b[0m\u001b[0m\n\u001b[1;32m      2\u001b[0m \u001b[0;32mdel\u001b[0m \u001b[0mA\u001b[0m\u001b[0;34m\u001b[0m\u001b[0m\n\u001b[0;32m----> 3\u001b[0;31m \u001b[0mA\u001b[0m\u001b[0;34m\u001b[0m\u001b[0m\n\u001b[0m",
      "\u001b[0;31mNameError\u001b[0m: name 'A' is not defined"
     ]
    }
   ],
   "source": [
    "A = Person('Su')\n",
    "del A"
   ]
  },
  {
   "cell_type": "code",
   "execution_count": 10,
   "metadata": {},
   "outputs": [
    {
     "data": {
      "text/plain": [
       "' del, called \"destructor function\"'"
      ]
     },
     "execution_count": 10,
     "metadata": {},
     "output_type": "execute_result"
    }
   ],
   "source": [
    "''' del, called \"destructor function\"'''"
   ]
  },
  {
   "cell_type": "code",
   "execution_count": 11,
   "metadata": {
    "collapsed": true
   },
   "outputs": [],
   "source": [
    "x=3"
   ]
  },
  {
   "cell_type": "code",
   "execution_count": 12,
   "metadata": {
    "collapsed": true
   },
   "outputs": [],
   "source": [
    "del x"
   ]
  },
  {
   "cell_type": "code",
   "execution_count": 13,
   "metadata": {},
   "outputs": [
    {
     "ename": "NameError",
     "evalue": "name 'x' is not defined",
     "output_type": "error",
     "traceback": [
      "\u001b[0;31m---------------------------------------------------------------------------\u001b[0m",
      "\u001b[0;31mNameError\u001b[0m                                 Traceback (most recent call last)",
      "\u001b[0;32m<ipython-input-13-401b30e3b8b5>\u001b[0m in \u001b[0;36m<module>\u001b[0;34m()\u001b[0m\n\u001b[0;32m----> 1\u001b[0;31m \u001b[0mx\u001b[0m\u001b[0;34m\u001b[0m\u001b[0m\n\u001b[0m",
      "\u001b[0;31mNameError\u001b[0m: name 'x' is not defined"
     ]
    }
   ],
   "source": [
    "x"
   ]
  },
  {
   "cell_type": "code",
   "execution_count": 15,
   "metadata": {},
   "outputs": [
    {
     "ename": "NameError",
     "evalue": "name 'A' is not defined",
     "output_type": "error",
     "traceback": [
      "\u001b[0;31m---------------------------------------------------------------------------\u001b[0m",
      "\u001b[0;31mNameError\u001b[0m                                 Traceback (most recent call last)",
      "\u001b[0;32m<ipython-input-15-132c38f01ecd>\u001b[0m in \u001b[0;36m<module>\u001b[0;34m()\u001b[0m\n\u001b[0;32m----> 1\u001b[0;31m \u001b[0mprint\u001b[0m\u001b[0;34m(\u001b[0m\u001b[0mA\u001b[0m\u001b[0;34m)\u001b[0m\u001b[0;34m\u001b[0m\u001b[0m\n\u001b[0m",
      "\u001b[0;31mNameError\u001b[0m: name 'A' is not defined"
     ]
    }
   ],
   "source": [
    "print(A)"
   ]
  },
  {
   "cell_type": "markdown",
   "metadata": {},
   "source": [
    "##### Super class = parent class"
   ]
  },
  {
   "cell_type": "code",
   "execution_count": 16,
   "metadata": {
    "collapsed": true
   },
   "outputs": [],
   "source": [
    "class Person:\n",
    "    def speak(self):\n",
    "        print(\"I can speak\")\n",
    "class Man(Person):\n",
    "    def wear(self):\n",
    "        print(\"I wear shirt\")\n",
    "class Woman(Person):\n",
    "    def wear(self):\n",
    "        print(\"I wear sun-glass\")"
   ]
  },
  {
   "cell_type": "code",
   "execution_count": 17,
   "metadata": {
    "collapsed": true
   },
   "outputs": [],
   "source": [
    "man = Man()"
   ]
  },
  {
   "cell_type": "code",
   "execution_count": 18,
   "metadata": {},
   "outputs": [
    {
     "name": "stdout",
     "output_type": "stream",
     "text": [
      "I wear shirt\n"
     ]
    }
   ],
   "source": [
    "man.wear()"
   ]
  },
  {
   "cell_type": "code",
   "execution_count": 19,
   "metadata": {},
   "outputs": [
    {
     "name": "stdout",
     "output_type": "stream",
     "text": [
      "I can speak\n"
     ]
    }
   ],
   "source": [
    "man.speak()"
   ]
  },
  {
   "cell_type": "code",
   "execution_count": 20,
   "metadata": {
    "collapsed": true
   },
   "outputs": [],
   "source": [
    "w = Woman()"
   ]
  },
  {
   "cell_type": "code",
   "execution_count": 21,
   "metadata": {},
   "outputs": [
    {
     "name": "stdout",
     "output_type": "stream",
     "text": [
      "I wear sun-glass\n"
     ]
    }
   ],
   "source": [
    "w.wear()"
   ]
  },
  {
   "cell_type": "code",
   "execution_count": 22,
   "metadata": {},
   "outputs": [
    {
     "name": "stdout",
     "output_type": "stream",
     "text": [
      "I can speak\n"
     ]
    }
   ],
   "source": [
    "w.speak()"
   ]
  },
  {
   "cell_type": "code",
   "execution_count": 23,
   "metadata": {
    "collapsed": true
   },
   "outputs": [],
   "source": [
    "class A(object):\n",
    "    def __init__(self, x):\n",
    "        self.x = x\n",
    "    def f(self):\n",
    "        return 10*self.x\n",
    "    \n",
    "class B(A):\n",
    "    def g(self):\n",
    "        return 1000*self.x"
   ]
  },
  {
   "cell_type": "code",
   "execution_count": 24,
   "metadata": {},
   "outputs": [
    {
     "ename": "SyntaxError",
     "evalue": "unexpected EOF while parsing (<ipython-input-24-4e5949d7158d>, line 10)",
     "output_type": "error",
     "traceback": [
      "\u001b[0;36m  File \u001b[0;32m\"<ipython-input-24-4e5949d7158d>\"\u001b[0;36m, line \u001b[0;32m10\u001b[0m\n\u001b[0;31m    def __init(self, x=42, y=99):\u001b[0m\n\u001b[0m                                 ^\u001b[0m\n\u001b[0;31mSyntaxError\u001b[0m\u001b[0;31m:\u001b[0m unexpected EOF while parsing\n"
     ]
    }
   ],
   "source": [
    "class A(object):\n",
    "    def __init__(self, x):\n",
    "        self.x = x\n",
    "    def f(self):\n",
    "        return 10*self.x\n",
    "    def g(self):\n",
    "        return 100*self.x\n",
    "    \n",
    "class B(A):\n",
    "    def __init(self, x=42, y=99):"
   ]
  },
  {
   "cell_type": "markdown",
   "metadata": {},
   "source": [
    "##### type 에 대해 False가 나오더라도 isinstance에 대해서는 True 가 나올 수 있지! "
   ]
  },
  {
   "cell_type": "markdown",
   "metadata": {},
   "source": [
    "##### 내 클래스 안에서만 접근하는 var, func 이면 그 앞에 언더바언더바' 를 써 준다. "
   ]
  },
  {
   "cell_type": "code",
   "execution_count": 25,
   "metadata": {
    "collapsed": true
   },
   "outputs": [],
   "source": [
    "class JustCounter:\n",
    "    __secretCounter = 0\n",
    "    \n",
    "    def count(self):\n",
    "        self.__secretCount +=1 \n",
    "        print(self.__secretCount)"
   ]
  },
  {
   "cell_type": "code",
   "execution_count": 26,
   "metadata": {
    "collapsed": true
   },
   "outputs": [],
   "source": [
    "counter = JustCounter()"
   ]
  },
  {
   "cell_type": "code",
   "execution_count": 29,
   "metadata": {},
   "outputs": [
    {
     "ename": "AttributeError",
     "evalue": "'JustCounter' object has no attribute '_JustCounter__secretCount'",
     "output_type": "error",
     "traceback": [
      "\u001b[0;31m---------------------------------------------------------------------------\u001b[0m",
      "\u001b[0;31mAttributeError\u001b[0m                            Traceback (most recent call last)",
      "\u001b[0;32m<ipython-input-29-2571d56800b8>\u001b[0m in \u001b[0;36m<module>\u001b[0;34m()\u001b[0m\n\u001b[0;32m----> 1\u001b[0;31m \u001b[0mcounter\u001b[0m\u001b[0;34m.\u001b[0m\u001b[0mcount\u001b[0m\u001b[0;34m(\u001b[0m\u001b[0;34m)\u001b[0m\u001b[0;34m\u001b[0m\u001b[0m\n\u001b[0m",
      "\u001b[0;32m<ipython-input-25-d8c2dda1f140>\u001b[0m in \u001b[0;36mcount\u001b[0;34m(self)\u001b[0m\n\u001b[1;32m      3\u001b[0m \u001b[0;34m\u001b[0m\u001b[0m\n\u001b[1;32m      4\u001b[0m     \u001b[0;32mdef\u001b[0m \u001b[0mcount\u001b[0m\u001b[0;34m(\u001b[0m\u001b[0mself\u001b[0m\u001b[0;34m)\u001b[0m\u001b[0;34m:\u001b[0m\u001b[0;34m\u001b[0m\u001b[0m\n\u001b[0;32m----> 5\u001b[0;31m         \u001b[0mself\u001b[0m\u001b[0;34m.\u001b[0m\u001b[0m__secretCount\u001b[0m \u001b[0;34m+=\u001b[0m\u001b[0;36m1\u001b[0m\u001b[0;34m\u001b[0m\u001b[0m\n\u001b[0m\u001b[1;32m      6\u001b[0m         \u001b[0mprint\u001b[0m\u001b[0;34m(\u001b[0m\u001b[0mself\u001b[0m\u001b[0;34m.\u001b[0m\u001b[0m__secretCount\u001b[0m\u001b[0;34m)\u001b[0m\u001b[0;34m\u001b[0m\u001b[0m\n",
      "\u001b[0;31mAttributeError\u001b[0m: 'JustCounter' object has no attribute '_JustCounter__secretCount'"
     ]
    }
   ],
   "source": [
    "counter.count()"
   ]
  },
  {
   "cell_type": "code",
   "execution_count": 30,
   "metadata": {},
   "outputs": [
    {
     "ename": "AttributeError",
     "evalue": "'JustCounter' object has no attribute '_JustCounter'",
     "output_type": "error",
     "traceback": [
      "\u001b[0;31m---------------------------------------------------------------------------\u001b[0m",
      "\u001b[0;31mAttributeError\u001b[0m                            Traceback (most recent call last)",
      "\u001b[0;32m<ipython-input-30-f1cfbe90923a>\u001b[0m in \u001b[0;36m<module>\u001b[0;34m()\u001b[0m\n\u001b[0;32m----> 1\u001b[0;31m \u001b[0mprint\u001b[0m\u001b[0;34m(\u001b[0m\u001b[0mcounter\u001b[0m\u001b[0;34m.\u001b[0m\u001b[0m_JustCounter\u001b[0m\u001b[0;34m.\u001b[0m\u001b[0m__secretCount\u001b[0m\u001b[0;34m)\u001b[0m\u001b[0;34m\u001b[0m\u001b[0m\n\u001b[0m",
      "\u001b[0;31mAttributeError\u001b[0m: 'JustCounter' object has no attribute '_JustCounter'"
     ]
    }
   ],
   "source": [
    "print(counter._JustCounter.__secretCount)"
   ]
  },
  {
   "cell_type": "code",
   "execution_count": 31,
   "metadata": {
    "collapsed": true
   },
   "outputs": [],
   "source": [
    "class Person:\n",
    "    def __init__(self):\n",
    "        self.A = \"Yang\" # Public Variable\n",
    "        self.__B = \"Yum\" #Private variable\n",
    "    def PrintName(self):\n",
    "        print(self.A)\n"
   ]
  },
  {
   "cell_type": "markdown",
   "metadata": {},
   "source": [
    "##### 클래스 메소드, var는 클래스 전체에서 공유되므로 인스턴스, 클래스 모두에서 접근 가능. 그러나 인스턴스 var, method는 인스턴스에서만 접근 간으. "
   ]
  },
  {
   "cell_type": "code",
   "execution_count": 32,
   "metadata": {
    "collapsed": true
   },
   "outputs": [],
   "source": [
    "class A(object):\n",
    "    def foo(self):\n",
    "        print(\"executing foo\")\n",
    "        \n",
    "    @classmethod\n",
    "    def class_foo(cls):\n",
    "        print(\"executing class_foo\")"
   ]
  },
  {
   "cell_type": "code",
   "execution_count": 34,
   "metadata": {},
   "outputs": [],
   "source": [
    "\n",
    "class Employee:\n",
    "    empCount = 0\n",
    "    def __ini__(self, name, salary):\n",
    "        self.name = name\n",
    "        self.salary = salary\n",
    "        Employee.empCount += 1\n",
    "    \n",
    "    def displayCount(self):\n",
    "        print(\"Total employee %d\" %Employee.empCount)\n",
    "    def displayEmployees(self):\n",
    "        print(\"Name: \", self.name)"
   ]
  },
  {
   "cell_type": "markdown",
   "metadata": {},
   "source": [
    "# Binary Search Tree via Constructing classes"
   ]
  },
  {
   "cell_type": "code",
   "execution_count": 35,
   "metadata": {
    "collapsed": true
   },
   "outputs": [],
   "source": [
    "class TreeNode:\n",
    "    def __init__(self,key,val,left=None,right=None,parent=None):\n",
    "        self.key = key"
   ]
  },
  {
   "cell_type": "code",
   "execution_count": 36,
   "metadata": {},
   "outputs": [
    {
     "ename": "SyntaxError",
     "evalue": "unexpected EOF while parsing (<ipython-input-36-ac858e68fece>, line 5)",
     "output_type": "error",
     "traceback": [
      "\u001b[0;36m  File \u001b[0;32m\"<ipython-input-36-ac858e68fece>\"\u001b[0;36m, line \u001b[0;32m5\u001b[0m\n\u001b[0;31m    def __len__(self):\u001b[0m\n\u001b[0m                      ^\u001b[0m\n\u001b[0;31mSyntaxError\u001b[0m\u001b[0;31m:\u001b[0m unexpected EOF while parsing\n"
     ]
    }
   ],
   "source": [
    "class BinarySearchTree:\n",
    "    def __init__(self):\n",
    "        self.root = None\n",
    "        self.size = 0\n",
    "    def __len__(self):"
   ]
  },
  {
   "cell_type": "code",
   "execution_count": 37,
   "metadata": {},
   "outputs": [
    {
     "ename": "SyntaxError",
     "evalue": "invalid syntax (<ipython-input-37-4eec9ff11496>, line 1)",
     "output_type": "error",
     "traceback": [
      "\u001b[0;36m  File \u001b[0;32m\"<ipython-input-37-4eec9ff11496>\"\u001b[0;36m, line \u001b[0;32m1\u001b[0m\n\u001b[0;31m    self put(self, key,val):\u001b[0m\n\u001b[0m           ^\u001b[0m\n\u001b[0;31mSyntaxError\u001b[0m\u001b[0;31m:\u001b[0m invalid syntax\n"
     ]
    }
   ],
   "source": [
    "self put(self, key,val):\n",
    "    if self.root:\n",
    "        self._put(key, val, self.root)\n",
    "    else:\n",
    "        self.root = TreeNode(key,val)\n",
    "    self.size +=1"
   ]
  },
  {
   "cell_type": "markdown",
   "metadata": {},
   "source": [
    "# 따라해보기! Coding! "
   ]
  },
  {
   "cell_type": "code",
   "execution_count": 40,
   "metadata": {},
   "outputs": [
    {
     "ename": "IndentationError",
     "evalue": "expected an indented block (<ipython-input-40-67b282d8c00d>, line 10)",
     "output_type": "error",
     "traceback": [
      "\u001b[0;36m  File \u001b[0;32m\"<ipython-input-40-67b282d8c00d>\"\u001b[0;36m, line \u001b[0;32m10\u001b[0m\n\u001b[0;31m    def hasRightChild(self):\u001b[0m\n\u001b[0m      ^\u001b[0m\n\u001b[0;31mIndentationError\u001b[0m\u001b[0;31m:\u001b[0m expected an indented block\n"
     ]
    }
   ],
   "source": [
    "class TreeNode:\n",
    "    def __init__(self, key, val, left = None, right=None, parent = None):\n",
    "        self.key = key\n",
    "        self.node_val = val\n",
    "        self.leftChild = left\n",
    "        self.rightChild = right\n",
    "        self.parent = parent\n",
    "    def hasLeftChild(self):\n",
    "        \n",
    "    def hasRightChild(self):\n",
    "    \n",
    "    def isLeftChild(self):\n",
    "        \n",
    "    def isRightChild(self):\n",
    "    \n",
    "    def isRoot(self):\n",
    "        \n",
    "    def isLeaf(self):\n",
    "        \n",
    "    def hasAnyChildren(self):\n",
    "        \n",
    "    def hasBothChildre(self):\n",
    "    \n",
    "    def replaceNodeData(self, key, value, lc, rc):\n",
    "        \n",
    "    def findSuccessor(self):\n",
    "        # if self is a leaf, then return no-successor\n",
    "        # if self has right child, return righit child side's minimum\n",
    "        # self has parent and left, the return parent\n",
    "    \n",
    "    def findMin(self):\n",
    "        if self.hasLeftChild():\n",
    "            return self.leftChild.findMin()\n",
    "        else:\n",
    "            return self\n",
    "        \n",
    "    def sliceOut(self):\n",
    "        # move node's child to its own position\n",
    "        if self.parent and self.hasRightChild():\n",
    "            if self.isLeftChild():\n",
    "                self.parent.leftChild = self.rightChild\n",
    "            else:\n",
    "                self.parent.rightChild = self.rightChild\n",
    "    \n",
    "    \n",
    "    def inorder_traverse(self):\n",
    "        # in-order traverse prints out a sorted list\n",
    "        if self.hasLeftChild():\n",
    "            self.leftChild.inorder_traverse()\n",
    "        print(self.node_val)\n",
    "        if self.hasRightChild():\n",
    "            self.rightChild.inorder_traverse()"
   ]
  },
  {
   "cell_type": "code",
   "execution_count": 41,
   "metadata": {},
   "outputs": [
    {
     "ename": "IndentationError",
     "evalue": "expected an indented block (<ipython-input-41-0a050dcd13da>, line 8)",
     "output_type": "error",
     "traceback": [
      "\u001b[0;36m  File \u001b[0;32m\"<ipython-input-41-0a050dcd13da>\"\u001b[0;36m, line \u001b[0;32m8\u001b[0m\n\u001b[0;31m    def put(self, key, val):\u001b[0m\n\u001b[0m      ^\u001b[0m\n\u001b[0;31mIndentationError\u001b[0m\u001b[0;31m:\u001b[0m expected an indented block\n"
     ]
    }
   ],
   "source": [
    "class BinarySearchTree:\n",
    "    def __init__(self):\n",
    "        self.root = None\n",
    "        self.size = 0\n",
    "    \n",
    "    def __len__(self):\n",
    "        \n",
    "    def put(self, key, val):\n",
    "        if self.root:\n",
    "            self_put(key, val, self.root)\n",
    "        else:\n",
    "            self.root = TreeNode(key, val)\n",
    "        self.size += 1\n",
    "    \n",
    "    def get(self, key):\n",
    "        if self.root:\n",
    "            res = self._get(key, self.root)\n",
    "            if res:\n",
    "                return res.node_val\n",
    "            else:\n",
    "                return None\n",
    "        return None\n",
    "    \n",
    "    def delete(self, key):\n",
    "        if self.size > 1:\n",
    "            noteToRemove = self._get(key, self.root)\n",
    "            if node ToRemove:\n",
    "                self.remove(nodeToRemove)\n",
    "                self.size -= 1\n",
    "            else: raise KeyError('Error, key is not in tree')\n",
    "        elif self.size == 1 and self.root.key == key:\n",
    "            self.root = None\n",
    "            self.size = 0\n",
    "        else: raise KeyError('Error, key not in tree')"
   ]
  },
  {
   "cell_type": "code",
   "execution_count": null,
   "metadata": {
    "collapsed": true
   },
   "outputs": [],
   "source": []
  }
 ],
 "metadata": {
  "kernelspec": {
   "display_name": "Python 3",
   "language": "python",
   "name": "python3"
  },
  "language_info": {
   "codemirror_mode": {
    "name": "ipython",
    "version": 3
   },
   "file_extension": ".py",
   "mimetype": "text/x-python",
   "name": "python",
   "nbconvert_exporter": "python",
   "pygments_lexer": "ipython3",
   "version": "3.6.1"
  }
 },
 "nbformat": 4,
 "nbformat_minor": 2
}
