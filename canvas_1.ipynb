{
 "cells": [
  {
   "cell_type": "code",
   "execution_count": 2,
   "metadata": {},
   "outputs": [
    {
     "name": "stdout",
     "output_type": "stream",
     "text": [
      "bye!\n"
     ]
    }
   ],
   "source": [
    "# canvas_1\n",
    "from tkinter import *\n",
    "def draw(canvas, width, height):\n",
    "    pass\n",
    "def runDrawing(width = 300, height = 300):\n",
    "    root = Tk()\n",
    "    canvas = Canvas(root, width = width , height = height )\n",
    "    canvas.pack()\n",
    "    draw(canvas, width, height)\n",
    "    root.mainloop()\n",
    "    print(\"bye!\")\n",
    "runDrawing(400,200)"
   ]
  },
  {
   "cell_type": "code",
   "execution_count": null,
   "metadata": {
    "collapsed": true
   },
   "outputs": [],
   "source": []
  }
 ],
 "metadata": {
  "kernelspec": {
   "display_name": "Python 3",
   "language": "python",
   "name": "python3"
  },
  "language_info": {
   "codemirror_mode": {
    "name": "ipython",
    "version": 3
   },
   "file_extension": ".py",
   "mimetype": "text/x-python",
   "name": "python",
   "nbconvert_exporter": "python",
   "pygments_lexer": "ipython3",
   "version": "3.6.1"
  }
 },
 "nbformat": 4,
 "nbformat_minor": 2
}
