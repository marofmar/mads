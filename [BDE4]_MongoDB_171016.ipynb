{
 "cells": [
  {
   "cell_type": "code",
   "execution_count": 1,
   "metadata": {
    "collapsed": true
   },
   "outputs": [],
   "source": [
    "import pymongo"
   ]
  },
  {
   "cell_type": "code",
   "execution_count": 2,
   "metadata": {
    "collapsed": true
   },
   "outputs": [],
   "source": [
    "from pymongo import MongoClient\n",
    "client = MongoClient()\n",
    "client = MongoClient('localhost',27017)"
   ]
  },
  {
   "cell_type": "code",
   "execution_count": 4,
   "metadata": {},
   "outputs": [],
   "source": [
    "db = client.people"
   ]
  },
  {
   "cell_type": "code",
   "execution_count": 7,
   "metadata": {},
   "outputs": [],
   "source": [
    "\n",
    "result = db.people.insert_many([\n",
    "    {\"name\":\"Kim\",\"age\":21},\n",
    "    {\"name\":\"Lee\",\"age\":22},\n",
    "    {\"name\":\"Jung\",\"age\":27},\n",
    "    {\"name\":\"Park\",\"age\":27,\"skills\":[\"mongodb\",\"python\"]},\n",
    "    {\"name\":\"Choi\",\"age\":22,\"score\":10}\n",
    "])"
   ]
  },
  {
   "cell_type": "code",
   "execution_count": 11,
   "metadata": {},
   "outputs": [
    {
     "name": "stderr",
     "output_type": "stream",
     "text": [
      "/home/snu/anaconda3/lib/python3.6/site-packages/ipykernel_launcher.py:1: DeprecationWarning: remove is deprecated. Use delete_one or delete_many instead.\n",
      "  \"\"\"Entry point for launching an IPython kernel.\n"
     ]
    },
    {
     "data": {
      "text/plain": [
       "{'n': 0, 'ok': 1.0}"
      ]
     },
     "execution_count": 11,
     "metadata": {},
     "output_type": "execute_result"
    }
   ],
   "source": [
    "db.people.remove(\"jung\")"
   ]
  },
  {
   "cell_type": "code",
   "execution_count": 18,
   "metadata": {},
   "outputs": [],
   "source": [
    "a = client.database_names()"
   ]
  },
  {
   "cell_type": "code",
   "execution_count": 19,
   "metadata": {},
   "outputs": [
    {
     "data": {
      "text/plain": [
       "['admin', 'people', 'lab2', 'test', 'local']"
      ]
     },
     "execution_count": 19,
     "metadata": {},
     "output_type": "execute_result"
    }
   ],
   "source": [
    "a"
   ]
  },
  {
   "cell_type": "code",
   "execution_count": 20,
   "metadata": {},
   "outputs": [],
   "source": [
    "db = client.test_database"
   ]
  },
  {
   "cell_type": "code",
   "execution_count": 21,
   "metadata": {
    "collapsed": true
   },
   "outputs": [],
   "source": [
    "db = client['test_database']"
   ]
  },
  {
   "cell_type": "code",
   "execution_count": 22,
   "metadata": {},
   "outputs": [
    {
     "name": "stdout",
     "output_type": "stream",
     "text": [
      "Database(MongoClient(host=['localhost:27017'], document_class=dict, tz_aware=False, connect=True), 'test_database')\n"
     ]
    }
   ],
   "source": [
    "print(db)"
   ]
  },
  {
   "cell_type": "code",
   "execution_count": 23,
   "metadata": {},
   "outputs": [
    {
     "data": {
      "text/plain": [
       "[]"
      ]
     },
     "execution_count": 23,
     "metadata": {},
     "output_type": "execute_result"
    }
   ],
   "source": [
    "db.collection_names()"
   ]
  },
  {
   "cell_type": "code",
   "execution_count": 24,
   "metadata": {
    "collapsed": true
   },
   "outputs": [],
   "source": [
    "collection = db.test_collection\n",
    "collection = db['test_collection']"
   ]
  },
  {
   "cell_type": "code",
   "execution_count": 25,
   "metadata": {},
   "outputs": [
    {
     "data": {
      "text/plain": [
       "[]"
      ]
     },
     "execution_count": 25,
     "metadata": {},
     "output_type": "execute_result"
    }
   ],
   "source": [
    "db.collection_names() "
   ]
  },
  {
   "cell_type": "code",
   "execution_count": 28,
   "metadata": {},
   "outputs": [],
   "source": [
    "d = dict((db.lab2,[collection for collection in client[db.lab2].collection_names()])\n",
    "        for db.lab2 in client.database_names())"
   ]
  },
  {
   "cell_type": "code",
   "execution_count": 29,
   "metadata": {},
   "outputs": [
    {
     "name": "stdout",
     "output_type": "stream",
     "text": [
      "{'admin': ['system.indexes', 'system.version'], 'people': ['people', 'system.indexes'], 'lab2': ['system.indexes', 'apples'], 'test': ['people', 'posts', 'system.indexes', 'class', 'test', 'foo', 'users'], 'local': ['startup_log', 'system.indexes']}\n"
     ]
    }
   ],
   "source": [
    "print(d)"
   ]
  },
  {
   "cell_type": "code",
   "execution_count": 30,
   "metadata": {
    "collapsed": true
   },
   "outputs": [],
   "source": [
    "def main():\n",
    "    client = MongoClient()\n",
    "    db = client.lab2\n",
    "    "
   ]
  },
  {
   "cell_type": "code",
   "execution_count": 32,
   "metadata": {},
   "outputs": [
    {
     "data": {
      "text/plain": [
       "<pymongo.results.InsertOneResult at 0x7faa509279c8>"
      ]
     },
     "execution_count": 32,
     "metadata": {},
     "output_type": "execute_result"
    }
   ],
   "source": [
    "db = client.lab2\n",
    "db.posts.insert_one(\n",
    "{\"Author\": \"your name\", \"Text\": \"Hellow World!\"})"
   ]
  },
  {
   "cell_type": "code",
   "execution_count": 34,
   "metadata": {},
   "outputs": [],
   "source": [
    "cursor = db.posts.find()"
   ]
  },
  {
   "cell_type": "code",
   "execution_count": 35,
   "metadata": {},
   "outputs": [
    {
     "name": "stdout",
     "output_type": "stream",
     "text": [
      "{'_id': ObjectId('59e4544a5c7e8210969fea54'), 'Author': 'your name', 'Text': 'Hellow World!'}\n"
     ]
    }
   ],
   "source": [
    "for document in cursor: print(document)"
   ]
  },
  {
   "cell_type": "code",
   "execution_count": 41,
   "metadata": {},
   "outputs": [
    {
     "data": {
      "text/plain": [
       "<pymongo.results.InsertManyResult at 0x7faa50907648>"
      ]
     },
     "execution_count": 41,
     "metadata": {},
     "output_type": "execute_result"
    }
   ],
   "source": [
    "db.posts.insert_many([\n",
    "    {\"name\": \"Kim\", \"age\": 21},\n",
    "    {\"name\": \"Lee\", \"age\": 22},\n",
    "    {\"name\": \"Park\", \"age\": 27, \"skills\": [\"mongoDB\", \"python\"]},\n",
    "    {\"name\": \"Choi\", \"age\": 22, \"score\": 10}\n",
    "])"
   ]
  },
  {
   "cell_type": "code",
   "execution_count": 42,
   "metadata": {
    "collapsed": true
   },
   "outputs": [],
   "source": [
    "k = db.posts.find()"
   ]
  },
  {
   "cell_type": "code",
   "execution_count": 43,
   "metadata": {},
   "outputs": [
    {
     "name": "stdout",
     "output_type": "stream",
     "text": [
      "{'_id': ObjectId('59e4544a5c7e8210969fea54'), 'Author': 'your name', 'Text': 'Hellow World!'}\n",
      "{'_id': ObjectId('59e454f35c7e8210969fea55'), 'name': 'Kim', 'age': 21}\n",
      "{'_id': ObjectId('59e454f35c7e8210969fea56'), 'name': 'Lee', 'age': 22}\n",
      "{'_id': ObjectId('59e454f35c7e8210969fea57'), 'name': 'Park', 'age': 27, 'skills': ['mongoDB', 'python']}\n",
      "{'_id': ObjectId('59e454f35c7e8210969fea58'), 'name': 'Choi', 'age': 22, 'score': 10}\n",
      "{'_id': ObjectId('59e455085c7e8210969fea59'), 'name': 'Kim', 'age': 21}\n",
      "{'_id': ObjectId('59e455085c7e8210969fea5a'), 'name': 'Lee', 'age': 22}\n",
      "{'_id': ObjectId('59e455085c7e8210969fea5b'), 'name': 'Park', 'age': 27, 'skills': ['mongoDB', 'python']}\n",
      "{'_id': ObjectId('59e455085c7e8210969fea5c'), 'name': 'Choi', 'age': 22, 'score': 10}\n",
      "{'_id': ObjectId('59e455255c7e8210969fea5d'), 'name': 'Kim', 'age': 21}\n",
      "{'_id': ObjectId('59e455255c7e8210969fea5e'), 'name': 'Lee', 'age': 22}\n",
      "{'_id': ObjectId('59e455255c7e8210969fea5f'), 'name': 'Park', 'age': 27, 'skills': ['mongoDB', 'python']}\n",
      "{'_id': ObjectId('59e455255c7e8210969fea60'), 'name': 'Choi', 'age': 22, 'score': 10}\n"
     ]
    }
   ],
   "source": [
    "for document in k: print(document)"
   ]
  },
  {
   "cell_type": "code",
   "execution_count": 44,
   "metadata": {},
   "outputs": [
    {
     "name": "stderr",
     "output_type": "stream",
     "text": [
      "/home/snu/anaconda3/lib/python3.6/site-packages/ipykernel_launcher.py:3: DeprecationWarning: update is deprecated. Use replace_one, update_one or update_many instead.\n",
      "  This is separate from the ipykernel package so we can avoid doing imports until\n"
     ]
    },
    {
     "data": {
      "text/plain": [
       "{'n': 1, 'nModified': 1, 'ok': 1.0, 'updatedExisting': True}"
      ]
     },
     "execution_count": 44,
     "metadata": {},
     "output_type": "execute_result"
    }
   ],
   "source": [
    "db.posts.update(\n",
    "{\"name\": \"Lee\"},\n",
    "{\"name\": \"Lim\", \"age\": 25})"
   ]
  },
  {
   "cell_type": "code",
   "execution_count": 46,
   "metadata": {},
   "outputs": [],
   "source": [
    "l = db.posts.find()"
   ]
  },
  {
   "cell_type": "code",
   "execution_count": 47,
   "metadata": {},
   "outputs": [
    {
     "name": "stdout",
     "output_type": "stream",
     "text": [
      "{'_id': ObjectId('59e4544a5c7e8210969fea54'), 'Author': 'your name', 'Text': 'Hellow World!'}\n",
      "{'_id': ObjectId('59e454f35c7e8210969fea55'), 'name': 'Kim', 'age': 21}\n",
      "{'_id': ObjectId('59e454f35c7e8210969fea56'), 'name': 'Lim', 'age': 25}\n",
      "{'_id': ObjectId('59e454f35c7e8210969fea57'), 'name': 'Park', 'age': 27, 'skills': ['mongoDB', 'python']}\n",
      "{'_id': ObjectId('59e454f35c7e8210969fea58'), 'name': 'Choi', 'age': 22, 'score': 10}\n",
      "{'_id': ObjectId('59e455085c7e8210969fea59'), 'name': 'Kim', 'age': 21}\n",
      "{'_id': ObjectId('59e455085c7e8210969fea5a'), 'name': 'Lee', 'age': 22}\n",
      "{'_id': ObjectId('59e455085c7e8210969fea5b'), 'name': 'Park', 'age': 27, 'skills': ['mongoDB', 'python']}\n",
      "{'_id': ObjectId('59e455085c7e8210969fea5c'), 'name': 'Choi', 'age': 22, 'score': 10}\n",
      "{'_id': ObjectId('59e455255c7e8210969fea5d'), 'name': 'Kim', 'age': 21}\n",
      "{'_id': ObjectId('59e455255c7e8210969fea5e'), 'name': 'Lee', 'age': 22}\n",
      "{'_id': ObjectId('59e455255c7e8210969fea5f'), 'name': 'Park', 'age': 27, 'skills': ['mongoDB', 'python']}\n",
      "{'_id': ObjectId('59e455255c7e8210969fea60'), 'name': 'Choi', 'age': 22, 'score': 10}\n"
     ]
    }
   ],
   "source": [
    "for doc in l: print(doc)"
   ]
  },
  {
   "cell_type": "code",
   "execution_count": 48,
   "metadata": {},
   "outputs": [
    {
     "name": "stderr",
     "output_type": "stream",
     "text": [
      "/home/snu/anaconda3/lib/python3.6/site-packages/ipykernel_launcher.py:1: DeprecationWarning: update is deprecated. Use replace_one, update_one or update_many instead.\n",
      "  \"\"\"Entry point for launching an IPython kernel.\n"
     ]
    },
    {
     "data": {
      "text/plain": [
       "{'n': 1, 'nModified': 1, 'ok': 1.0, 'updatedExisting': True}"
      ]
     },
     "execution_count": 48,
     "metadata": {},
     "output_type": "execute_result"
    }
   ],
   "source": [
    "db.posts.update({\"name\": \"Kim\"},{\"name\": \"Kim\", \"age\": 20})"
   ]
  },
  {
   "cell_type": "code",
   "execution_count": 49,
   "metadata": {
    "collapsed": true
   },
   "outputs": [],
   "source": [
    "m  =db.posts.find()"
   ]
  },
  {
   "cell_type": "code",
   "execution_count": 50,
   "metadata": {
    "scrolled": true
   },
   "outputs": [
    {
     "name": "stdout",
     "output_type": "stream",
     "text": [
      "{'_id': ObjectId('59e4544a5c7e8210969fea54'), 'Author': 'your name', 'Text': 'Hellow World!'}\n",
      "{'_id': ObjectId('59e454f35c7e8210969fea55'), 'name': 'Kim', 'age': 20}\n",
      "{'_id': ObjectId('59e454f35c7e8210969fea56'), 'name': 'Lim', 'age': 25}\n",
      "{'_id': ObjectId('59e454f35c7e8210969fea57'), 'name': 'Park', 'age': 27, 'skills': ['mongoDB', 'python']}\n",
      "{'_id': ObjectId('59e454f35c7e8210969fea58'), 'name': 'Choi', 'age': 22, 'score': 10}\n",
      "{'_id': ObjectId('59e455085c7e8210969fea59'), 'name': 'Kim', 'age': 21}\n",
      "{'_id': ObjectId('59e455085c7e8210969fea5a'), 'name': 'Lee', 'age': 22}\n",
      "{'_id': ObjectId('59e455085c7e8210969fea5b'), 'name': 'Park', 'age': 27, 'skills': ['mongoDB', 'python']}\n",
      "{'_id': ObjectId('59e455085c7e8210969fea5c'), 'name': 'Choi', 'age': 22, 'score': 10}\n",
      "{'_id': ObjectId('59e455255c7e8210969fea5d'), 'name': 'Kim', 'age': 21}\n",
      "{'_id': ObjectId('59e455255c7e8210969fea5e'), 'name': 'Lee', 'age': 22}\n",
      "{'_id': ObjectId('59e455255c7e8210969fea5f'), 'name': 'Park', 'age': 27, 'skills': ['mongoDB', 'python']}\n",
      "{'_id': ObjectId('59e455255c7e8210969fea60'), 'name': 'Choi', 'age': 22, 'score': 10}\n"
     ]
    }
   ],
   "source": [
    "for doc in m: print(doc)"
   ]
  },
  {
   "cell_type": "code",
   "execution_count": 52,
   "metadata": {},
   "outputs": [
    {
     "name": "stderr",
     "output_type": "stream",
     "text": [
      "/home/snu/anaconda3/lib/python3.6/site-packages/ipykernel_launcher.py:1: DeprecationWarning: update is deprecated. Use replace_one, update_one or update_many instead.\n",
      "  \"\"\"Entry point for launching an IPython kernel.\n"
     ]
    },
    {
     "data": {
      "text/plain": [
       "{'n': 1, 'nModified': 1, 'ok': 1.0, 'updatedExisting': True}"
      ]
     },
     "execution_count": 52,
     "metadata": {},
     "output_type": "execute_result"
    }
   ],
   "source": [
    "db.posts.update({\"name\": \"Park\"},{\"$unset\": {\"skills\":\"\"}})"
   ]
  },
  {
   "cell_type": "code",
   "execution_count": 53,
   "metadata": {},
   "outputs": [
    {
     "name": "stdout",
     "output_type": "stream",
     "text": [
      "{'_id': ObjectId('59e4544a5c7e8210969fea54'), 'Author': 'your name', 'Text': 'Hellow World!'}\n",
      "{'_id': ObjectId('59e454f35c7e8210969fea55'), 'name': 'Kim', 'age': 20}\n",
      "{'_id': ObjectId('59e454f35c7e8210969fea56'), 'name': 'Lim', 'age': 25}\n",
      "{'_id': ObjectId('59e454f35c7e8210969fea57'), 'name': 'Park', 'age': 27}\n",
      "{'_id': ObjectId('59e454f35c7e8210969fea58'), 'name': 'Choi', 'age': 22, 'score': 10}\n",
      "{'_id': ObjectId('59e455085c7e8210969fea59'), 'name': 'Kim', 'age': 21}\n",
      "{'_id': ObjectId('59e455085c7e8210969fea5a'), 'name': 'Lee', 'age': 22}\n",
      "{'_id': ObjectId('59e455085c7e8210969fea5b'), 'name': 'Park', 'age': 27, 'skills': ['mongoDB', 'python']}\n",
      "{'_id': ObjectId('59e455085c7e8210969fea5c'), 'name': 'Choi', 'age': 22, 'score': 10}\n",
      "{'_id': ObjectId('59e455255c7e8210969fea5d'), 'name': 'Kim', 'age': 21}\n",
      "{'_id': ObjectId('59e455255c7e8210969fea5e'), 'name': 'Lee', 'age': 22}\n",
      "{'_id': ObjectId('59e455255c7e8210969fea5f'), 'name': 'Park', 'age': 27, 'skills': ['mongoDB', 'python']}\n",
      "{'_id': ObjectId('59e455255c7e8210969fea60'), 'name': 'Choi', 'age': 22, 'score': 10}\n"
     ]
    }
   ],
   "source": [
    "n = db.posts.find()\n",
    "for doc in n: print(doc)"
   ]
  },
  {
   "cell_type": "code",
   "execution_count": 76,
   "metadata": {},
   "outputs": [],
   "source": [
    "with open(\"/home/snu/Downloads/grade.txt\") as f:\n",
    "    content = f.readlines()\n",
    "content = [x.strip() for x in content]"
   ]
  },
  {
   "cell_type": "code",
   "execution_count": 77,
   "metadata": {},
   "outputs": [
    {
     "data": {
      "text/plain": [
       "['30',\n",
       " '1 1 0 1 1 0 0 1 0 0',\n",
       " '0 1 0 1 0 0 0 0 0 0',\n",
       " '1 0 0 1 1 1 0 1 1 0',\n",
       " '1 0 1 0 1 0 0 1 1 0',\n",
       " '1 0 1 0 1 0 1 0 0 0',\n",
       " '0 1 1 0 1 1 1 1 0 0',\n",
       " '1 1 0 0 1 1 0 1 1 0',\n",
       " '1 0 0 1 0 1 1 0 1 1',\n",
       " '1 1 1 0 0 0 0 1 1 0',\n",
       " '0 1 0 0 1 1 0 0 1 1',\n",
       " '0 0 1 0 1 0 1 0 0 1',\n",
       " '0 1 0 1 1 0 1 0 0 0',\n",
       " '0 0 1 0 0 1 0 0 1 1',\n",
       " '1 1 1 1 1 1 1 0 1 1',\n",
       " '1 1 1 0 0 0 0 1 0 0',\n",
       " '1 1 1 1 1 1 1 1 1 1',\n",
       " '0 1 0 0 0 1 1 1 0 0',\n",
       " '0 1 0 1 1 0 0 0 0 0',\n",
       " '0 0 1 1 1 1 0 0 0 1',\n",
       " '1 1 0 0 1 0 1 0 1 1',\n",
       " '1 1 1 1 1 1 1 1 1 1',\n",
       " '0 1 1 1 0 0 0 0 0 1',\n",
       " '1 0 0 0 0 1 0 1 1 0',\n",
       " '1 1 0 0 0 1 0 1 1 1',\n",
       " '0 1 0 1 0 0 1 1 0 0',\n",
       " '0 1 0 0 1 0 1 0 1 0',\n",
       " '0 0 1 0 1 1 1 1 0 0',\n",
       " '0 0 1 0 1 0 0 1 1 0',\n",
       " '1 1 1 1 1 1 1 0 1 0',\n",
       " '0 1 1 1 1 1 1 0 0 1']"
      ]
     },
     "execution_count": 77,
     "metadata": {},
     "output_type": "execute_result"
    }
   ],
   "source": [
    "content"
   ]
  },
  {
   "cell_type": "code",
   "execution_count": 69,
   "metadata": {
    "collapsed": true
   },
   "outputs": [],
   "source": [
    "grades = content[1:]"
   ]
  },
  {
   "cell_type": "code",
   "execution_count": 79,
   "metadata": {},
   "outputs": [
    {
     "name": "stdout",
     "output_type": "stream",
     "text": [
      "1 1 0 1 1 0 0 1 0 0\n",
      "0 1 0 1 0 0 0 0 0 0\n",
      "1 0 0 1 1 1 0 1 1 0\n",
      "1 0 1 0 1 0 0 1 1 0\n",
      "1 0 1 0 1 0 1 0 0 0\n",
      "0 1 1 0 1 1 1 1 0 0\n",
      "1 1 0 0 1 1 0 1 1 0\n",
      "1 0 0 1 0 1 1 0 1 1\n",
      "1 1 1 0 0 0 0 1 1 0\n",
      "0 1 0 0 1 1 0 0 1 1\n",
      "0 0 1 0 1 0 1 0 0 1\n",
      "0 1 0 1 1 0 1 0 0 0\n",
      "0 0 1 0 0 1 0 0 1 1\n",
      "1 1 1 1 1 1 1 0 1 1\n",
      "1 1 1 0 0 0 0 1 0 0\n",
      "1 1 1 1 1 1 1 1 1 1\n",
      "0 1 0 0 0 1 1 1 0 0\n",
      "0 1 0 1 1 0 0 0 0 0\n",
      "0 0 1 1 1 1 0 0 0 1\n",
      "1 1 0 0 1 0 1 0 1 1\n",
      "1 1 1 1 1 1 1 1 1 1\n",
      "0 1 1 1 0 0 0 0 0 1\n",
      "1 0 0 0 0 1 0 1 1 0\n",
      "1 1 0 0 0 1 0 1 1 1\n",
      "0 1 0 1 0 0 1 1 0 0\n",
      "0 1 0 0 1 0 1 0 1 0\n",
      "0 0 1 0 1 1 1 1 0 0\n",
      "0 0 1 0 1 0 0 1 1 0\n",
      "1 1 1 1 1 1 1 0 1 0\n",
      "0 1 1 1 1 1 1 0 0 1\n"
     ]
    }
   ],
   "source": [
    "for i in grades:\n",
    "    print(i.strip())\n"
   ]
  },
  {
   "cell_type": "code",
   "execution_count": null,
   "metadata": {
    "collapsed": true
   },
   "outputs": [],
   "source": [
    "from itertools import groupby\n"
   ]
  }
 ],
 "metadata": {
  "kernelspec": {
   "display_name": "Python 3",
   "language": "python",
   "name": "python3"
  },
  "language_info": {
   "codemirror_mode": {
    "name": "ipython",
    "version": 3
   },
   "file_extension": ".py",
   "mimetype": "text/x-python",
   "name": "python",
   "nbconvert_exporter": "python",
   "pygments_lexer": "ipython3",
   "version": "3.6.1"
  }
 },
 "nbformat": 4,
 "nbformat_minor": 2
}
